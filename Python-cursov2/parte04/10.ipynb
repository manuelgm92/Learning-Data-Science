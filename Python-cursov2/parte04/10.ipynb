{
 "cells": [
  {
   "cell_type": "code",
   "execution_count": 2,
   "metadata": {},
   "outputs": [
    {
     "name": "stdout",
     "output_type": "stream",
     "text": [
      "{'propiedad1': '23fre'}\n"
     ]
    }
   ],
   "source": [
    "diccionario_1 = {\"propiedad1\": 1,\"propiedad1\": 2, \"propiedad3\" : [1,2,3]}\n",
    "\n",
    "diccionario_2 = dict()\n",
    "\n",
    "diccionario_2[\"propiedad1\"]= \"23fre\"\n",
    "\n",
    "print(diccionario_2)"
   ]
  },
  {
   "cell_type": "code",
   "execution_count": 4,
   "metadata": {},
   "outputs": [
    {
     "name": "stdout",
     "output_type": "stream",
     "text": [
      "{'id': 1001, 'marca': 'MSI', 'ram': 128, 'cpu': 'Intel i7'}\n",
      "<class 'dict'>\n",
      "4\n"
     ]
    }
   ],
   "source": [
    "computador = {\"id\": 1001, \"marca\": \"MSI\", \"ram\": 128, \"cpu\": \"Intel i7\"}\n",
    "\n",
    "\n",
    "print(computador)\n",
    "print(type(computador))\n",
    "\n",
    "print(len(computador))"
   ]
  },
  {
   "cell_type": "code",
   "execution_count": 9,
   "metadata": {},
   "outputs": [
    {
     "name": "stdout",
     "output_type": "stream",
     "text": [
      "Id: 1001\n",
      "Marca: MSI\n",
      "RAM: 128\n",
      "CPU: Intel i7\n"
     ]
    }
   ],
   "source": [
    "print(f'Id: {computador[\"id\"]}')\n",
    "print(f'Marca: {computador[\"marca\"]}')\n",
    "print(f'RAM: {computador[\"ram\"]}')\n",
    "print(f'CPU: {computador[\"cpu\"]}')"
   ]
  },
  {
   "cell_type": "code",
   "execution_count": 11,
   "metadata": {},
   "outputs": [
    {
     "data": {
      "text/plain": [
       "'No existe'"
      ]
     },
     "execution_count": 11,
     "metadata": {},
     "output_type": "execute_result"
    }
   ],
   "source": [
    "computador.get(\"tarjeta gráfica\", \"No existe\")"
   ]
  },
  {
   "cell_type": "code",
   "execution_count": 12,
   "metadata": {},
   "outputs": [
    {
     "name": "stdout",
     "output_type": "stream",
     "text": [
      "{'id': 1234, 'marca': 'MSI', 'ram': 128, 'cpu': 'Intel i7'}\n"
     ]
    }
   ],
   "source": [
    "computador[\"id\"] = 1234\n",
    "\n",
    "print(computador)"
   ]
  },
  {
   "cell_type": "code",
   "execution_count": 25,
   "metadata": {},
   "outputs": [
    {
     "name": "stdout",
     "output_type": "stream",
     "text": [
      "ID 1234\n",
      "MARCA MSI\n",
      "RAM 128\n",
      "CPU Intel i7\n"
     ]
    }
   ],
   "source": [
    "for p in computador.keys():\n",
    "    print(p.upper(),computador[p])"
   ]
  },
  {
   "cell_type": "code",
   "execution_count": 19,
   "metadata": {},
   "outputs": [
    {
     "name": "stdout",
     "output_type": "stream",
     "text": [
      "1234\n",
      "MSI\n",
      "128\n",
      "Intel i7\n"
     ]
    }
   ],
   "source": [
    "for p in computador.values():\n",
    "    print(p)"
   ]
  },
  {
   "cell_type": "code",
   "execution_count": 31,
   "metadata": {},
   "outputs": [
    {
     "name": "stdout",
     "output_type": "stream",
     "text": [
      "ID : 1234\n",
      "MARCA : MSI\n",
      "RAM : 128\n",
      "CPU : Intel i7\n"
     ]
    }
   ],
   "source": [
    "for k, v in computador.items():\n",
    "    print(k.upper(),\":\" , v)"
   ]
  },
  {
   "cell_type": "code",
   "execution_count": 33,
   "metadata": {},
   "outputs": [
    {
     "name": "stdout",
     "output_type": "stream",
     "text": [
      "['id', 'marca', 'ram', 'cpu'] 4\n"
     ]
    }
   ],
   "source": [
    "atributos = list(computador)\n",
    "\n",
    "print(atributos, len(atributos))"
   ]
  },
  {
   "cell_type": "code",
   "execution_count": 36,
   "metadata": {},
   "outputs": [
    {
     "name": "stdout",
     "output_type": "stream",
     "text": [
      "False\n",
      "True\n",
      "False\n"
     ]
    }
   ],
   "source": [
    "print(\"board\" in computador)\n",
    "print(\"marca\" in computador)\n",
    "print(\"r\" in computador)"
   ]
  },
  {
   "cell_type": "code",
   "execution_count": 37,
   "metadata": {},
   "outputs": [
    {
     "ename": "KeyError",
     "evalue": "'diskette'",
     "output_type": "error",
     "traceback": [
      "\u001b[1;31m---------------------------------------------------------------------------\u001b[0m",
      "\u001b[1;31mKeyError\u001b[0m                                  Traceback (most recent call last)",
      "Cell \u001b[1;32mIn[37], line 1\u001b[0m\n\u001b[1;32m----> 1\u001b[0m computador\u001b[39m.\u001b[39;49mpop(\u001b[39m\"\u001b[39;49m\u001b[39mdiskette\u001b[39;49m\u001b[39m\"\u001b[39;49m)\n",
      "\u001b[1;31mKeyError\u001b[0m: 'diskette'"
     ]
    }
   ],
   "source": [
    "computador.pop(\"diskette\")"
   ]
  },
  {
   "cell_type": "code",
   "execution_count": 39,
   "metadata": {},
   "outputs": [],
   "source": [
    "computador = {\"id\": 1001, \"marca\": \"MSI\", \"ram\": 128, \"cpu\": \"Intel i7\"}"
   ]
  },
  {
   "cell_type": "code",
   "execution_count": 41,
   "metadata": {},
   "outputs": [
    {
     "name": "stdout",
     "output_type": "stream",
     "text": [
      "Dispositivo no presente en el computador\n",
      "{'id': 1001, 'marca': 'MSI', 'ram': 128}\n"
     ]
    }
   ],
   "source": [
    "valor = computador.pop(\"cpu\", \"Dispositivo no presente en el computador\")\n",
    "print(valor)\n",
    "print(computador)"
   ]
  },
  {
   "cell_type": "code",
   "execution_count": 42,
   "metadata": {},
   "outputs": [
    {
     "ename": "TypeError",
     "evalue": "dict.popitem() takes no arguments (1 given)",
     "output_type": "error",
     "traceback": [
      "\u001b[1;31m---------------------------------------------------------------------------\u001b[0m",
      "\u001b[1;31mTypeError\u001b[0m                                 Traceback (most recent call last)",
      "Cell \u001b[1;32mIn[42], line 1\u001b[0m\n\u001b[1;32m----> 1\u001b[0m computador\u001b[39m.\u001b[39;49mpopitem(\u001b[39m\"\u001b[39;49m\u001b[39mid\u001b[39;49m\u001b[39m\"\u001b[39;49m)\n",
      "\u001b[1;31mTypeError\u001b[0m: dict.popitem() takes no arguments (1 given)"
     ]
    }
   ],
   "source": [
    "computador.popitem(\"id\")"
   ]
  },
  {
   "cell_type": "code",
   "execution_count": 43,
   "metadata": {},
   "outputs": [
    {
     "data": {
      "text/plain": [
       "{'id': 1001, 'marca': 'MSI', 'ram': 128}"
      ]
     },
     "execution_count": 43,
     "metadata": {},
     "output_type": "execute_result"
    }
   ],
   "source": [
    "computador"
   ]
  },
  {
   "cell_type": "code",
   "execution_count": 46,
   "metadata": {},
   "outputs": [
    {
     "data": {
      "text/plain": [
       "['ram', 'marca', 'id']"
      ]
     },
     "execution_count": 46,
     "metadata": {},
     "output_type": "execute_result"
    }
   ],
   "source": [
    "list(reversed(computador))"
   ]
  },
  {
   "cell_type": "code",
   "execution_count": 48,
   "metadata": {},
   "outputs": [
    {
     "name": "stdout",
     "output_type": "stream",
     "text": [
      "128\n",
      "MSI\n",
      "1001\n"
     ]
    }
   ],
   "source": [
    "for k in reversed(computador):\n",
    "    print(computador[k])"
   ]
  }
 ],
 "metadata": {
  "kernelspec": {
   "display_name": "Python 3",
   "language": "python",
   "name": "python3"
  },
  "language_info": {
   "codemirror_mode": {
    "name": "ipython",
    "version": 3
   },
   "file_extension": ".py",
   "mimetype": "text/x-python",
   "name": "python",
   "nbconvert_exporter": "python",
   "pygments_lexer": "ipython3",
   "version": "3.11.0"
  },
  "orig_nbformat": 4
 },
 "nbformat": 4,
 "nbformat_minor": 2
}
