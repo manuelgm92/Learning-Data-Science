{
 "cells": [
  {
   "cell_type": "code",
   "execution_count": 1,
   "metadata": {},
   "outputs": [],
   "source": [
    "conjunto_1= {\"Juan\", \"Oliva\", \"Edwatd\", \"Daniela\", \"Juan\", \"Juan\", \"German\"}\n",
    "print(conjunto_1)"
   ]
  },
  {
   "cell_type": "code",
   "execution_count": 2,
   "metadata": {},
   "outputs": [
    {
     "name": "stdout",
     "output_type": "stream",
     "text": [
      "['Juan', 'Oliva', 'Edwatd', 'Daniela', 'Juan', 'Juan', 'German']\n"
     ]
    }
   ],
   "source": [
    "conjunto_2 = [\"Juan\", \"Oliva\", \"Edwatd\", \"Daniela\", \"Juan\", \"Juan\", \"German\"]\n",
    "print(conjunto_2)"
   ]
  },
  {
   "cell_type": "code",
   "execution_count": 4,
   "metadata": {},
   "outputs": [
    {
     "name": "stdout",
     "output_type": "stream",
     "text": [
      "{'Juan', 'Edwatd', 'Daniela', 'German', 'Oliva'}\n"
     ]
    }
   ],
   "source": [
    "print(set(conjunto_2))\n"
   ]
  },
  {
   "cell_type": "code",
   "execution_count": 5,
   "metadata": {},
   "outputs": [
    {
     "name": "stdout",
     "output_type": "stream",
     "text": [
      "Caracteres que componen la frase: {'a', 'P', 't', 'h', ' ', 'e', 'u', 'l', 'i', 'g', 'ó', 'm', 's', 'c', 'o', 'n', 'y', 'd', 'r', 'j', 'p'}\n"
     ]
    }
   ],
   "source": [
    "frase = \"Python es un lenguaje de programación\"\n",
    "caracteres = set(frase)\n",
    "print(\"Caracteres que componen la frase:\", caracteres)"
   ]
  },
  {
   "cell_type": "code",
   "execution_count": 6,
   "metadata": {},
   "outputs": [
    {
     "name": "stdout",
     "output_type": "stream",
     "text": [
      "{'Juan', 'Edwatd', 'Manuel', 'Daniela', 'German', 'Oliva'}\n"
     ]
    }
   ],
   "source": [
    "conjunto_1= {\"Juan\", \"Oliva\", \"Edwatd\", \"Daniela\", \"Juan\", \"Juan\", \"German\"}\n",
    "conjunto_1.add(\"Manuel\")\n",
    "print(conjunto_1)"
   ]
  },
  {
   "cell_type": "code",
   "execution_count": 11,
   "metadata": {},
   "outputs": [
    {
     "name": "stdout",
     "output_type": "stream",
     "text": [
      "Indice: 0, Nombre: Juan\n",
      "Indice: 1, Nombre: Edwatd\n",
      "Indice: 2, Nombre: Manuel\n",
      "Indice: 3, Nombre: Daniela\n",
      "Indice: 4, Nombre: German\n",
      "Indice: 5, Nombre: Oliva\n"
     ]
    }
   ],
   "source": [
    "for i, c in enumerate(conjunto_1):\n",
    "    print(f'Indice: {i}, Nombre: {c}')"
   ]
  },
  {
   "cell_type": "code",
   "execution_count": 13,
   "metadata": {},
   "outputs": [
    {
     "name": "stdout",
     "output_type": "stream",
     "text": [
      "True\n"
     ]
    }
   ],
   "source": [
    "resultado = \"Manuel\" in conjunto_1\n",
    "print(resultado)"
   ]
  }
 ],
 "metadata": {
  "kernelspec": {
   "display_name": "Python 3",
   "language": "python",
   "name": "python3"
  },
  "language_info": {
   "codemirror_mode": {
    "name": "ipython",
    "version": 3
   },
   "file_extension": ".py",
   "mimetype": "text/x-python",
   "name": "python",
   "nbconvert_exporter": "python",
   "pygments_lexer": "ipython3",
   "version": "3.11.0"
  },
  "orig_nbformat": 4
 },
 "nbformat": 4,
 "nbformat_minor": 2
}
