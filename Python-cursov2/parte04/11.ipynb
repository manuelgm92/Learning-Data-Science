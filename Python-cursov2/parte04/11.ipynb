{
 "cells": [
  {
   "cell_type": "code",
   "execution_count": 1,
   "metadata": {},
   "outputs": [],
   "source": [
    "conjunto_1= {\"Juan\", \"Oliva\", \"Edwatd\", \"Daniela\", \"Juan\", \"Juan\", \"German\"}\n",
    "print(conjunto_1)"
   ]
  },
  {
   "cell_type": "code",
   "execution_count": 2,
   "metadata": {},
   "outputs": [
    {
     "name": "stdout",
     "output_type": "stream",
     "text": [
      "['Juan', 'Oliva', 'Edwatd', 'Daniela', 'Juan', 'Juan', 'German']\n"
     ]
    }
   ],
   "source": [
    "conjunto_2 = [\"Juan\", \"Oliva\", \"Edwatd\", \"Daniela\", \"Juan\", \"Juan\", \"German\"]\n",
    "print(conjunto_2)"
   ]
  },
  {
   "cell_type": "code",
   "execution_count": 4,
   "metadata": {},
   "outputs": [
    {
     "name": "stdout",
     "output_type": "stream",
     "text": [
      "{'Juan', 'Edwatd', 'Daniela', 'German', 'Oliva'}\n"
     ]
    }
   ],
   "source": [
    "print(set(conjunto_2))\n"
   ]
  },
  {
   "cell_type": "code",
   "execution_count": 5,
   "metadata": {},
   "outputs": [
    {
     "name": "stdout",
     "output_type": "stream",
     "text": [
      "Caracteres que componen la frase: {'a', 'P', 't', 'h', ' ', 'e', 'u', 'l', 'i', 'g', 'ó', 'm', 's', 'c', 'o', 'n', 'y', 'd', 'r', 'j', 'p'}\n"
     ]
    }
   ],
   "source": [
    "frase = \"Python es un lenguaje de programación\"\n",
    "caracteres = set(frase)\n",
    "print(\"Caracteres que componen la frase:\", caracteres)"
   ]
  },
  {
   "cell_type": "code",
   "execution_count": 6,
   "metadata": {},
   "outputs": [
    {
     "name": "stdout",
     "output_type": "stream",
     "text": [
      "{'Juan', 'Edwatd', 'Manuel', 'Daniela', 'German', 'Oliva'}\n"
     ]
    }
   ],
   "source": [
    "conjunto_1= {\"Juan\", \"Oliva\", \"Edwatd\", \"Daniela\", \"Juan\", \"Juan\", \"German\"}\n",
    "conjunto_1.add(\"Manuel\")\n",
    "print(conjunto_1)"
   ]
  },
  {
   "cell_type": "code",
   "execution_count": 11,
   "metadata": {},
   "outputs": [
    {
     "name": "stdout",
     "output_type": "stream",
     "text": [
      "Indice: 0, Nombre: Juan\n",
      "Indice: 1, Nombre: Edwatd\n",
      "Indice: 2, Nombre: Manuel\n",
      "Indice: 3, Nombre: Daniela\n",
      "Indice: 4, Nombre: German\n",
      "Indice: 5, Nombre: Oliva\n"
     ]
    }
   ],
   "source": [
    "for i, c in enumerate(conjunto_1):\n",
    "    print(f'Indice: {i}, Nombre: {c}')"
   ]
  },
  {
   "cell_type": "code",
   "execution_count": 13,
   "metadata": {},
   "outputs": [
    {
     "name": "stdout",
     "output_type": "stream",
     "text": [
      "True\n"
     ]
    }
   ],
   "source": [
    "resultado = \"Manuel\" in conjunto_1\n",
    "print(resultado)"
   ]
  },
  {
   "cell_type": "code",
   "execution_count": 7,
   "metadata": {},
   "outputs": [],
   "source": [
    "arco_iris = {\"Amarillo\", \"Rojo\", \"Verde\", \"Azul\", \"Cian\"}"
   ]
  },
  {
   "cell_type": "code",
   "execution_count": 11,
   "metadata": {},
   "outputs": [
    {
     "name": "stdout",
     "output_type": "stream",
     "text": [
      "Operación de subconjunto:\n",
      "¿El conjunto {'Rojo', 'Azul', 'Verde'} es subconjunto de {'Cian', 'Azul', 'Verde', 'Amarillo', 'Rojo'}?: True\n"
     ]
    }
   ],
   "source": [
    "print(\"Operación de subconjunto:\")\n",
    "\n",
    "colores = {\"Rojo\", \"Verde\", \"Azul\"}\n",
    "resultado = colores.issubset(arco_iris)\n",
    "print(f\"¿El conjunto {colores} es subconjunto de {arco_iris}?: {resultado}\")\n",
    "\n"
   ]
  },
  {
   "cell_type": "code",
   "execution_count": 12,
   "metadata": {},
   "outputs": [
    {
     "name": "stdout",
     "output_type": "stream",
     "text": [
      "¿El conjunto {'Rojo', 'Azul', 'Gris', 'Verde'} es subconjunto de {'Cian', 'Azul', 'Verde', 'Amarillo', 'Rojo'}?: False\n"
     ]
    }
   ],
   "source": [
    "colores.add(\"Gris\")\n",
    "resultado = colores.issubset(arco_iris)\n",
    "print(f\"¿El conjunto {colores} es subconjunto de {arco_iris}?: {resultado}\")\n"
   ]
  },
  {
   "cell_type": "code",
   "execution_count": 15,
   "metadata": {},
   "outputs": [
    {
     "name": "stdout",
     "output_type": "stream",
     "text": [
      "0\n",
      "¿El conjunto set() es subconjunto de {'Cian', 'Azul', 'Verde', 'Amarillo', 'Rojo'}?: True\n"
     ]
    }
   ],
   "source": [
    "vacio = set([])\n",
    "print(len(vacio))\n",
    "resultado = vacio.issubset(arco_iris)\n",
    "print(f\"¿El conjunto {vacio} es subconjunto de {arco_iris}?: {resultado}\")\n"
   ]
  },
  {
   "cell_type": "code",
   "execution_count": 16,
   "metadata": {},
   "outputs": [
    {
     "name": "stdout",
     "output_type": "stream",
     "text": [
      "Operación de unión\n",
      "{'Cian', 'Gris', 'Verde', 'Azul', 'Rojo', 'Amarillo'}\n"
     ]
    }
   ],
   "source": [
    "print(\"Operación de unión\")\n",
    "mas_colroes = arco_iris.union(colores)\n",
    "print(mas_colroes)\n"
   ]
  },
  {
   "cell_type": "code",
   "execution_count": 17,
   "metadata": {},
   "outputs": [
    {
     "name": "stdout",
     "output_type": "stream",
     "text": [
      "Operación de intersección\n",
      "{'Rojo', 'Azul', 'Verde'}\n"
     ]
    }
   ],
   "source": [
    "print(\"Operación de intersección\") #extraer los elementos comunes\n",
    "mas_colroes = arco_iris.intersection(colores)\n",
    "print(mas_colroes)"
   ]
  },
  {
   "cell_type": "code",
   "execution_count": 18,
   "metadata": {},
   "outputs": [
    {
     "name": "stdout",
     "output_type": "stream",
     "text": [
      "Operación de superconjunto\n",
      "¿El conjunto {'Cian', 'Azul', 'Verde', 'Amarillo', 'Rojo'} es subconjunto de {'Rojo', 'Azul', 'Verde'}?: True\n"
     ]
    }
   ],
   "source": [
    "print(\"Operación de superconjunto\")\n",
    "rgb = {\"Rojo\", \"Verde\", \"Azul\"}\n",
    "resultado = arco_iris.issuperset(rgb)\n",
    "print(f\"¿El conjunto {arco_iris} es superconjunto de {rgb}?: {resultado}\")"
   ]
  },
  {
   "cell_type": "code",
   "execution_count": 22,
   "metadata": {},
   "outputs": [
    {
     "name": "stdout",
     "output_type": "stream",
     "text": [
      "{'Rojo', 'Azul', 'Gris', 'Verde'}\n",
      "{'Cian', 'Azul', 'Verde', 'Amarillo', 'Rojo'}\n",
      "Operación de diferencia de conjuntos\n",
      "{'Gris'}\n"
     ]
    }
   ],
   "source": [
    "print(colores)\n",
    "print(arco_iris)\n",
    "\n",
    "print(\"Operación de diferencia de conjuntos\")\n",
    "diferencia = colores - arco_iris\n",
    "print(diferencia)\n"
   ]
  },
  {
   "cell_type": "code",
   "execution_count": 20,
   "metadata": {},
   "outputs": [
    {
     "name": "stdout",
     "output_type": "stream",
     "text": [
      "{'Cian', 'Amarillo'}\n"
     ]
    }
   ],
   "source": [
    "diferencia = arco_iris - colores\n",
    "print(diferencia)"
   ]
  },
  {
   "cell_type": "code",
   "execution_count": 32,
   "metadata": {},
   "outputs": [
    {
     "name": "stdout",
     "output_type": "stream",
     "text": [
      "Operación de diferencia simétrica entre conjuntos\n",
      "{'Cian', 'Amarillo'}\n"
     ]
    }
   ],
   "source": [
    "print(\"Operación de diferencia simétrica entre conjuntos\")\n",
    "diferencia_simetrica = arco_iris.symmetric_difference(colores)\n",
    "print(diferencia_simetrica)\n",
    "\n",
    "colores.add(\"Gris\")"
   ]
  },
  {
   "cell_type": "code",
   "execution_count": 40,
   "metadata": {},
   "outputs": [
    {
     "name": "stdout",
     "output_type": "stream",
     "text": [
      "set()\n"
     ]
    }
   ],
   "source": [
    "print(colores)"
   ]
  },
  {
   "cell_type": "code",
   "execution_count": 39,
   "metadata": {},
   "outputs": [
    {
     "name": "stdout",
     "output_type": "stream",
     "text": [
      "Remover elementos de un conjunto, método remove y pop\n"
     ]
    },
    {
     "ename": "KeyError",
     "evalue": "'Gris'",
     "output_type": "error",
     "traceback": [
      "\u001b[1;31m---------------------------------------------------------------------------\u001b[0m",
      "\u001b[1;31mKeyError\u001b[0m                                  Traceback (most recent call last)",
      "Cell \u001b[1;32mIn[39], line 3\u001b[0m\n\u001b[0;32m      1\u001b[0m \u001b[39mprint\u001b[39m(\u001b[39m\"\u001b[39m\u001b[39mRemover elementos de un conjunto, método remove y pop\u001b[39m\u001b[39m\"\u001b[39m)\n\u001b[1;32m----> 3\u001b[0m colores\u001b[39m.\u001b[39;49mremove(\u001b[39m\"\u001b[39;49m\u001b[39mGris\u001b[39;49m\u001b[39m\"\u001b[39;49m)\n\u001b[0;32m      4\u001b[0m \u001b[39mprint\u001b[39m(colores)\n",
      "\u001b[1;31mKeyError\u001b[0m: 'Gris'"
     ]
    }
   ],
   "source": [
    "print(\"Remover elementos de un conjunto, método remove y pop\")\n",
    "\n",
    "colores.remove(\"Gris\")\n",
    "print(colores)\n",
    "\n",
    "\n",
    "\n"
   ]
  },
  {
   "cell_type": "code",
   "execution_count": 38,
   "metadata": {},
   "outputs": [
    {
     "ename": "KeyError",
     "evalue": "'pop from an empty set'",
     "output_type": "error",
     "traceback": [
      "\u001b[1;31m---------------------------------------------------------------------------\u001b[0m",
      "\u001b[1;31mKeyError\u001b[0m                                  Traceback (most recent call last)",
      "Cell \u001b[1;32mIn[38], line 1\u001b[0m\n\u001b[1;32m----> 1\u001b[0m color \u001b[39m=\u001b[39m colores\u001b[39m.\u001b[39;49mpop()\n\u001b[0;32m      2\u001b[0m \u001b[39mprint\u001b[39m(color)\n",
      "\u001b[1;31mKeyError\u001b[0m: 'pop from an empty set'"
     ]
    }
   ],
   "source": [
    "color = colores.pop()\n",
    "print(color)"
   ]
  },
  {
   "cell_type": "code",
   "execution_count": 42,
   "metadata": {},
   "outputs": [
    {
     "name": "stdout",
     "output_type": "stream",
     "text": [
      "set()\n"
     ]
    }
   ],
   "source": [
    "colores = {\"Rojo\", \"Verde\", \"Azul\"}\n",
    "colores.clear()\n",
    "print(colores)"
   ]
  }
 ],
 "metadata": {
  "kernelspec": {
   "display_name": "Python 3",
   "language": "python",
   "name": "python3"
  },
  "language_info": {
   "codemirror_mode": {
    "name": "ipython",
    "version": 3
   },
   "file_extension": ".py",
   "mimetype": "text/x-python",
   "name": "python",
   "nbconvert_exporter": "python",
   "pygments_lexer": "ipython3",
   "version": "3.11.0"
  },
  "orig_nbformat": 4
 },
 "nbformat": 4,
 "nbformat_minor": 2
}
