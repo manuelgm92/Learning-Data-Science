{
 "cells": [
  {
   "cell_type": "code",
   "execution_count": 2,
   "metadata": {},
   "outputs": [
    {
     "name": "stdout",
     "output_type": "stream",
     "text": [
      "30\n",
      "10950\n"
     ]
    }
   ],
   "source": [
    "edad = 30\n",
    "dias_vividos = edad * 365\n",
    "print(edad)\n",
    "print(dias_vividos)"
   ]
  },
  {
   "cell_type": "code",
   "execution_count": 3,
   "metadata": {},
   "outputs": [
    {
     "data": {
      "text/plain": [
       "int"
      ]
     },
     "execution_count": 3,
     "metadata": {},
     "output_type": "execute_result"
    }
   ],
   "source": [
    "type(dias_vividos)"
   ]
  },
  {
   "cell_type": "code",
   "execution_count": 6,
   "metadata": {},
   "outputs": [
    {
     "name": "stdout",
     "output_type": "stream",
     "text": [
      "Pposición en memoria de la variable edad:  140718308054728\n",
      "Pposición en memoria de la variable edad:  2782233718160\n"
     ]
    }
   ],
   "source": [
    "print(\"Pposición en memoria de la variable edad: \", id(edad))\n",
    "print(\"Pposición en memoria de la variable edad: \", id(dias_vividos))"
   ]
  },
  {
   "cell_type": "code",
   "execution_count": 7,
   "metadata": {},
   "outputs": [
    {
     "name": "stdout",
     "output_type": "stream",
     "text": [
      "Pposición en memoria del valor 29:  140718308054728\n",
      "Pposición en memoria del valor 10950:  2782235294608\n"
     ]
    }
   ],
   "source": [
    "print(\"Pposición en memoria del valor 29: \", id(30))\n",
    "print(\"Pposición en memoria del valor 10950: \", id(10950))"
   ]
  }
 ],
 "metadata": {
  "kernelspec": {
   "display_name": "Python 3",
   "language": "python",
   "name": "python3"
  },
  "language_info": {
   "codemirror_mode": {
    "name": "ipython",
    "version": 3
   },
   "file_extension": ".py",
   "mimetype": "text/x-python",
   "name": "python",
   "nbconvert_exporter": "python",
   "pygments_lexer": "ipython3",
   "version": "3.11.0"
  },
  "orig_nbformat": 4
 },
 "nbformat": 4,
 "nbformat_minor": 2
}
