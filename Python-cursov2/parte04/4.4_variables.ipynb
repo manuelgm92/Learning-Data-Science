{
 "cells": [
  {
   "cell_type": "code",
   "execution_count": 15,
   "metadata": {},
   "outputs": [
    {
     "name": "stdout",
     "output_type": "stream",
     "text": [
      "Edaward \n",
      "Ortiz\n",
      "Edaward Ortiz\n",
      "<class 'str'>\n"
     ]
    }
   ],
   "source": [
    "nombre = \"Edaward \"\n",
    "apellido = \"Ortiz\"\n",
    "\n",
    "nombre_completo = nombre + apellido\n",
    "\n",
    "print(nombre)\n",
    "print(apellido)\n",
    "print(nombre_completo)\n",
    "\n",
    "print(type(nombre))\n"
   ]
  },
  {
   "cell_type": "code",
   "execution_count": 18,
   "metadata": {},
   "outputs": [
    {
     "name": "stdout",
     "output_type": "stream",
     "text": [
      "Edaward Ortiz tiene 29 años\n"
     ]
    }
   ],
   "source": [
    "edad = 29\n",
    "\n",
    "resultado = nombre_completo + \" tiene \" + str(edad) + \" años\"\n",
    "\n",
    "print(resultado)"
   ]
  },
  {
   "cell_type": "code",
   "execution_count": 20,
   "metadata": {},
   "outputs": [
    {
     "name": "stdout",
     "output_type": "stream",
     "text": [
      "Edaward Ortiz tiene 29 años\n"
     ]
    }
   ],
   "source": [
    "resutado = \"{} tiene {} años.\".format(nombre_completo, edad)\n",
    "print(resultado)"
   ]
  }
 ],
 "metadata": {
  "kernelspec": {
   "display_name": "Python 3",
   "language": "python",
   "name": "python3"
  },
  "language_info": {
   "codemirror_mode": {
    "name": "ipython",
    "version": 3
   },
   "file_extension": ".py",
   "mimetype": "text/x-python",
   "name": "python",
   "nbconvert_exporter": "python",
   "pygments_lexer": "ipython3",
   "version": "3.11.0"
  },
  "orig_nbformat": 4
 },
 "nbformat": 4,
 "nbformat_minor": 2
}
