{
 "cells": [
  {
   "cell_type": "code",
   "execution_count": 9,
   "metadata": {},
   "outputs": [
    {
     "name": "stdout",
     "output_type": "stream",
     "text": [
      "Puntaje antes de la adición de 50 puntos: 300\n",
      "Puntaje antes de la adición: 350\n",
      "<class 'int'>\n",
      "\n",
      "x antes de la adición de 10 puntos: -5\n",
      "x antes de la adición de 10 puntos: 5\n",
      "<class 'int'>\n"
     ]
    }
   ],
   "source": [
    "puntaje = 300\n",
    "x = -5\n",
    "\n",
    "print(\"Puntaje antes de la adición de 50 puntos: %i\" % puntaje)\n",
    "puntaje = puntaje + 50\n",
    "print(\"Puntaje antes de la adición: %i\" % puntaje)\n",
    "print(type(puntaje))\n",
    "\n",
    "print()\n",
    "\n",
    "print(\"x antes de la adición de 10 puntos: %i\" % x)\n",
    "x += 10\n",
    "print(\"x antes de la adición de 10 puntos: %i\" % x)\n",
    "print(type(x))"
   ]
  },
  {
   "cell_type": "code",
   "execution_count": 16,
   "metadata": {},
   "outputs": [
    {
     "name": "stdout",
     "output_type": "stream",
     "text": [
      "tipo de dato de la variable edad <class 'int'>\n",
      "Total de dias vividos: 44895\n"
     ]
    }
   ],
   "source": [
    "edad = int(input(\"Escriba su edad: \"))\n",
    "print(\"tipo de dato de la variable edad\", type(edad))\n",
    "\n",
    "total_dias = edad * 365\n",
    "print(\"Total de dias vividos: %i\" % total_dias)"
   ]
  },
  {
   "cell_type": "code",
   "execution_count": 15,
   "metadata": {},
   "outputs": [],
   "source": [
    "hola = \"hola\""
   ]
  },
  {
   "cell_type": "code",
   "execution_count": 4,
   "metadata": {},
   "outputs": [
    {
     "name": "stdout",
     "output_type": "stream",
     "text": [
      "3.141592653589793\n",
      "El precio es: 3.14\n"
     ]
    }
   ],
   "source": [
    "import math\n",
    "\n",
    "pi = math.pi\n",
    "\n",
    "precio = pi * 3\n",
    "print(pi)\n",
    "\n",
    "print(\"El precio es: %.2f\"  % pi)"
   ]
  }
 ],
 "metadata": {
  "kernelspec": {
   "display_name": "Python 3",
   "language": "python",
   "name": "python3"
  },
  "language_info": {
   "codemirror_mode": {
    "name": "ipython",
    "version": 3
   },
   "file_extension": ".py",
   "mimetype": "text/x-python",
   "name": "python",
   "nbconvert_exporter": "python",
   "pygments_lexer": "ipython3",
   "version": "3.11.0"
  },
  "orig_nbformat": 4
 },
 "nbformat": 4,
 "nbformat_minor": 2
}
