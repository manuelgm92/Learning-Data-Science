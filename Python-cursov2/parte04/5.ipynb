{
 "cells": [
  {
   "cell_type": "code",
   "execution_count": 8,
   "metadata": {},
   "outputs": [
    {
     "name": "stdout",
     "output_type": "stream",
     "text": [
      "hola\n"
     ]
    }
   ],
   "source": [
    "a = True\n",
    "b = False\n",
    "a = 2 \n",
    "b = 4\n",
    "c= 6\n",
    "if (a == 3 or not b == 2):\n",
    "    print(\"hola\")"
   ]
  },
  {
   "cell_type": "code",
   "execution_count": null,
   "metadata": {},
   "outputs": [],
   "source": [
    "a = True\n",
    "b = False"
   ]
  },
  {
   "cell_type": "code",
   "execution_count": 9,
   "metadata": {},
   "outputs": [
    {
     "name": "stdout",
     "output_type": "stream",
     "text": [
      "True\n"
     ]
    }
   ],
   "source": [
    "x = bool(\"False\")\n",
    "print(x)"
   ]
  },
  {
   "cell_type": "code",
   "execution_count": 15,
   "metadata": {},
   "outputs": [
    {
     "name": "stdout",
     "output_type": "stream",
     "text": [
      "Este es mi nombre: Manuel y estos son mis apellidos: Gonzalez Martinez\n"
     ]
    }
   ],
   "source": [
    "nombre = \"Manuel\"\n",
    "apellido1 = \"Gonzalez\"\n",
    "apellido2 = \"Martinez\"\n",
    "\n",
    "# mensaje = \"Este es mi \" + nombre + \" y estos son mis apellidos \" + apellido1 + apellido2\n",
    "mensaje = f\"Este es mi nombre: {nombre} y estos son mis apellidos: {apellido1} {apellido2}\"\n",
    "# mensaje = \"Este es mi nombre: {} y estos son mis apellidos: {} {}\".format(nombre, apellido1, apellido2)\n",
    "# mensaje = \"Este es mi nombre: %s y estos son mis apellidos: %s %s\" %(nombre, apellido1, apellido2)\n",
    "\n",
    "print(mensaje)"
   ]
  },
  {
   "cell_type": "code",
   "execution_count": 21,
   "metadata": {},
   "outputs": [
    {
     "name": "stdout",
     "output_type": "stream",
     "text": [
      "Python\n",
      "python\n",
      "python\n",
      "5\n",
      "['2', '3', '5', '7', '11']\n",
      "El índice del elemento '2' es 0\n"
     ]
    }
   ],
   "source": [
    "#inmutabilidad, no se pueden modificar\n",
    "lenguaje = \"Python\"\n",
    "print(lenguaje)\n",
    "# lenguaje[0] = \"T\" da error\n",
    "\n",
    "#formas de modificar un str\n",
    "\n",
    "lenguaje = \"p\" + lenguaje[1:]\n",
    "print(lenguaje)\n",
    "\n",
    "lenguaje = \"Python\".lower() # retorna una copia, no modifica la original\n",
    "print(lenguaje)\n",
    "\n",
    "valores = \"2,3,5,7,11\"\n",
    "numeros = valores.split(\",\")\n",
    "print(len(numeros))\n",
    "print(numeros)\n",
    "\n"
   ]
  },
  {
   "cell_type": "code",
   "execution_count": 24,
   "metadata": {},
   "outputs": [
    {
     "name": "stdout",
     "output_type": "stream",
     "text": [
      "El índice del elemento '2' es 0\n",
      "El índice del elemento '1' es 8\n",
      "El índice del elemento '8' es -1, es decir, no se encontró\n"
     ]
    }
   ],
   "source": [
    "indice = valores.find(\"2\")\n",
    "print(f\"El índice del elemento '2' es {indice}\")\n",
    "indice = valores.find(\"1\")\n",
    "print(f\"El índice del elemento '1' es {indice}\")\n",
    "indice = valores.find(\"8\")\n",
    "print(f\"El índice del elemento '8' es {indice}, es decir, no se encontró\")"
   ]
  },
  {
   "cell_type": "code",
   "execution_count": 30,
   "metadata": {},
   "outputs": [
    {
     "name": "stdout",
     "output_type": "stream",
     "text": [
      "0\n",
      "8\n"
     ]
    }
   ],
   "source": [
    "def encontrar(cadena, caracter):\n",
    "    indice = None\n",
    "    for i in range(0, len(cadena)):\n",
    "        if caracter == cadena[i]:\n",
    "            indice = i\n",
    "            break\n",
    "    \n",
    "    return indice\n",
    "\n",
    "resultado = encontrar(valores, \"2\")\n",
    "print(resultado)\n",
    "resultado = encontrar(valores, \"1\")\n",
    "print(resultado)\n"
   ]
  }
 ],
 "metadata": {
  "kernelspec": {
   "display_name": "Python-cursov2",
   "language": "python",
   "name": "python3"
  },
  "language_info": {
   "codemirror_mode": {
    "name": "ipython",
    "version": 3
   },
   "file_extension": ".py",
   "mimetype": "text/x-python",
   "name": "python",
   "nbconvert_exporter": "python",
   "pygments_lexer": "ipython3",
   "version": "3.11.0"
  },
  "orig_nbformat": 4
 },
 "nbformat": 4,
 "nbformat_minor": 2
}
