{
 "cells": [
  {
   "cell_type": "code",
   "execution_count": 1,
   "metadata": {},
   "outputs": [
    {
     "name": "stdout",
     "output_type": "stream",
     "text": [
      "2\n"
     ]
    }
   ],
   "source": [
    "punto = (2, 5)\n",
    "\n",
    "print(punto[0])\n"
   ]
  },
  {
   "cell_type": "code",
   "execution_count": 3,
   "metadata": {},
   "outputs": [
    {
     "name": "stdout",
     "output_type": "stream",
     "text": [
      "2\n",
      "3\n",
      "5\n",
      "7\n",
      "11\n",
      "13\n",
      "17\n",
      "19\n"
     ]
    }
   ],
   "source": [
    "numeros_primos = (2, 3, 5, 7, 11, 13, 17, 19)\n",
    "\n",
    "i= 0\n",
    "while i < len(numeros_primos):\n",
    "    print(numeros_primos[i])\n",
    "    i = i + 1"
   ]
  },
  {
   "cell_type": "code",
   "execution_count": 5,
   "metadata": {},
   "outputs": [
    {
     "name": "stdout",
     "output_type": "stream",
     "text": [
      "2\n",
      "3\n",
      "5\n",
      "7\n",
      "11\n",
      "13\n",
      "17\n",
      "19\n"
     ]
    }
   ],
   "source": [
    "numeros_primos = (2, 3, 5, 7, 11, 13, 17, 19)\n",
    "\n",
    "for x in numeros_primos:\n",
    "    print(x)\n",
    "    print()"
   ]
  },
  {
   "cell_type": "code",
   "execution_count": 8,
   "metadata": {},
   "outputs": [
    {
     "name": "stdout",
     "output_type": "stream",
     "text": [
      "2\n",
      "3\n",
      "5\n",
      "7\n",
      "11\n",
      "13\n",
      "17\n",
      "19\n"
     ]
    }
   ],
   "source": [
    "numeros_primos = (2, 3, 5, 7, 11, 13, 17, 19)\n",
    "\n",
    "for i in range(len(numeros_primos)):\n",
    "    print(numeros_primos[i])"
   ]
  },
  {
   "cell_type": "code",
   "execution_count": 10,
   "metadata": {},
   "outputs": [
    {
     "name": "stdout",
     "output_type": "stream",
     "text": [
      "2\n",
      "3\n",
      "5\n",
      "7\n",
      "11\n",
      "13\n",
      "17\n",
      "19\n"
     ]
    }
   ],
   "source": [
    "numeros_primos = (2, 3, 5, 7, 11, 13, 17, 19)\n",
    "\n",
    "for p in numeros_primos:\n",
    "    print(p)"
   ]
  },
  {
   "cell_type": "code",
   "execution_count": 16,
   "metadata": {},
   "outputs": [],
   "source": [
    "numeros_primos = (2, 3, 5, 7, 11, 13, 17, 19)"
   ]
  },
  {
   "cell_type": "code",
   "execution_count": 18,
   "metadata": {},
   "outputs": [
    {
     "name": "stdout",
     "output_type": "stream",
     "text": [
      "Posición 0: valor 2 \n",
      "Posición 1: valor 3 \n",
      "Posición 2: valor 5 \n",
      "Posición 3: valor 7 \n",
      "Posición 4: valor 11 \n",
      "Posición 5: valor 13 \n",
      "Posición 6: valor 17 \n",
      "Posición 7: valor 19 \n"
     ]
    }
   ],
   "source": [
    "numeros_primos = (2, 3, 5, 7, 11, 13, 17, 19)\n",
    "\n",
    "for i, v in enumerate(numeros_primos):\n",
    "    print(f\"Posición {i}: valor {v} \")"
   ]
  },
  {
   "cell_type": "code",
   "execution_count": 20,
   "metadata": {},
   "outputs": [
    {
     "name": "stdout",
     "output_type": "stream",
     "text": [
      "<class 'tuple'>\n",
      "3\n",
      "<class 'tuple'>\n",
      "1\n"
     ]
    }
   ],
   "source": [
    "numeros = 1, 2, 3\n",
    "\n",
    "print(type(numeros))\n",
    "print(len(numeros))\n",
    "\n",
    "numero = 1,\n",
    "\n",
    "print(type(numero))\n",
    "print(len(numero))\n",
    "\n"
   ]
  },
  {
   "cell_type": "code",
   "execution_count": 22,
   "metadata": {},
   "outputs": [
    {
     "name": "stdout",
     "output_type": "stream",
     "text": [
      "<class 'tuple'>\n",
      "3\n"
     ]
    }
   ],
   "source": [
    "tupla = tuple([1,2,3])\n",
    "print(type(tupla))\n",
    "print(len(tupla))"
   ]
  }
 ],
 "metadata": {
  "kernelspec": {
   "display_name": "Python 3",
   "language": "python",
   "name": "python3"
  },
  "language_info": {
   "codemirror_mode": {
    "name": "ipython",
    "version": 3
   },
   "file_extension": ".py",
   "mimetype": "text/x-python",
   "name": "python",
   "nbconvert_exporter": "python",
   "pygments_lexer": "ipython3",
   "version": "3.11.0"
  },
  "orig_nbformat": 4
 },
 "nbformat": 4,
 "nbformat_minor": 2
}
