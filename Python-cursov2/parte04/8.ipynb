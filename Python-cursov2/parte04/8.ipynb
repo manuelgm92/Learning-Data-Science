{
 "cells": [
  {
   "cell_type": "code",
   "execution_count": 6,
   "metadata": {},
   "outputs": [
    {
     "name": "stdout",
     "output_type": "stream",
     "text": [
      "Número de veces que aparece el color Negro en la tupla:  2\n",
      "Posición en la tupla del color Blanco:  1\n"
     ]
    }
   ],
   "source": [
    "#op basicas que provee la clase tuple:\n",
    "\n",
    "colores = (\"Negro\", \"Blanco\", \"Azul\", \"Negro\", \"Rojo\", \"Verde\")\n",
    "\n",
    "print(\"Número de veces que aparece el color Negro en la tupla: \", colores.count(\"Negro\"))\n",
    "print(\"Posición en la tupla del color Blanco: \", colores.index(\"Blanco\"))"
   ]
  },
  {
   "cell_type": "code",
   "execution_count": 20,
   "metadata": {},
   "outputs": [],
   "source": [
    "numeros = [0, 2, 4, 6, 8, 10]"
   ]
  },
  {
   "cell_type": "code",
   "execution_count": 9,
   "metadata": {},
   "outputs": [
    {
     "name": "stdout",
     "output_type": "stream",
     "text": [
      "Indice: 0 - Valor: 0\n",
      "Indice: 1 - Valor: 2\n",
      "Indice: 2 - Valor: 4\n",
      "Indice: 3 - Valor: 6\n",
      "Indice: 4 - Valor: 8\n",
      "Indice: 5 - Valor: 10\n"
     ]
    }
   ],
   "source": [
    "#iteración de listas\n",
    "# ciclo while\n",
    "\n",
    "i = 0\n",
    "while i < len(numeros):\n",
    "    print(f\"Indice: {i} - Valor: {numeros[i]}\")\n",
    "    i+= 1"
   ]
  },
  {
   "cell_type": "code",
   "execution_count": 15,
   "metadata": {},
   "outputs": [
    {
     "name": "stdout",
     "output_type": "stream",
     "text": [
      "Indice: -1 - Valor: 10\n",
      "Indice: -2 - Valor: 8\n",
      "Indice: -3 - Valor: 6\n",
      "Indice: -4 - Valor: 4\n",
      "Indice: -5 - Valor: 2\n"
     ]
    }
   ],
   "source": [
    "i = -1\n",
    "while i > -len(numeros):\n",
    "    print(f\"Indice: {i} - Valor: {numeros[i]}\")\n",
    "    i-= 1"
   ]
  },
  {
   "cell_type": "code",
   "execution_count": 17,
   "metadata": {},
   "outputs": [
    {
     "name": "stdout",
     "output_type": "stream",
     "text": [
      "Indice: 0 - Valor: 0\n",
      "Indice: 1 - Valor: 2\n",
      "Indice: 2 - Valor: 4\n",
      "Indice: 3 - Valor: 6\n",
      "Indice: 4 - Valor: 8\n",
      "Indice: 5 - Valor: 10\n"
     ]
    }
   ],
   "source": [
    "# ciclo for\n",
    "\n",
    "for i in range(0, len(numeros)):\n",
    "    print(f\"Indice: {i} - Valor: {numeros[i]}\")\n"
   ]
  },
  {
   "cell_type": "code",
   "execution_count": 28,
   "metadata": {},
   "outputs": [
    {
     "name": "stdout",
     "output_type": "stream",
     "text": [
      "Indice: 5 - Valor: 10\n",
      "Indice: 4 - Valor: 8\n",
      "Indice: 3 - Valor: 6\n",
      "Indice: 2 - Valor: 4\n",
      "Indice: 1 - Valor: 2\n",
      "Indice: 0 - Valor: 0\n"
     ]
    }
   ],
   "source": [
    "# for por índice\n",
    "for i in range(len(numeros)-1, -1, -1):\n",
    "    print(f\"Indice: {i} - Valor: {numeros[i]}\")\n"
   ]
  },
  {
   "cell_type": "code",
   "execution_count": 34,
   "metadata": {},
   "outputs": [
    {
     "name": "stdout",
     "output_type": "stream",
     "text": [
      "Valor: 0\n",
      "Valor: 2\n",
      "Valor: 4\n",
      "Valor: 6\n",
      "Valor: 8\n",
      "Valor: 10\n"
     ]
    }
   ],
   "source": [
    "# for por elemento\n",
    "\n",
    "for n in numeros:\n",
    "    print(\"Valor:\", n)"
   ]
  },
  {
   "cell_type": "code",
   "execution_count": 35,
   "metadata": {},
   "outputs": [
    {
     "name": "stdout",
     "output_type": "stream",
     "text": [
      "Indice: 0 - Valor: 0\n",
      "Indice: 1 - Valor: 2\n",
      "Indice: 2 - Valor: 4\n",
      "Indice: 3 - Valor: 6\n",
      "Indice: 4 - Valor: 8\n",
      "Indice: 5 - Valor: 10\n"
     ]
    }
   ],
   "source": [
    "# for por índice y elemento\n",
    "for i, n in enumerate(numeros):\n",
    "    print(f\"Indice: {i} - Valor: {numeros[i]}\")\n"
   ]
  }
 ],
 "metadata": {
  "kernelspec": {
   "display_name": "Python 3",
   "language": "python",
   "name": "python3"
  },
  "language_info": {
   "codemirror_mode": {
    "name": "ipython",
    "version": 3
   },
   "file_extension": ".py",
   "mimetype": "text/x-python",
   "name": "python",
   "nbconvert_exporter": "python",
   "pygments_lexer": "ipython3",
   "version": "3.11.0"
  },
  "orig_nbformat": 4
 },
 "nbformat": 4,
 "nbformat_minor": 2
}
