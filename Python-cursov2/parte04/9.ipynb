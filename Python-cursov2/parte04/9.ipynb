{
 "cells": [
  {
   "cell_type": "code",
   "execution_count": 1,
   "metadata": {},
   "outputs": [],
   "source": [
    "numeros = [0, 2, 4, 6, 8, 10]"
   ]
  },
  {
   "cell_type": "code",
   "execution_count": 2,
   "metadata": {},
   "outputs": [
    {
     "name": "stdout",
     "output_type": "stream",
     "text": [
      "6\n",
      "7\n",
      "[0, 2, 4, 6, 8, 10, 15]\n"
     ]
    }
   ],
   "source": [
    "print(len(numeros))\n",
    "numeros.append(15)\n",
    "\n",
    "print(len(numeros))\n",
    "print(numeros)\n"
   ]
  },
  {
   "cell_type": "code",
   "execution_count": 7,
   "metadata": {},
   "outputs": [
    {
     "name": "stdout",
     "output_type": "stream",
     "text": [
      "['Hola', 0, 2, 4, 6, 8, 10, 15]\n",
      "['Hola', 0, 0, 2, 4, 6, 8, 10, 15]\n"
     ]
    }
   ],
   "source": [
    "# no modifica un elemento sino que añade desplazando los demás elementos\n",
    "print(numeros)\n",
    "numeros.insert(1, 0)\n",
    "print(numeros)"
   ]
  },
  {
   "cell_type": "code",
   "execution_count": 8,
   "metadata": {},
   "outputs": [
    {
     "name": "stdout",
     "output_type": "stream",
     "text": [
      "['Hola', 0, 0, 2, 4, 6, 8, 10, 15]\n",
      "['Hola', 0, 2, 4, 6, 8, 10, 15]\n"
     ]
    }
   ],
   "source": [
    "\n",
    "print(numeros)\n",
    "numeros.remove(0) # elimina el primer elemento que aparece en la lista\n",
    "print(numeros)"
   ]
  },
  {
   "cell_type": "code",
   "execution_count": 11,
   "metadata": {},
   "outputs": [
    {
     "name": "stdout",
     "output_type": "stream",
     "text": [
      "[2, 4, 6, 8, 10, 15]\n",
      "[4, 6, 8, 10, 15]\n",
      "2\n"
     ]
    }
   ],
   "source": [
    "print(numeros)\n",
    "elemento_eliminado = numeros.pop(0)  # elimina por porsición, si no pasamos un indice, se elimina el último\n",
    "print(numeros)\n",
    "print(elemento_eliminado)"
   ]
  },
  {
   "cell_type": "code",
   "execution_count": 13,
   "metadata": {},
   "outputs": [
    {
     "name": "stdout",
     "output_type": "stream",
     "text": [
      "[4, 6, 8, 10, 15]\n",
      "[4, 6, 8, 10, 15, 4, 6, 8, 10, 15, 4, 6, 8, 10, 15]\n"
     ]
    }
   ],
   "source": [
    "print(numeros)\n",
    "numeros = numeros * 3\n",
    "\n",
    "\n"
   ]
  },
  {
   "cell_type": "code",
   "execution_count": 14,
   "metadata": {},
   "outputs": [
    {
     "name": "stdout",
     "output_type": "stream",
     "text": [
      "[4, 6, 8, 10, 15, 4, 6, 8, 10, 15, 4, 6, 8, 10, 15]\n",
      "cantidad de veces que aparece 15 en la lista numeros: 3\n"
     ]
    }
   ],
   "source": [
    "print(numeros)\n",
    "print(f\"cantidad de veces que aparece 15 en la lista numeros: {numeros.count(15)}\")"
   ]
  },
  {
   "cell_type": "code",
   "execution_count": 26,
   "metadata": {},
   "outputs": [
    {
     "name": "stdout",
     "output_type": "stream",
     "text": [
      "[4, 6, 8, 10, 15, 4, 6, 8, 10, 15, 4, 6, 8, 10, 15]\n",
      "[15, 10, 8, 6, 4, 15, 10, 8, 6, 4, 15, 10, 8, 6, 4]\n"
     ]
    }
   ],
   "source": [
    "print(numeros)\n",
    "numeros.reverse()\n",
    "print(numeros)"
   ]
  },
  {
   "cell_type": "code",
   "execution_count": 27,
   "metadata": {},
   "outputs": [
    {
     "name": "stdout",
     "output_type": "stream",
     "text": [
      "[15, 10, 8, 6, 4, 15, 10, 8, 6, 4, 15, 10, 8, 6, 4]\n",
      "[]\n"
     ]
    }
   ],
   "source": [
    "print(numeros)\n",
    "numeros.clear()\n",
    "print(numeros)"
   ]
  },
  {
   "cell_type": "code",
   "execution_count": 29,
   "metadata": {},
   "outputs": [
    {
     "name": "stdout",
     "output_type": "stream",
     "text": [
      "[]\n"
     ]
    }
   ],
   "source": [
    "lista = [1,2,3,4,5]\n",
    "del lista[:]\n",
    "print(lista)"
   ]
  }
 ],
 "metadata": {
  "kernelspec": {
   "display_name": "Python 3",
   "language": "python",
   "name": "python3"
  },
  "language_info": {
   "codemirror_mode": {
    "name": "ipython",
    "version": 3
   },
   "file_extension": ".py",
   "mimetype": "text/x-python",
   "name": "python",
   "nbconvert_exporter": "python",
   "pygments_lexer": "ipython3",
   "version": "3.11.0"
  },
  "orig_nbformat": 4
 },
 "nbformat": 4,
 "nbformat_minor": 2
}
