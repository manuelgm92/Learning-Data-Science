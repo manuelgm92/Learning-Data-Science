{
 "cells": [
  {
   "cell_type": "code",
   "execution_count": 3,
   "metadata": {},
   "outputs": [
    {
     "name": "stdout",
     "output_type": "stream",
     "text": [
      "<class 'list'>\n",
      "(1, 2, 3, 4, 5)\n",
      "<class 'tuple'>\n"
     ]
    }
   ],
   "source": [
    "lista_a_tupla = [1, 2, 3, 4, 5]\n",
    "print(type(lista_a_tupla))\n",
    "tupla = tuple(lista_a_tupla)\n",
    "print(tupla)\n",
    "print(type(tupla))\n"
   ]
  },
  {
   "cell_type": "code",
   "execution_count": 30,
   "metadata": {},
   "outputs": [
    {
     "name": "stdout",
     "output_type": "stream",
     "text": [
      "[5, 4, 3, 2, 1]\n"
     ]
    }
   ],
   "source": [
    "numeros = [1, 2, 3, 4, 5]\n",
    "numeros_invertidos =[]\n",
    "\n",
    "for i in range(len(numeros) -1, -1, -1):\n",
    "    numeros_invertidos.append(numeros[i])\n",
    "\n",
    "print(numeros_invertidos)"
   ]
  },
  {
   "cell_type": "code",
   "execution_count": 32,
   "metadata": {},
   "outputs": [
    {
     "name": "stdout",
     "output_type": "stream",
     "text": [
      "(5, 4, 3, 2, 1)\n"
     ]
    }
   ],
   "source": [
    "numeros_invertidos = tuple(reversed(numeros))\n",
    "print(numeros_invertidos)"
   ]
  },
  {
   "cell_type": "code",
   "execution_count": 25,
   "metadata": {},
   "outputs": [
    {
     "name": "stdout",
     "output_type": "stream",
     "text": [
      "[2, 4, 5]\n"
     ]
    },
    {
     "ename": "AttributeError",
     "evalue": "'list' object has no attribute 'reversed'",
     "output_type": "error",
     "traceback": [
      "\u001b[1;31m---------------------------------------------------------------------------\u001b[0m",
      "\u001b[1;31mAttributeError\u001b[0m                            Traceback (most recent call last)",
      "Cell \u001b[1;32mIn[25], line 2\u001b[0m\n\u001b[0;32m      1\u001b[0m \u001b[39mprint\u001b[39m(tupla[::\u001b[39m-\u001b[39m\u001b[39m1\u001b[39m])\n\u001b[1;32m----> 2\u001b[0m \u001b[39mprint\u001b[39m(tupla\u001b[39m.\u001b[39;49mreversed())\n",
      "\u001b[1;31mAttributeError\u001b[0m: 'list' object has no attribute 'reversed'"
     ]
    }
   ],
   "source": [
    "print(tupla[::-1])\n"
   ]
  },
  {
   "cell_type": "code",
   "execution_count": 5,
   "metadata": {},
   "outputs": [
    {
     "data": {
      "text/plain": [
       "(2, 3)"
      ]
     },
     "execution_count": 5,
     "metadata": {},
     "output_type": "execute_result"
    }
   ],
   "source": [
    "tupla[1:3]"
   ]
  },
  {
   "cell_type": "code",
   "execution_count": 13,
   "metadata": {},
   "outputs": [],
   "source": [
    "tupla = list(tupla)"
   ]
  },
  {
   "cell_type": "code",
   "execution_count": 15,
   "metadata": {},
   "outputs": [
    {
     "name": "stdout",
     "output_type": "stream",
     "text": [
      "[2, 4, 5]\n"
     ]
    }
   ],
   "source": [
    "tupla.pop(1)\n",
    "print(tupla)"
   ]
  },
  {
   "cell_type": "code",
   "execution_count": 17,
   "metadata": {},
   "outputs": [
    {
     "data": {
      "text/plain": [
       "{2, 3, 4, 5}"
      ]
     },
     "execution_count": 17,
     "metadata": {},
     "output_type": "execute_result"
    }
   ],
   "source": [
    "lista_duplicada = [2, 2 , 2, 3, 4, 5, 3]\n",
    "set(lista_duplicada)"
   ]
  },
  {
   "cell_type": "code",
   "execution_count": 34,
   "metadata": {},
   "outputs": [
    {
     "name": "stdout",
     "output_type": "stream",
     "text": [
      "[2, 3, 4, 5]\n"
     ]
    }
   ],
   "source": [
    "lista_duplicada = [2, 2 , 2, 3, 4, 5, 3]\n",
    "numeros_sin_repetir = []\n",
    "\n",
    "for n in lista_duplicada:\n",
    "    if n not in numeros_sin_repetir:\n",
    "        numeros_sin_repetir.append(n)\n",
    "\n",
    "print(numeros_sin_repetir)"
   ]
  },
  {
   "cell_type": "code",
   "execution_count": 35,
   "metadata": {},
   "outputs": [
    {
     "name": "stdout",
     "output_type": "stream",
     "text": [
      "['manuel', 'gabrielito', 'antoniete', 'liucasitotito']\n"
     ]
    }
   ],
   "source": [
    "nombres = [\"manuel\", \"gabrielito\", \"paco\", \"antoniete\", \"liucasitotito\"]\n",
    "nombres_con_mas_de_5 = []\n",
    "\n",
    "for n in nombres:\n",
    "    if len(n) >= 5:\n",
    "        nombres_con_mas_de_5.append(n)\n",
    "print(nombres_con_mas_de_5)"
   ]
  },
  {
   "cell_type": "code",
   "execution_count": 37,
   "metadata": {},
   "outputs": [
    {
     "name": "stdout",
     "output_type": "stream",
     "text": [
      "['manuel', 'gabrielito', 'antoniete', 'liucasitotito']\n"
     ]
    }
   ],
   "source": [
    "nombres = [\"manuel\", \"gabrielito\", \"paco\", \"antoniete\", \"liucasitotito\"]\n",
    "nombres_con_mas_de_5 = []\n",
    "nombres_con_mas_de_5 = [n for n in nombres if len(n) >= 5]\n",
    "print(nombres_con_mas_de_5)"
   ]
  },
  {
   "cell_type": "code",
   "execution_count": 44,
   "metadata": {},
   "outputs": [
    {
     "data": {
      "text/plain": [
       "'gabrielito'"
      ]
     },
     "execution_count": 44,
     "metadata": {},
     "output_type": "execute_result"
    }
   ],
   "source": [
    "import random \n",
    "random.choice(nombres)"
   ]
  },
  {
   "cell_type": "code",
   "execution_count": 45,
   "metadata": {},
   "outputs": [
    {
     "name": "stdout",
     "output_type": "stream",
     "text": [
      "{2: 3, 3: 2, 4: 1, 5: 1}\n"
     ]
    }
   ],
   "source": [
    "listaa = [2, 2 , 2, 3, 4, 5, 3]\n",
    "\n",
    "frecuencia = {}\n",
    "for n in listaa:\n",
    "    if n in frecuencia:\n",
    "        frecuencia[n] += 1\n",
    "    else:\n",
    "        frecuencia[n] = 1\n",
    "\n",
    "print(frecuencia)"
   ]
  },
  {
   "cell_type": "code",
   "execution_count": 49,
   "metadata": {},
   "outputs": [
    {
     "name": "stdout",
     "output_type": "stream",
     "text": [
      "Counter({2: 3, 3: 2, 4: 1, 5: 1})\n"
     ]
    }
   ],
   "source": [
    "from collections import Counter\n",
    "listaa = [2, 2 , 2, 3, 4, 5, 3]\n",
    "\n",
    "contador = Counter(listaa)\n",
    "print(contador)"
   ]
  },
  {
   "cell_type": "code",
   "execution_count": 3,
   "metadata": {},
   "outputs": [
    {
     "name": "stdout",
     "output_type": "stream",
     "text": [
      "7\n"
     ]
    }
   ],
   "source": [
    "dic = {\"2\": 3, \"3\": 2, \"4\": 1, \"5\": 1}\n",
    "suma_valores = 0\n",
    "for d in dic.values():\n",
    "    suma_valores = int(suma_valores + d)\n",
    "\n",
    "print(suma_valores)"
   ]
  },
  {
   "cell_type": "code",
   "execution_count": 4,
   "metadata": {},
   "outputs": [
    {
     "name": "stdout",
     "output_type": "stream",
     "text": [
      "7\n"
     ]
    }
   ],
   "source": [
    "dic = {\"2\": 3, \"3\": 2, \"4\": 1, \"5\": 1}\n",
    "total_valores = sum(dic.values())\n",
    "print(total_valores)"
   ]
  },
  {
   "cell_type": "code",
   "execution_count": 11,
   "metadata": {},
   "outputs": [
    {
     "name": "stdout",
     "output_type": "stream",
     "text": [
      "{'1001': 'mouse', '1002': 'teclado', '1003': 'pc', '1004': 'ram'}\n"
     ]
    }
   ],
   "source": [
    "dic = {\"1001\": \"mouse\", \"1002\": \"teclado\", \"1003\": \"pc\", \"1004\": \"ram\", \"1005\": \"mouse\", \"1006\": \"teclado\"}\n",
    "\n",
    "dic2 = {}\n",
    "\n",
    "for k, v in dic.items():\n",
    "    if v not in dic2.values():\n",
    "        dic2[k] = v\n",
    "    \n",
    "print(dic2)"
   ]
  },
  {
   "cell_type": "code",
   "execution_count": 2,
   "metadata": {},
   "outputs": [
    {
     "name": "stdout",
     "output_type": "stream",
     "text": [
      "['1002', '1006', '1004']\n"
     ]
    }
   ],
   "source": [
    "from heapq import nlargest\n",
    "dic = {\"1001\": \"mouse\", \"1002\": \"teclado\", \"1003\": \"pc\", \"1004\": \"ram\", \"1005\": \"mouse\", \"1006\": \"teclado\"}\n",
    "\n",
    "mascaros = nlargest(3, dic, key=dic.get)\n",
    "print(mascaros)"
   ]
  },
  {
   "cell_type": "code",
   "execution_count": 5,
   "metadata": {},
   "outputs": [
    {
     "name": "stdout",
     "output_type": "stream",
     "text": [
      "{\"1001\": \"mouse\", \"1002\": \"teclado\", \"1003\": \"pc\", \"1004\": \"ram\", \"1005\": \"mouse\", \"1006\": \"teclado\"}\n"
     ]
    }
   ],
   "source": [
    "import json\n",
    "dic = {\"1001\": \"mouse\", \"1002\": \"teclado\", \"1003\": \"pc\", \"1004\": \"ram\", \"1005\": \"mouse\", \"1006\": \"teclado\"}\n",
    "\n",
    "dic_json = json.dumps(dic)\n",
    "\n",
    "print(dic_json)"
   ]
  },
  {
   "cell_type": "code",
   "execution_count": 10,
   "metadata": {},
   "outputs": [
    {
     "name": "stdout",
     "output_type": "stream",
     "text": [
      "{1, 2, 3, 4, 5, 6, 7, 8, 9, 10}\n",
      "{2, 3, 5, 7, 11, 13, 17, 19}\n",
      "{1, 2, 3, 4, 5, 6, 7, 8, 9, 10, 11, 13, 17, 19}\n",
      "{2, 3, 5, 7}\n"
     ]
    }
   ],
   "source": [
    "numeros = set(list(range(1,11)))\n",
    "primos = set([2,3,5,7,11,13,17,19])\n",
    "\n",
    "print(numeros)\n",
    "print(primos)\n",
    "\n",
    "union = numeros.union(primos)\n",
    "print(union)\n",
    "\n",
    "intersecion = numeros.intersection(primos)\n",
    "print(intersecion)\n"
   ]
  },
  {
   "cell_type": "code",
   "execution_count": null,
   "metadata": {},
   "outputs": [],
   "source": [
    "numeros = set(list(range(1,11)))\n",
    "primos = set([2,3,5,7,11,13,17,19])"
   ]
  }
 ],
 "metadata": {
  "kernelspec": {
   "display_name": "Python 3",
   "language": "python",
   "name": "python3"
  },
  "language_info": {
   "codemirror_mode": {
    "name": "ipython",
    "version": 3
   },
   "file_extension": ".py",
   "mimetype": "text/x-python",
   "name": "python",
   "nbconvert_exporter": "python",
   "pygments_lexer": "ipython3",
   "version": "3.11.0"
  },
  "orig_nbformat": 4
 },
 "nbformat": 4,
 "nbformat_minor": 2
}
