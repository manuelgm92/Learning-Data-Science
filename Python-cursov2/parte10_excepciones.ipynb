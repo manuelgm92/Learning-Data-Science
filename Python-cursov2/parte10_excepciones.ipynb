{
 "cells": [
  {
   "cell_type": "code",
   "execution_count": 12,
   "metadata": {},
   "outputs": [
    {
     "name": "stdout",
     "output_type": "stream",
     "text": [
      "ERROR:  invalid literal for int() with base 10: '1a'\n",
      "El programa ha terminado\n"
     ]
    }
   ],
   "source": [
    "# Excepciones en flujo de ejecucion de un programa Python\n",
    "try:\n",
    "    numero = int(input(\"Escriba un numero entero:\"))\n",
    "    print(\"Contenido: \", numero)\n",
    "    print(\"Tipo de dato: \", type(numero))\n",
    "\n",
    "except ValueError as e:\n",
    "    print(\"ERROR: \", e)\n",
    "\n",
    "print(\"El programa ha terminado\")"
   ]
  },
  {
   "cell_type": "code",
   "execution_count": 11,
   "metadata": {},
   "outputs": [
    {
     "name": "stdout",
     "output_type": "stream",
     "text": [
      "Captura segura de un numero entero:\n",
      "Su edad es 80 años\n"
     ]
    }
   ],
   "source": [
    "#captura segura de un numero entero\n",
    "print(\"Captura segura de un numero entero:\")\n",
    "\n",
    "while True:\n",
    "    try:\n",
    "        edad = int(input(\"Escriba su edad: \"))\n",
    "\n",
    "        if 0 < edad < 105:\n",
    "            break\n",
    "        else:\n",
    "            print(\"El valor debe ser un valor entre 0 y 105.\")\n",
    "    except:\n",
    "        print(\"Mensaje: No ha escrito un valor valido, intente de nuevo.\")\n",
    "\n",
    "print(\"Su edad es:\", edad, \"años\")"
   ]
  },
  {
   "cell_type": "code",
   "execution_count": 19,
   "metadata": {},
   "outputs": [
    {
     "name": "stdout",
     "output_type": "stream",
     "text": [
      "No se puede dividir entre 0 float division by zero\n"
     ]
    }
   ],
   "source": [
    "#gestion de excepciones en operaciones aritmeticas - division\n",
    "\n",
    "while True:\n",
    "    try:\n",
    "        dividendo = float(input(\"Escriba el dividendo: \"))\n",
    "\n",
    "        break\n",
    "    except:\n",
    "        print(\"MENSAJE: Debe escribir un valor válido. Intente de nuevo.\")\n",
    "\n",
    "while True:\n",
    "    try:\n",
    "        divisor = float(input(\"Escribe el divisor: \"))\n",
    "\n",
    "        break\n",
    "    except:\n",
    "        print(\"MENSAJE: Escibre un valor valido. Intente de nuevo\")\n",
    "    print()\n",
    "\n",
    "try:\n",
    "    division = dividendo / divisor\n",
    "\n",
    "    print(\"El resultado de la división es: \", division)\n",
    "\n",
    "except ZeroDivisionError as e :\n",
    "    print(\"ERROR:\", e)"
   ]
  },
  {
   "cell_type": "code",
   "execution_count": 28,
   "metadata": {},
   "outputs": [
    {
     "name": "stdout",
     "output_type": "stream",
     "text": [
      "Cantidad de lenguajes 6\n",
      "Primer elemento:  Python\n",
      "ERROR: el indice 6, no existe en la lista de lenguajes\n"
     ]
    }
   ],
   "source": [
    "#gestion de excepciones para acceso a alementos de una lista\n",
    "\n",
    "lenguajes = [\"Python\", \"C++\", \"JavaScript\", \"C#\", \"Java\", \"C\"]\n",
    "\n",
    "print(\"Cantidad de lenguajes\", len(lenguajes))\n",
    "\n",
    "print(\"Primer elemento: \", lenguajes[0])\n",
    "indice=6\n",
    "\n",
    "try:\n",
    "    print(\"Primer elemento: \", lenguajes[indice])\n",
    "    \n",
    "except IndexError as e:\n",
    "    print(f\"ERROR: el indice {indice}, no existe en la lista de lenguajes\")\n",
    "\n",
    "    \n"
   ]
  },
  {
   "cell_type": "code",
   "execution_count": 30,
   "metadata": {},
   "outputs": [
    {
     "name": "stdout",
     "output_type": "stream",
     "text": [
      "Ultimo elemento:  C\n",
      "ERROR: -7 no está en la lista de lenguajes.\n"
     ]
    }
   ],
   "source": [
    "#Intento de acceso a indices negativos\n",
    "\n",
    "lenguajes = [\"Python\", \"C++\", \"JavaScript\", \"C#\", \"Java\", \"C\"]\n",
    "\n",
    "print(\"Ultimo elemento: \", lenguajes[-1])\n",
    "\n",
    "indice = -7\n",
    "\n",
    "try:\n",
    "    print(lenguajes[indice])\n",
    "except:\n",
    "    print(f\"ERROR: {indice} no está en la lista de lenguajes.\")"
   ]
  },
  {
   "cell_type": "code",
   "execution_count": 8,
   "metadata": {},
   "outputs": [
    {
     "name": "stdout",
     "output_type": "stream",
     "text": [
      "La versión de Java es 12\n",
      "Fin del programa\n"
     ]
    }
   ],
   "source": [
    "#excepciones a la hora de trabajar con diccionarios\n",
    "\n",
    "versiones ={\"Python\": \"3.8.1\", \"Java\": \"12\", \"JavaScript\":\"ES6\", \"C#\":\"8\"}\n",
    "\n",
    "lenguaje = input(\"Escriba un nombre de lenguaje de programación:\")\n",
    "\n",
    "\n",
    "try:\n",
    "    version = versiones[lenguaje]\n",
    "    print(f\"La versión de {lenguaje} es {version}\")\n",
    "except KeyError as e:\n",
    "    print(\"ERROR: No se encuentra en el diccionario versiones.\", e)\n",
    "\n",
    "print(\"Fin del programa\")\n",
    "\n",
    "\n",
    "\n"
   ]
  },
  {
   "cell_type": "code",
   "execution_count": 13,
   "metadata": {},
   "outputs": [
    {
     "name": "stdout",
     "output_type": "stream",
     "text": [
      "Codigo: 1001\n",
      "Nombre: Computador\n",
      "Precio: 799\n",
      "Se está intentando acceder a una propiedad/atributo inexistente.\n",
      "ERROR: 'Producto' object has no attribute 'cantidad'\n"
     ]
    }
   ],
   "source": [
    "#error al intentar acceder a un atributo inexistente en una clase:\n",
    "\n",
    "class Producto:\n",
    "    def __init__(self, codigo, nombre, precio):\n",
    "        self.codigo = codigo\n",
    "        self.nombre = nombre\n",
    "        self.precio = precio\n",
    "\n",
    "computador = Producto(1001, \"Computador\", 799)\n",
    "\n",
    "print(\"Codigo:\", computador.codigo)\n",
    "print(\"Nombre:\", computador.nombre)\n",
    "print(\"Precio:\", computador.precio)\n",
    "\n",
    "try:\n",
    "    print(\"Cantidad:\", computador.cantidad)\n",
    "except AttributeError as e:\n",
    "    print(\"Se está intentando acceder a una propiedad/atributo inexistente.\")\n",
    "    print(\"ERROR:\", e)"
   ]
  },
  {
   "cell_type": "code",
   "execution_count": 15,
   "metadata": {},
   "outputs": [
    {
     "name": "stdout",
     "output_type": "stream",
     "text": [
      "ERROR: [Errno 2] No such file or directory: 'python.txt'\n"
     ]
    }
   ],
   "source": [
    "#Error al abrir o acceder a un archivo del sistema de almacenamiento\n",
    "\n",
    "nombre_archivo = \"python.txt\"\n",
    "\n",
    "try:\n",
    "    with open(nombre_archivo, \"r\") as f:\n",
    "        for l in f.readlines():\n",
    "            print(l)\n",
    "except FileNotFoundError as e:\n",
    "    print(\"ERROR:\", e)\n",
    "\n"
   ]
  },
  {
   "cell_type": "code",
   "execution_count": 20,
   "metadata": {},
   "outputs": [
    {
     "name": "stdout",
     "output_type": "stream",
     "text": [
      "ERROR ValorMaximoError: Ha escrito un valor mayor a 20.\n",
      "ERROR ValorMinimoError: Ha escrito un valor menor a 10.\n",
      "Debe escribir un valor entero valido.\n",
      "Debe escribir un valor entero valido.\n",
      "ERROR ValorMaximoError: Ha escrito un valor mayor a 20.\n",
      "Ha escrito un numero valido: 12\n",
      "\n"
     ]
    }
   ],
   "source": [
    "#cracion de una clase de excepcion personalizada\n",
    "\n",
    "class ValorMinimoError(Exception):\n",
    "    def __init__(self, *args):\n",
    "        if args:\n",
    "            self.message = args[0]\n",
    "        else:\n",
    "            self.message = None\n",
    "    \n",
    "    def __str__(self):\n",
    "        if self.message:\n",
    "            return f\"ValorMinimoError: {self.message}\"\n",
    "        else:\n",
    "            return \"Se ha generado el error ValorMinimoError.\"\n",
    "        \n",
    "class ValorMaximoError(Exception):\n",
    "    def __init__(self, *args):\n",
    "        if args:\n",
    "            self.message = args[0]\n",
    "        else:\n",
    "            self.message = None\n",
    "    \n",
    "    def __str__(self):\n",
    "        if self.message:\n",
    "            return f\"ValorMaximoError: {self.message}\"\n",
    "        else:\n",
    "            return \"Se ha generado el error ValorMaximoError.\"\n",
    "\n",
    "minimo = 10\n",
    "\n",
    "maximo = 20\n",
    "\n",
    "while True:\n",
    "    try:\n",
    "        numero = int(input(f\"Escriba un numero entre {minimo} y {maximo}.\"))\n",
    "\n",
    "        if numero < minimo:\n",
    "            raise ValorMinimoError(f\"Ha escrito un valor menor a {minimo}.\")\n",
    "        elif numero > maximo:\n",
    "            raise ValorMaximoError(f\"Ha escrito un valor mayor a {maximo}.\")\n",
    "        \n",
    "        print(\"Ha escrito un numero valido:\", numero)\n",
    "        break\n",
    "    except ValueError:\n",
    "        print(\"Debe escribir un valor entero valido.\")\n",
    "    except ValorMinimoError as e:\n",
    "        print(\"ERROR\", e)\n",
    "    except ValorMaximoError as e:\n",
    "        print(\"ERROR\", e)\n",
    "\n",
    "print()\n"
   ]
  },
  {
   "cell_type": "code",
   "execution_count": null,
   "metadata": {},
   "outputs": [],
   "source": []
  }
 ],
 "metadata": {
  "kernelspec": {
   "display_name": "Python 3",
   "language": "python",
   "name": "python3"
  },
  "language_info": {
   "codemirror_mode": {
    "name": "ipython",
    "version": 3
   },
   "file_extension": ".py",
   "mimetype": "text/x-python",
   "name": "python",
   "nbconvert_exporter": "python",
   "pygments_lexer": "ipython3",
   "version": "3.11.0"
  },
  "orig_nbformat": 4
 },
 "nbformat": 4,
 "nbformat_minor": 2
}
