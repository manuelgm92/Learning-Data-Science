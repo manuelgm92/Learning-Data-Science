{
 "cells": [
  {
   "cell_type": "code",
   "execution_count": 8,
   "metadata": {},
   "outputs": [
    {
     "name": "stdout",
     "output_type": "stream",
     "text": [
      "El resultado es 5\n"
     ]
    }
   ],
   "source": [
    "#creación de una función\n",
    "\n",
    "def sumar(numero_1, numero_2):\n",
    "    \"\"\"\n",
    "    Suma dos números, sean enteros o flotantes.\n",
    "\n",
    "    Parameters:\n",
    "    numero_1: primer valor a sumar\n",
    "    numero_2: segundo valor a sumar\n",
    "\n",
    "    Returns:\n",
    "    Suma de dos números\n",
    "    \"\"\"\n",
    "    suma = numero_1 + numero_2\n",
    "    \n",
    "    return suma\n",
    "\n",
    "x = 2\n",
    "y = 3\n",
    "\n",
    "resultado = sumar(x, y)\n",
    "print(\"El resultado es {}\".format(resultado))"
   ]
  },
  {
   "cell_type": "code",
   "execution_count": 5,
   "metadata": {},
   "outputs": [
    {
     "name": "stdout",
     "output_type": "stream",
     "text": [
      "El resultado es 5\n"
     ]
    }
   ],
   "source": [
    "resultado = sumar(2,3)\n",
    "print(\"El resultado es {}\".format(resultado))"
   ]
  },
  {
   "cell_type": "code",
   "execution_count": 10,
   "metadata": {},
   "outputs": [
    {
     "name": "stdout",
     "output_type": "stream",
     "text": [
      "Help on function sumar in module __main__:\n",
      "\n",
      "sumar(numero_1, numero_2)\n",
      "    Suma dos números, sean enteros o flotantes.\n",
      "    \n",
      "    Parameters:\n",
      "    numero_1: primer valor a sumar\n",
      "    numero_2: segundo valor a sumar\n",
      "    \n",
      "    Returns:\n",
      "    Suma de dos números\n",
      "\n"
     ]
    }
   ],
   "source": [
    "#obtener informacion/ayuda de una funcion\n",
    "\n",
    "help(sumar)\n"
   ]
  },
  {
   "cell_type": "code",
   "execution_count": 13,
   "metadata": {},
   "outputs": [
    {
     "name": "stdout",
     "output_type": "stream",
     "text": [
      "Valores antes del intercambio: a:2 y b:3\n",
      "Valores despues del intercambio: a:3 y b:2\n"
     ]
    }
   ],
   "source": [
    "#creacion deuna funcion para intercambiar los valores de dos variables:\n",
    "\n",
    "# a=2, b=3\n",
    "# a=3, b=2\n",
    "def intercambiar_valores(a,b):\n",
    "    \"\"\"\n",
    "    Intercambia los valores de 2 variables.\n",
    "\n",
    "    Parameters:\n",
    "    a: primer valor\n",
    "    b: segundo valor\n",
    "\n",
    "    Returns:\n",
    "    Los valores de a y b intercambiados\n",
    "    \"\"\"\n",
    "    auxiliar = a\n",
    "    a = b\n",
    "    b = auxiliar\n",
    "\n",
    "    return (a, b)\n",
    "\n",
    "a = 2\n",
    "b = 3\n",
    "print(f\"Valores antes del intercambio: a:{a} y b:{b}\")\n",
    "\n",
    "resultado = intercambiar_valores(a, b)\n",
    "\n",
    "a = resultado[0]\n",
    "b = resultado[1]\n",
    "print(f\"Valores despues del intercambio: a:{a} y b:{b}\")"
   ]
  },
  {
   "cell_type": "code",
   "execution_count": 17,
   "metadata": {},
   "outputs": [
    {
     "name": "stdout",
     "output_type": "stream",
     "text": [
      "5\n",
      "\n",
      "x:3, y2\n",
      "\n",
      "x:2, y3\n"
     ]
    }
   ],
   "source": [
    "# uso de funcionalidad que provee en su defecto (incorporado) el lenguaje de programacion\n",
    "\n",
    "x = 2\n",
    "y = 3\n",
    "\n",
    "suma = x + y\n",
    "\n",
    "print(suma)\n",
    "print()\n",
    "auxiliar = x\n",
    "x = y\n",
    "y = auxiliar\n",
    "print(f\"x:{x}, y{y}\")\n",
    "print()\n",
    "x, y = y, x\n",
    "print(f\"x:{x}, y{y}\")"
   ]
  },
  {
   "cell_type": "code",
   "execution_count": 18,
   "metadata": {},
   "outputs": [
    {
     "name": "stdout",
     "output_type": "stream",
     "text": [
      "Valor de x antes de su duplicación: 2\n",
      "El numero duplicado es igual a 4\n",
      "Valor de x despues de su duplicación: 2\n"
     ]
    }
   ],
   "source": [
    "# pasar argumentos por valor:\n",
    "\n",
    "def duplicar(numero):\n",
    "    numero *= 2\n",
    "    print(f\"El numero duplicado es igual a {numero}\")       \n",
    "\n",
    "    #es una copia, no modifica la variable original\n",
    "\n",
    "x = 2\n",
    "print(\"Valor de x antes de su duplicación:\", x)\n",
    "\n",
    "duplicar(x)\n",
    "print(\"Valor de x despues de su duplicación:\", x)\n"
   ]
  },
  {
   "cell_type": "code",
   "execution_count": 21,
   "metadata": {},
   "outputs": [
    {
     "name": "stdout",
     "output_type": "stream",
     "text": [
      "Valor de x antes de su duplicación: [1]\n",
      "Valor de x despues de su duplicación: [1, 2]\n"
     ]
    }
   ],
   "source": [
    "# pasar argumentos por referencia (objeto)\n",
    "\n",
    "def agregar_elemento(lista):\n",
    "    lista.append(2)\n",
    "\n",
    "numeros = [1]\n",
    "\n",
    "print(\"Valor de x antes de su duplicación:\", numeros)\n",
    "\n",
    "agregar_elemento(numeros)\n",
    "print(\"Valor de x despues de su duplicación:\", numeros)\n"
   ]
  },
  {
   "cell_type": "code",
   "execution_count": 31,
   "metadata": {},
   "outputs": [
    {
     "name": "stdout",
     "output_type": "stream",
     "text": [
      "Resultado de la suma: 11\n",
      "Resultado de la suma: 36\n"
     ]
    }
   ],
   "source": [
    "# lista variable de argumentos de una funcion:\n",
    "\n",
    "def sumar(*valores):\n",
    "    suma = 0\n",
    "\n",
    "    for v in valores:\n",
    "        suma += v\n",
    "    \n",
    "    return suma\n",
    "\n",
    "resultado = sumar(1,3,7)\n",
    "\n",
    "print(\"Resultado de la suma:\", resultado)\n",
    "\n",
    "resultado = sumar(1,3,7,10,15)\n",
    "\n",
    "print(\"Resultado de la suma:\", resultado)\n",
    "\n"
   ]
  },
  {
   "cell_type": "code",
   "execution_count": 49,
   "metadata": {},
   "outputs": [
    {
     "name": "stdout",
     "output_type": "stream",
     "text": [
      "Nombre: Manuel\n",
      "Apellido: Gonzalez\n",
      "\n",
      "Documento:123234124\n",
      "Nombre: Manuel\n",
      "Apellido: Gonzalez\n",
      "\n"
     ]
    }
   ],
   "source": [
    "#argumentos nombrados variables - keywords:\n",
    "\n",
    "def mostrar_identidad(**identificacion):\n",
    "    resultado = \"\"\n",
    "    if identificacion.get(\"documento\"):\n",
    "        resultado += \"Documento:\" + identificacion.get(\"documento\") + \"\\n\"\n",
    "    if identificacion.get(\"nombre\"):\n",
    "        resultado += \"Nombre: \" + identificacion.get(\"nombre\") + \"\\n\"\n",
    "    if identificacion.get(\"apellido\"):\n",
    "        resultado += \"Apellido: \" + identificacion.get(\"apellido\") + \"\\n\"\n",
    "\n",
    "    return resultado\n",
    "\n",
    "persona = mostrar_identidad(nombre = \"Manuel\", apellido = \"Gonzalez\")\n",
    "\n",
    "print(persona)\n",
    "persona = mostrar_identidad(nombre = \"Manuel\", apellido = \"Gonzalez\", documento = \"123234124\")\n",
    "\n",
    "print(persona)\n",
    "\n",
    "\n",
    "\n"
   ]
  },
  {
   "cell_type": "code",
   "execution_count": 52,
   "metadata": {},
   "outputs": [
    {
     "name": "stdout",
     "output_type": "stream",
     "text": [
      "Buenos días, mi nombre es Edward, y soy de Colombia\n",
      "Hola, mi nombre es Manuel, y soy de España\n"
     ]
    }
   ],
   "source": [
    "#argumentos por defecto en un a funcion\n",
    "\n",
    "def saludar(nombre,saludo=\"Hola\",pais=\"Colombia\"):\n",
    "    \"\"\"\n",
    "    Saluda utilizando un saludo, un nombre y un pais de procedencia.\n",
    "\n",
    "    Parameters:\n",
    "    nombre: nombre de la persona\n",
    "    saludo:tipo de saludo e.g Hola, Buenos dias...\n",
    "    pais: nacionalidad de la persona\n",
    "\n",
    "    Returns:\n",
    "    Una frase con el saludo que incluye nombre y la nacionalidad.\n",
    "    \n",
    "    \"\"\"\n",
    "    frase = f\"{saludo}, mi nombre es {nombre}, y soy de {pais}\"\n",
    "    return frase\n",
    "\n",
    "resultado = saludar(nombre=\"Edward\",saludo = \"Buenos días\")\n",
    "print(resultado)\n",
    "resultado = saludar(nombre=\"Manuel\",pais = \"España\")\n",
    "print(resultado)"
   ]
  },
  {
   "cell_type": "code",
   "execution_count": 54,
   "metadata": {},
   "outputs": [
    {
     "name": "stdout",
     "output_type": "stream",
     "text": [
      "25\n",
      "125\n"
     ]
    }
   ],
   "source": [
    "def exponenciacion(base, exponente=2):\n",
    "    \"\"\"\n",
    "    Calcula la exponenciacion de un numero base respecto a un exponente.\n",
    "\n",
    "    Parameters:\n",
    "    base: es la base.\n",
    "    exponente: es el exponente, por defecto 2.\n",
    "\n",
    "    Returns:\n",
    "    exponenciacion de un numero respecto al exponente.\n",
    "    \"\"\"\n",
    "    resultado = base ** exponente\n",
    "    return resultado\n",
    "\n",
    "potencia = exponenciacion(5)\n",
    "print(potencia)\n",
    "potencia = exponenciacion(5,3)\n",
    "print(potencia)\n",
    "\n"
   ]
  }
 ],
 "metadata": {
  "kernelspec": {
   "display_name": "Python 3",
   "language": "python",
   "name": "python3"
  },
  "language_info": {
   "codemirror_mode": {
    "name": "ipython",
    "version": 3
   },
   "file_extension": ".py",
   "mimetype": "text/x-python",
   "name": "python",
   "nbconvert_exporter": "python",
   "pygments_lexer": "ipython3",
   "version": "3.11.0"
  },
  "orig_nbformat": 4
 },
 "nbformat": 4,
 "nbformat_minor": 2
}
