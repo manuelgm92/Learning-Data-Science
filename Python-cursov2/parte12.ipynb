{
 "cells": [
  {
   "cell_type": "markdown",
   "metadata": {},
   "source": [
    "#parametros args y kwargs en python \n",
    "\n",
    "*args\n",
    "\n",
    "**kwargs"
   ]
  },
  {
   "cell_type": "code",
   "execution_count": null,
   "metadata": {},
   "outputs": [],
   "source": [
    "def nombre_f():\n",
    "    return 2\n"
   ]
  },
  {
   "cell_type": "code",
   "execution_count": null,
   "metadata": {},
   "outputs": [],
   "source": [
    "def nombre_f_1(arg1, arg2, arg3=5):\n",
    "    return arg2"
   ]
  },
  {
   "cell_type": "code",
   "execution_count": 2,
   "metadata": {},
   "outputs": [
    {
     "name": "stdout",
     "output_type": "stream",
     "text": [
      "<class 'tuple'>\n",
      "(2, ['g', 'h'], 'manuel')\n"
     ]
    }
   ],
   "source": [
    "def nombre_args(*args):   #se utiliza para dar todos los argumentos que se quieran\n",
    "    print(type(args))\n",
    "    print(args)\n",
    "\n",
    "x = 2\n",
    "y = [\"g\", \"h\"]\n",
    "nombre_args(x, y, \"manuel\")\n",
    "\n"
   ]
  },
  {
   "cell_type": "code",
   "execution_count": 3,
   "metadata": {},
   "outputs": [
    {
     "data": {
      "text/plain": [
       "12"
      ]
     },
     "execution_count": 3,
     "metadata": {},
     "output_type": "execute_result"
    }
   ],
   "source": [
    "t = (2,4,6)\n",
    "sum(t)"
   ]
  },
  {
   "cell_type": "code",
   "execution_count": 5,
   "metadata": {},
   "outputs": [
    {
     "name": "stdout",
     "output_type": "stream",
     "text": [
      "5679\n"
     ]
    }
   ],
   "source": [
    "def realiza_suma_numeros(*args):\n",
    "    print(sum(args))\n",
    "\n",
    "realiza_suma_numeros(7, 222, 9999, -4549)"
   ]
  },
  {
   "cell_type": "code",
   "execution_count": 7,
   "metadata": {},
   "outputs": [
    {
     "name": "stdout",
     "output_type": "stream",
     "text": [
      "7\n",
      "(222, 9999, -4549)\n",
      "5672\n"
     ]
    }
   ],
   "source": [
    "def realiza_suma_numeros(x, *args):   #x es el primer argumento \"obligatorio\", args son opcionales\n",
    "    print(x) \n",
    "    print(args)\n",
    "    print(sum(args))\n",
    "\n",
    "realiza_suma_numeros(7, 222, 9999, -4549)"
   ]
  },
  {
   "cell_type": "code",
   "execution_count": 13,
   "metadata": {},
   "outputs": [
    {
     "name": "stdout",
     "output_type": "stream",
     "text": [
      "<class 'dict'>\n",
      "{'x': 2, 'p': 3}\n"
     ]
    }
   ],
   "source": [
    "def funcion_kwargs(**kwargs):  #se utiliza para diccionarios y exige la \"clave\"\n",
    "    print(type(kwargs))\n",
    "    print(kwargs)\n",
    "\n",
    "funcion_kwargs(x=2, p=3)     # {'x': 2, 'p': 3}"
   ]
  },
  {
   "cell_type": "code",
   "execution_count": 16,
   "metadata": {},
   "outputs": [
    {
     "name": "stdout",
     "output_type": "stream",
     "text": [
      "x: 2\n",
      "<class 'dict'>\n",
      "{'p': 3}\n"
     ]
    }
   ],
   "source": [
    "def funcion_kwargs(x, **kwargs):  #se utiliza para diccionarios y exige la \"clave\"\n",
    "    print(\"x:\", x)\n",
    "    print(type(kwargs))\n",
    "    print(kwargs)\n",
    "\n",
    "funcion_kwargs(x=2, p=3) "
   ]
  },
  {
   "cell_type": "code",
   "execution_count": 19,
   "metadata": {},
   "outputs": [
    {
     "name": "stdout",
     "output_type": "stream",
     "text": [
      "x: 2\n",
      "b: 4\n",
      "<class 'dict'>\n",
      "{'p': 3, 's': [-8, -9]}\n"
     ]
    }
   ],
   "source": [
    "def funcion_kwargs(x, b=4, **kwargs):  #se utiliza para diccionarios y exige la \"clave\"\n",
    "    print(\"x:\", x)\n",
    "    print(\"b:\", b)\n",
    "    print(type(kwargs))\n",
    "    print(kwargs)\n",
    "\n",
    "funcion_kwargs(2, p=3, s= [-8, -9]) "
   ]
  },
  {
   "cell_type": "code",
   "execution_count": 22,
   "metadata": {},
   "outputs": [
    {
     "ename": "TypeError",
     "evalue": "funcion_kwargs() takes from 1 to 2 positional arguments but 3 were given",
     "output_type": "error",
     "traceback": [
      "\u001b[1;31m---------------------------------------------------------------------------\u001b[0m",
      "\u001b[1;31mTypeError\u001b[0m                                 Traceback (most recent call last)",
      "\u001b[1;32mw:\\data-science\\Learning-Data-Science\\Python-cursov2\\parte12.ipynb Celda 11\u001b[0m line \u001b[0;36m7\n\u001b[0;32m      <a href='vscode-notebook-cell:/w%3A/data-science/Learning-Data-Science/Python-cursov2/parte12.ipynb#X13sZmlsZQ%3D%3D?line=3'>4</a>\u001b[0m     \u001b[39mprint\u001b[39m(\u001b[39mtype\u001b[39m(kwargs))\n\u001b[0;32m      <a href='vscode-notebook-cell:/w%3A/data-science/Learning-Data-Science/Python-cursov2/parte12.ipynb#X13sZmlsZQ%3D%3D?line=4'>5</a>\u001b[0m     \u001b[39mprint\u001b[39m(kwargs)\n\u001b[1;32m----> <a href='vscode-notebook-cell:/w%3A/data-science/Learning-Data-Science/Python-cursov2/parte12.ipynb#X13sZmlsZQ%3D%3D?line=6'>7</a>\u001b[0m funcion_kwargs(\u001b[39m2\u001b[39;49m, \u001b[39m-\u001b[39;49m\u001b[39m1\u001b[39;49m, \u001b[39m-\u001b[39;49m\u001b[39m9999\u001b[39;49m, p\u001b[39m=\u001b[39;49m\u001b[39m3\u001b[39;49m, s\u001b[39m=\u001b[39;49m [\u001b[39m-\u001b[39;49m\u001b[39m8\u001b[39;49m, \u001b[39m-\u001b[39;49m\u001b[39m9\u001b[39;49m]) \n",
      "\u001b[1;31mTypeError\u001b[0m: funcion_kwargs() takes from 1 to 2 positional arguments but 3 were given"
     ]
    }
   ],
   "source": [
    "def funcion_kwargs(x, b=4, **kwargs):  #se utiliza para diccionarios y exige la \"clave\"\n",
    "    print(\"x:\", x)\n",
    "    print(\"b:\", b)\n",
    "    print(type(kwargs))\n",
    "    print(kwargs)\n",
    "\n",
    "funcion_kwargs(2, -1, -9999, p=3, s= [-8, -9]) "
   ]
  },
  {
   "cell_type": "code",
   "execution_count": null,
   "metadata": {},
   "outputs": [],
   "source": [
    "args no admite nombres de variables, kwargs si"
   ]
  },
  {
   "cell_type": "code",
   "execution_count": 23,
   "metadata": {},
   "outputs": [
    {
     "ename": "TypeError",
     "evalue": "ejem() got an unexpected keyword argument 'x'",
     "output_type": "error",
     "traceback": [
      "\u001b[1;31m---------------------------------------------------------------------------\u001b[0m",
      "\u001b[1;31mTypeError\u001b[0m                                 Traceback (most recent call last)",
      "\u001b[1;32mw:\\data-science\\Learning-Data-Science\\Python-cursov2\\parte12.ipynb Celda 13\u001b[0m line \u001b[0;36m4\n\u001b[0;32m      <a href='vscode-notebook-cell:/w%3A/data-science/Learning-Data-Science/Python-cursov2/parte12.ipynb#X15sZmlsZQ%3D%3D?line=0'>1</a>\u001b[0m \u001b[39mdef\u001b[39;00m \u001b[39mejem\u001b[39m(\u001b[39m*\u001b[39margs):\n\u001b[0;32m      <a href='vscode-notebook-cell:/w%3A/data-science/Learning-Data-Science/Python-cursov2/parte12.ipynb#X15sZmlsZQ%3D%3D?line=1'>2</a>\u001b[0m     \u001b[39mprint\u001b[39m(args)\n\u001b[1;32m----> <a href='vscode-notebook-cell:/w%3A/data-science/Learning-Data-Science/Python-cursov2/parte12.ipynb#X15sZmlsZQ%3D%3D?line=3'>4</a>\u001b[0m ejem(x\u001b[39m=\u001b[39;49m\u001b[39m2\u001b[39;49m)\n",
      "\u001b[1;31mTypeError\u001b[0m: ejem() got an unexpected keyword argument 'x'"
     ]
    }
   ],
   "source": [
    "def ejem(*args):\n",
    "    print(args)\n",
    "\n",
    "ejem(x=2)"
   ]
  },
  {
   "cell_type": "code",
   "execution_count": 24,
   "metadata": {},
   "outputs": [
    {
     "name": "stdout",
     "output_type": "stream",
     "text": [
      "{'x': 2}\n"
     ]
    }
   ],
   "source": [
    "def ejem(**kwargs):\n",
    "    print(kwargs)\n",
    "\n",
    "ejem(x=2)"
   ]
  },
  {
   "cell_type": "code",
   "execution_count": 31,
   "metadata": {},
   "outputs": [
    {
     "name": "stdout",
     "output_type": "stream",
     "text": [
      "x: 2\n",
      "b: -1\n",
      "<class 'tuple'>\n",
      "*args: (3,)\n",
      "<class 'dict'>\n",
      "**kwargs: {'z': 2}\n"
     ]
    }
   ],
   "source": [
    "def funcion__args_kwargs(x, b=4, *args, **kwargs):  \n",
    "    print(\"x:\", x)\n",
    "    print(\"b:\", b)\n",
    "    print(type(args))\n",
    "    print(\"*args:\", args)\n",
    "    print(type(kwargs))\n",
    "    print(\"**kwargs:\",kwargs)\n",
    "\n",
    "funcion__args_kwargs(2, -1, 3, z=2) "
   ]
  }
 ],
 "metadata": {
  "kernelspec": {
   "display_name": "Python 3",
   "language": "python",
   "name": "python3"
  },
  "language_info": {
   "codemirror_mode": {
    "name": "ipython",
    "version": 3
   },
   "file_extension": ".py",
   "mimetype": "text/x-python",
   "name": "python",
   "nbconvert_exporter": "python",
   "pygments_lexer": "ipython3",
   "version": "3.11.0"
  },
  "orig_nbformat": 4
 },
 "nbformat": 4,
 "nbformat_minor": 2
}
