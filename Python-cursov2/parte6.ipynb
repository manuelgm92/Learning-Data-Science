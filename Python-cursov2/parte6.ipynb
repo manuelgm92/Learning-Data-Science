{
 "cells": [
  {
   "cell_type": "code",
   "execution_count": 2,
   "metadata": {},
   "outputs": [
    {
     "name": "stdout",
     "output_type": "stream",
     "text": [
      "4\n"
     ]
    }
   ],
   "source": [
    "potencia = 2 ** 2\n",
    "print(potencia)"
   ]
  },
  {
   "cell_type": "code",
   "execution_count": 6,
   "metadata": {},
   "outputs": [
    {
     "name": "stdout",
     "output_type": "stream",
     "text": [
      "8\n"
     ]
    }
   ],
   "source": [
    "potencia = pow(2, 3)\n",
    "print(potencia)"
   ]
  },
  {
   "cell_type": "code",
   "execution_count": 8,
   "metadata": {},
   "outputs": [
    {
     "name": "stdout",
     "output_type": "stream",
     "text": [
      "La cadena str de n1: Manuel no es igual a manuel: True\n"
     ]
    }
   ],
   "source": [
    "n1 = \"Manuel\"\n",
    "n2 = \"manuel\"\n",
    "\n",
    "print(f'La cadena str de n1: {n1} no es igual a {n2}: {n1 != n2}')"
   ]
  },
  {
   "cell_type": "code",
   "execution_count": 13,
   "metadata": {},
   "outputs": [
    {
     "name": "stdout",
     "output_type": "stream",
     "text": [
      "False\n"
     ]
    }
   ],
   "source": [
    "n1 = [1,2,3]\n",
    "n2 = [1,3,2]\n",
    "\n",
    "print(n1 is n2)"
   ]
  },
  {
   "cell_type": "code",
   "execution_count": 14,
   "metadata": {},
   "outputs": [
    {
     "name": "stdout",
     "output_type": "stream",
     "text": [
      "0\n"
     ]
    }
   ],
   "source": [
    "n1 = 5 #valor en binario 101\n",
    "n2 = 2 #valor en binario 10\n",
    "\n",
    "resultado = n1 & n2\n",
    "print(resultado)\n",
    "\n"
   ]
  },
  {
   "cell_type": "code",
   "execution_count": 20,
   "metadata": {},
   "outputs": [
    {
     "name": "stdout",
     "output_type": "stream",
     "text": [
      "6\n",
      "5\n",
      "10\n",
      "5.0\n",
      "2\n"
     ]
    }
   ],
   "source": [
    "n3 = 5\n",
    "n3 += 1\n",
    "print(n3)\n",
    "n3 -= 1\n",
    "print(n3)\n",
    "n3 *= 2\n",
    "print(n3)\n",
    "n3 /= 2\n",
    "print(n3)\n",
    "n3 //= 2\n",
    "n3 = round(n3)\n",
    "print(n3)"
   ]
  },
  {
   "cell_type": "code",
   "execution_count": 21,
   "metadata": {},
   "outputs": [
    {
     "name": "stdout",
     "output_type": "stream",
     "text": [
      "3\n"
     ]
    }
   ],
   "source": [
    "numero = 10\n",
    "numero %= 7\n",
    "print(numero)\n"
   ]
  },
  {
   "cell_type": "code",
   "execution_count": 26,
   "metadata": {},
   "outputs": [
    {
     "name": "stdout",
     "output_type": "stream",
     "text": [
      "1.0\n",
      "-1.0\n"
     ]
    }
   ],
   "source": [
    "#linealización\n",
    "a=1\n",
    "b=0\n",
    "c=-1\n",
    "\n",
    "x1 = (-b + (b**2 - 4*a*c)**(1/2))/ (2*a)\n",
    "x2 = (-b - (b**2 - 4*a*c)**(1/2))/ (2*a)\n",
    "\n",
    "print(x1)\n",
    "print(x2)\n"
   ]
  },
  {
   "cell_type": "code",
   "execution_count": 27,
   "metadata": {},
   "outputs": [
    {
     "data": {
      "text/plain": [
       "25"
      ]
     },
     "execution_count": 27,
     "metadata": {},
     "output_type": "execute_result"
    }
   ],
   "source": [
    "x=1\n",
    "y=2\n",
    "z=3\n",
    "\n",
    "op = x**2 + 4*y*z\n",
    "op"
   ]
  },
  {
   "cell_type": "code",
   "execution_count": 28,
   "metadata": {},
   "outputs": [
    {
     "data": {
      "text/plain": [
       "9.6"
      ]
     },
     "execution_count": 28,
     "metadata": {},
     "output_type": "execute_result"
    }
   ],
   "source": [
    "x=1\n",
    "y=2\n",
    "z=3\n",
    "\n",
    "b = ((x + y) / z) + ((3*x)/5) + 4*y\n",
    "b"
   ]
  },
  {
   "cell_type": "code",
   "execution_count": 30,
   "metadata": {},
   "outputs": [
    {
     "data": {
      "text/plain": [
       "5.0"
      ]
     },
     "execution_count": 30,
     "metadata": {},
     "output_type": "execute_result"
    }
   ],
   "source": [
    "x=1\n",
    "y=2\n",
    "z=3\n",
    "c= 5\n",
    "d= 3\n",
    "\n",
    "resultado = ((4*(x**2)) - (2*x) + 8) / (c - d)\n",
    "resultado"
   ]
  },
  {
   "cell_type": "code",
   "execution_count": 32,
   "metadata": {},
   "outputs": [
    {
     "name": "stdout",
     "output_type": "stream",
     "text": [
      "4.1887902047863905\n"
     ]
    }
   ],
   "source": [
    "import math \n",
    "\n",
    "pi = math.pi\n",
    "\n",
    "e = (4/3) * pi\n",
    "print(e)"
   ]
  }
 ],
 "metadata": {
  "kernelspec": {
   "display_name": "Python 3",
   "language": "python",
   "name": "python3"
  },
  "language_info": {
   "codemirror_mode": {
    "name": "ipython",
    "version": 3
   },
   "file_extension": ".py",
   "mimetype": "text/x-python",
   "name": "python",
   "nbconvert_exporter": "python",
   "pygments_lexer": "ipython3",
   "version": "3.11.0"
  },
  "orig_nbformat": 4
 },
 "nbformat": 4,
 "nbformat_minor": 2
}
