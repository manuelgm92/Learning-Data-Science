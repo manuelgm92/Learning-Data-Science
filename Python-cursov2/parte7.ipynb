{
 "cells": [
  {
   "cell_type": "code",
   "execution_count": 22,
   "metadata": {},
   "outputs": [
    {
     "name": "stdout",
     "output_type": "stream",
     "text": [
      "El programa ha finalizado\n"
     ]
    }
   ],
   "source": [
    "try:\n",
    "    nombre = input(\"Escribe su nombre\")\n",
    "except EOFError:\n",
    "    print(\"El nombre de la persona no se capturo\")\n",
    "\n",
    "print(\"El programa ha finalizado\")"
   ]
  },
  {
   "cell_type": "code",
   "execution_count": 23,
   "metadata": {},
   "outputs": [
    {
     "name": "stdout",
     "output_type": "stream",
     "text": [
      "ads\n"
     ]
    }
   ],
   "source": [
    "nombre = input(\"Escribe su nombre\")\n",
    "print(nombre)"
   ]
  },
  {
   "cell_type": "code",
   "execution_count": 2,
   "metadata": {},
   "outputs": [
    {
     "name": "stdout",
     "output_type": "stream",
     "text": [
      "Ud. es menor de edad.\n"
     ]
    }
   ],
   "source": [
    "edad = 17\n",
    "\n",
    "if edad <= 17:\n",
    "    print(\"Ud. es menor de edad.\")\n",
    "else:\n",
    "    print(\"Ud. es mayor de edad.\")\n",
    "\n",
    "\n"
   ]
  },
  {
   "cell_type": "code",
   "execution_count": 3,
   "metadata": {},
   "outputs": [
    {
     "name": "stdout",
     "output_type": "stream",
     "text": [
      "El numero 1 es mayor al numero 2\n",
      "el programa ha finalizado\n"
     ]
    }
   ],
   "source": [
    "numero1 = int(input(\"Escriba el primer numero\"))\n",
    "numero2 = int(input(\"Escriba el segundo numero\"))\n",
    "\n",
    "if numero1 > numero2:\n",
    "    print(\"El numero 1 es mayor al numero 2\")\n",
    "print(\"el programa ha finalizado\")"
   ]
  },
  {
   "cell_type": "code",
   "execution_count": 6,
   "metadata": {},
   "outputs": [
    {
     "name": "stdout",
     "output_type": "stream",
     "text": [
      "el ahorro se ha incrementado en 20600000.0\n",
      "el programa ha finalizado\n"
     ]
    }
   ],
   "source": [
    "ahorro = float(input(\"Escriba la cantidad actual de ahorros\"))\n",
    "\n",
    "if ahorro > 0:\n",
    "    if ahorro < 1000000:\n",
    "        ahorro *= 1.10\n",
    "    elif ahorro < 3000000:\n",
    "        ahorro *= 1.07\n",
    "    elif ahorro < 10000000:\n",
    "        ahorro *= 1.05  \n",
    "    else:\n",
    "        ahorro *= 1.03\n",
    "    print(\"el ahorro se ha incrementado en\", ahorro)\n",
    "    \n",
    "else: \n",
    "    print(\"Ud. ha puesto una cantidad negativa o igual a 0\")\n",
    "\n",
    "print(\"el programa ha finalizado\")"
   ]
  },
  {
   "cell_type": "code",
   "execution_count": 12,
   "metadata": {},
   "outputs": [
    {
     "name": "stdout",
     "output_type": "stream",
     "text": [
      "El numero 17 no es divisible entre 5 y no se halla en el rango de 20 a 49\n"
     ]
    }
   ],
   "source": [
    "numero = int(input(\"Escriba un numero entero\"))\n",
    "\n",
    "if numero % 5 == 0 and numero >= 20 and numero <= 40:\n",
    "    print(f\"El numero {numero} es divisible entre 5 y se halla en el rango de 20 a 49\")\n",
    "else:\n",
    "    print(f\"El numero {numero} no es divisible entre 5 y no se halla en el rango de 20 a 49\")\n",
    "\n"
   ]
  },
  {
   "cell_type": "code",
   "execution_count": null,
   "metadata": {},
   "outputs": [],
   "source": [
    "numero = int(input(\"Escriba un numero entero\"))\n",
    "\n",
    "if numero % 5 == 0 and numero >= 20 and numero <= 40:\n",
    "    print(f\"El numero {numero} es divisible entre 5 y se halla en el rango de 20 a 49\")\n",
    "else:\n",
    "    print(f\"El numero {numero} no es divisible entre 5 y no se halla en el rango de 20 a 49\")"
   ]
  }
 ],
 "metadata": {
  "kernelspec": {
   "display_name": "Python 3",
   "language": "python",
   "name": "python3"
  },
  "language_info": {
   "codemirror_mode": {
    "name": "ipython",
    "version": 3
   },
   "file_extension": ".py",
   "mimetype": "text/x-python",
   "name": "python",
   "nbconvert_exporter": "python",
   "pygments_lexer": "ipython3",
   "version": "3.11.0"
  },
  "orig_nbformat": 4
 },
 "nbformat": 4,
 "nbformat_minor": 2
}
