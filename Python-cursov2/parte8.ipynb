{
 "cells": [
  {
   "cell_type": "code",
   "execution_count": 2,
   "metadata": {},
   "outputs": [
    {
     "name": "stdout",
     "output_type": "stream",
     "text": [
      "[1, 2, 3, 4, 5, 6, 7, 8, 9, 10]\n",
      "30\n"
     ]
    }
   ],
   "source": [
    "numeros = list(range(1,11))\n",
    "print(numeros)\n",
    "total_pares = 0\n",
    "\n",
    "for n in numeros:\n",
    "    if n % 2 == 0:\n",
    "        total_pares += n\n",
    "print(total_pares)\n",
    "\n",
    "\n",
    "# for i in range(len(numeros)):\n",
    "#    if numeros[i]:\n",
    "#       total_pares += numeros[i]\n"
   ]
  },
  {
   "cell_type": "code",
   "execution_count": 19,
   "metadata": {},
   "outputs": [
    {
     "name": "stdout",
     "output_type": "stream",
     "text": [
      "[1, 2, 3, 4, 5, 6, 7, 8, 9, 10]\n",
      "25\n"
     ]
    }
   ],
   "source": [
    "numeros = list(range(1,11))\n",
    "print(numeros)\n",
    "total_impares = 0\n",
    "\n",
    "for i in range(len(numeros)):\n",
    "    if numeros[i] % 2 != 0:\n",
    "        total_impares += numeros[i]\n",
    "\n",
    "print(total_impares)"
   ]
  },
  {
   "cell_type": "code",
   "execution_count": 23,
   "metadata": {},
   "outputs": [
    {
     "name": "stdout",
     "output_type": "stream",
     "text": [
      "55\n"
     ]
    }
   ],
   "source": [
    "numeros = list(range(1,11))\n",
    "total = sum([numeros[i] for i in range(len(numeros))])\n",
    "\n",
    "print(total)"
   ]
  },
  {
   "cell_type": "code",
   "execution_count": 26,
   "metadata": {},
   "outputs": [
    {
     "name": "stdout",
     "output_type": "stream",
     "text": [
      "30\n"
     ]
    }
   ],
   "source": [
    "numeros = list(range(1,11))\n",
    "pares = sum([numeros[i] for i in range(len(numeros)) if numeros[i] % 2 == 0])\n",
    "\n",
    "print(pares)"
   ]
  },
  {
   "cell_type": "code",
   "execution_count": 31,
   "metadata": {},
   "outputs": [
    {
     "name": "stdout",
     "output_type": "stream",
     "text": [
      "[1, 3, 5, 7, 9]\n",
      "25\n"
     ]
    }
   ],
   "source": [
    "numeros = list(range(1,11))\n",
    "\n",
    "impares = [numeros[i] for i in range(len(numeros)) if numeros[i] % 2 == 1]\n",
    "print(impares)\n",
    "\n",
    "suma_impares = sum(impares)\n",
    "print(suma_impares)"
   ]
  },
  {
   "cell_type": "code",
   "execution_count": 33,
   "metadata": {},
   "outputs": [
    {
     "name": "stdout",
     "output_type": "stream",
     "text": [
      "Indice 0 - Valor: 1\n",
      "Indice 1 - Valor: 2\n",
      "Indice 2 - Valor: 3\n",
      "Indice 3 - Valor: 4\n",
      "Indice 4 - Valor: 5\n",
      "Indice 5 - Valor: 6\n",
      "Indice 6 - Valor: 7\n",
      "Indice 7 - Valor: 8\n",
      "Indice 8 - Valor: 9\n",
      "Indice 9 - Valor: 10\n"
     ]
    }
   ],
   "source": [
    "\n",
    "\n",
    "for i, n in enumerate(numeros):\n",
    "    print(f\"Indice {i} - Valor: {n}\" )"
   ]
  },
  {
   "cell_type": "code",
   "execution_count": 39,
   "metadata": {},
   "outputs": [
    {
     "name": "stdout",
     "output_type": "stream",
     "text": [
      "1\n",
      "2\n",
      "3\n",
      "4\n",
      "5\n"
     ]
    }
   ],
   "source": [
    "#ciclo while, en estos ciclos hay que indicar el inicio de la iteración i = 0, e incrementar i dentro del ciclo i += 1\n",
    "\n",
    "numeros = [1,2,3,4,5]\n",
    "\n",
    "i = 0\n",
    "\n",
    "while i < (len(numeros)):\n",
    "    print(numeros[i])\n",
    "    i += 1\n"
   ]
  },
  {
   "cell_type": "code",
   "execution_count": 41,
   "metadata": {},
   "outputs": [
    {
     "name": "stdout",
     "output_type": "stream",
     "text": [
      "15\n"
     ]
    }
   ],
   "source": [
    "i = 0 #inicializar\n",
    "suma = 0 #acumulador\n",
    "\n",
    "while i < len(numeros):\n",
    "    suma += numeros[i]\n",
    "    i+= 1 #para recorrer\n",
    "\n",
    "print(suma)"
   ]
  },
  {
   "cell_type": "code",
   "execution_count": 43,
   "metadata": {},
   "outputs": [
    {
     "name": "stdout",
     "output_type": "stream",
     "text": [
      "[1, 2, 3, 4, 5, 6, 7, 8, 9, 10, 6, 7, 8, 9, 10]\n"
     ]
    }
   ],
   "source": [
    "numeros.append(6)\n",
    "numeros.append(7)\n",
    "numeros.append(8)\n",
    "numeros.append(9)\n",
    "numeros.append(10)\n",
    "print(numeros)"
   ]
  },
  {
   "cell_type": "code",
   "execution_count": 52,
   "metadata": {},
   "outputs": [
    {
     "name": "stdout",
     "output_type": "stream",
     "text": [
      "30\n"
     ]
    }
   ],
   "source": [
    "numeros = [1, 2, 3, 4, 5, 6, 7, 8, 9, 10]\n",
    "i = 0 \n",
    "suma_pares = 0\n",
    "\n",
    "while i < len(numeros):\n",
    "    if numeros[i] % 2 == 0:\n",
    "        suma_pares += numeros[i]\n",
    "    i+= 1\n",
    "\n",
    "print(suma_pares)"
   ]
  },
  {
   "cell_type": "code",
   "execution_count": 54,
   "metadata": {},
   "outputs": [
    {
     "name": "stdout",
     "output_type": "stream",
     "text": [
      "25\n"
     ]
    }
   ],
   "source": [
    "i = 0\n",
    "suma_impares = 0\n",
    "\n",
    "while i < len(numeros):\n",
    "    if numeros[i] % 2 == 1:\n",
    "        suma_impares += numeros[i]\n",
    "    i += 1\n",
    "\n",
    "print(suma_impares)"
   ]
  },
  {
   "cell_type": "code",
   "execution_count": 55,
   "metadata": {},
   "outputs": [
    {
     "name": "stdout",
     "output_type": "stream",
     "text": [
      "16\n"
     ]
    }
   ],
   "source": [
    "#terminacion arbitraria de un ciclo while\n",
    "\n",
    "total = 0\n",
    "\n",
    "while True:\n",
    "    numero = int(input(\"Escriba un numero positivo, igual o menor a cero para terminar\"))\n",
    "\n",
    "    if numero <= 0:\n",
    "        break\n",
    "    total += numero\n",
    "\n",
    "print(total)"
   ]
  },
  {
   "cell_type": "code",
   "execution_count": 60,
   "metadata": {},
   "outputs": [
    {
     "name": "stdout",
     "output_type": "stream",
     "text": [
      "No es ese\n",
      "No es ese\n",
      "No es ese\n"
     ]
    }
   ],
   "source": [
    "import random\n",
    "\n",
    "intentos = 0\n",
    "numero_aleatorio = random.randint(1,5)\n",
    "\n",
    "while intentos < 3:\n",
    "    adivina = int(input(\"Adivine un numero del 1 al 5\"))\n",
    "\n",
    "    if adivina <= 5:\n",
    "        if adivina == numero_aleatorio:\n",
    "            print(\"has adivinado el número\")\n",
    "            break\n",
    "        else:\n",
    "            print(\"No es ese\")\n",
    "\n",
    "    intentos += 1\n",
    "\n"
   ]
  }
 ],
 "metadata": {
  "kernelspec": {
   "display_name": "Python 3",
   "language": "python",
   "name": "python3"
  },
  "language_info": {
   "codemirror_mode": {
    "name": "ipython",
    "version": 3
   },
   "file_extension": ".py",
   "mimetype": "text/x-python",
   "name": "python",
   "nbconvert_exporter": "python",
   "pygments_lexer": "ipython3",
   "version": "3.11.0"
  },
  "orig_nbformat": 4
 },
 "nbformat": 4,
 "nbformat_minor": 2
}
