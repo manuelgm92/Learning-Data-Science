{
 "cells": [
  {
   "cell_type": "code",
   "execution_count": null,
   "metadata": {},
   "outputs": [],
   "source": [
    "cursor() #devuelve un nuevo objeto de cursor mediante la conexion\n",
    "commit() #se utiliza para confirmar cualquier transaccion pendiente en la base de datos\n",
    "rollback() #hace que vuelva al inicio de cualquier transaccion pendiente\n",
    "close() #para cerrar una conexion a la base dadtos"
   ]
  },
  {
   "cell_type": "code",
   "execution_count": 2,
   "metadata": {},
   "outputs": [
    {
     "ename": "ModuleNotFoundError",
     "evalue": "No module named 'dmodule'",
     "output_type": "error",
     "traceback": [
      "\u001b[1;31m---------------------------------------------------------------------------\u001b[0m",
      "\u001b[1;31mModuleNotFoundError\u001b[0m                       Traceback (most recent call last)",
      "\u001b[1;32mw:\\data-science\\Learning-Data-Science\\coursera_data_science\\accessing_databases.ipynb Celda 2\u001b[0m line \u001b[0;36m1\n\u001b[1;32m----> <a href='vscode-notebook-cell:/w%3A/data-science/Learning-Data-Science/coursera_data_science/accessing_databases.ipynb#W1sZmlsZQ%3D%3D?line=0'>1</a>\u001b[0m \u001b[39mfrom\u001b[39;00m \u001b[39mdmodule\u001b[39;00m \u001b[39mimport\u001b[39;00m connect\n\u001b[0;32m      <a href='vscode-notebook-cell:/w%3A/data-science/Learning-Data-Science/coursera_data_science/accessing_databases.ipynb#W1sZmlsZQ%3D%3D?line=2'>3</a>\u001b[0m \u001b[39m#create connection object\u001b[39;00m\n\u001b[0;32m      <a href='vscode-notebook-cell:/w%3A/data-science/Learning-Data-Science/coursera_data_science/accessing_databases.ipynb#W1sZmlsZQ%3D%3D?line=4'>5</a>\u001b[0m connection \u001b[39m=\u001b[39m connect(\u001b[39m\"\u001b[39m\u001b[39mdatabasename\u001b[39m\u001b[39m\"\u001b[39m, \u001b[39m\"\u001b[39m\u001b[39musername\u001b[39m\u001b[39m\"\u001b[39m, \u001b[39m\"\u001b[39m\u001b[39mpswd\u001b[39m\u001b[39m\"\u001b[39m)\n",
      "\u001b[1;31mModuleNotFoundError\u001b[0m: No module named 'dmodule'"
     ]
    }
   ],
   "source": [
    "from dmodule import connect\n",
    "\n",
    "#create connection object\n",
    "connection = connect(\"databasename\", \"username\", \"pswd\")\n",
    "\n",
    "#create a cursor object\n",
    "cursor = connection.cursor() #se utiliza para ejecutar consultas y obtener resultados\n",
    "\n",
    "#run queries\n",
    "cursor.execute(\"select * from mytable\")\n",
    "results = cursor.fetchall()\n",
    "\n",
    "#free resources\n",
    "cursor.close()\n",
    "connection.close()  #siempre hay que cerrar"
   ]
  }
 ],
 "metadata": {
  "kernelspec": {
   "display_name": "Python 3",
   "language": "python",
   "name": "python3"
  },
  "language_info": {
   "codemirror_mode": {
    "name": "ipython",
    "version": 3
   },
   "file_extension": ".py",
   "mimetype": "text/x-python",
   "name": "python",
   "nbconvert_exporter": "python",
   "pygments_lexer": "ipython3",
   "version": "3.11.0"
  },
  "orig_nbformat": 4
 },
 "nbformat": 4,
 "nbformat_minor": 2
}
