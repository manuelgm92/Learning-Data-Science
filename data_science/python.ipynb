{
 "cells": [
  {
   "cell_type": "code",
   "execution_count": 11,
   "metadata": {},
   "outputs": [
    {
     "ename": "UnboundLocalError",
     "evalue": "cannot access local variable 'l1' where it is not associated with a value",
     "output_type": "error",
     "traceback": [
      "\u001b[1;31m---------------------------------------------------------------------------\u001b[0m",
      "\u001b[1;31mUnboundLocalError\u001b[0m                         Traceback (most recent call last)",
      "\u001b[1;32mw:\\data-science\\Learning-Data-Science\\data_science\\python.ipynb Celda 1\u001b[0m line \u001b[0;36m1\n\u001b[0;32m     <a href='vscode-notebook-cell:/w%3A/data-science/Learning-Data-Science/data_science/python.ipynb#W0sZmlsZQ%3D%3D?line=9'>10</a>\u001b[0m     \u001b[39mprint\u001b[39m(\u001b[39m\"\u001b[39m\u001b[39mlista dentro de funcion 2:\u001b[39m\u001b[39m\"\u001b[39m, lista)\n\u001b[0;32m     <a href='vscode-notebook-cell:/w%3A/data-science/Learning-Data-Science/data_science/python.ipynb#W0sZmlsZQ%3D%3D?line=10'>11</a>\u001b[0m     \u001b[39mreturn\u001b[39;00m x\n\u001b[1;32m---> <a href='vscode-notebook-cell:/w%3A/data-science/Learning-Data-Science/data_science/python.ipynb#W0sZmlsZQ%3D%3D?line=13'>14</a>\u001b[0m funcion(lista\u001b[39m=\u001b[39;49ml1)\n\u001b[0;32m     <a href='vscode-notebook-cell:/w%3A/data-science/Learning-Data-Science/data_science/python.ipynb#W0sZmlsZQ%3D%3D?line=14'>15</a>\u001b[0m \u001b[39mprint\u001b[39m(\u001b[39m\"\u001b[39m\u001b[39ml1:\u001b[39m\u001b[39m\"\u001b[39m,l1)\n\u001b[0;32m     <a href='vscode-notebook-cell:/w%3A/data-science/Learning-Data-Science/data_science/python.ipynb#W0sZmlsZQ%3D%3D?line=15'>16</a>\u001b[0m \u001b[39mprint\u001b[39m(\u001b[39m\"\u001b[39m\u001b[39mx:\u001b[39m\u001b[39m\"\u001b[39m,x)\n",
      "\u001b[1;32mw:\\data-science\\Learning-Data-Science\\data_science\\python.ipynb Celda 1\u001b[0m line \u001b[0;36m6\n\u001b[0;32m      <a href='vscode-notebook-cell:/w%3A/data-science/Learning-Data-Science/data_science/python.ipynb#W0sZmlsZQ%3D%3D?line=3'>4</a>\u001b[0m x \u001b[39m=\u001b[39m \u001b[39m2\u001b[39m\n\u001b[0;32m      <a href='vscode-notebook-cell:/w%3A/data-science/Learning-Data-Science/data_science/python.ipynb#W0sZmlsZQ%3D%3D?line=4'>5</a>\u001b[0m lista\u001b[39m.\u001b[39mappend(\u001b[39m\"\u001b[39m\u001b[39mAs\u001b[39m\u001b[39m\"\u001b[39m)\n\u001b[1;32m----> <a href='vscode-notebook-cell:/w%3A/data-science/Learning-Data-Science/data_science/python.ipynb#W0sZmlsZQ%3D%3D?line=5'>6</a>\u001b[0m \u001b[39mprint\u001b[39m(\u001b[39m\"\u001b[39m\u001b[39ml1 dentro de funcion 1:\u001b[39m\u001b[39m\"\u001b[39m, l1)\n\u001b[0;32m      <a href='vscode-notebook-cell:/w%3A/data-science/Learning-Data-Science/data_science/python.ipynb#W0sZmlsZQ%3D%3D?line=6'>7</a>\u001b[0m \u001b[39mprint\u001b[39m(\u001b[39m\"\u001b[39m\u001b[39mlista dentro de funcion 1:\u001b[39m\u001b[39m\"\u001b[39m, lista)\n\u001b[0;32m      <a href='vscode-notebook-cell:/w%3A/data-science/Learning-Data-Science/data_science/python.ipynb#W0sZmlsZQ%3D%3D?line=7'>8</a>\u001b[0m l1 \u001b[39m=\u001b[39m lista\u001b[39m.\u001b[39mappend(\u001b[39m\"\u001b[39m\u001b[39mAs\u001b[39m\u001b[39m\"\u001b[39m)\n",
      "\u001b[1;31mUnboundLocalError\u001b[0m: cannot access local variable 'l1' where it is not associated with a value"
     ]
    }
   ],
   "source": [
    "x = 99\n",
    "l1 = [0,1,2]\n",
    "def funcion(lista):\n",
    "    x = 2\n",
    "    lista.append(\"As\")\n",
    "    print(\"l1 dentro de funcion 1:\", l1)\n",
    "    print(\"lista dentro de funcion 1:\", lista)\n",
    "    l1 = lista.append(\"As\")\n",
    "    print(\"l1 dentro de funcion 2\", l1)\n",
    "    print(\"lista dentro de funcion 2:\", lista)\n",
    "    return x\n",
    "    \n",
    "\n",
    "funcion(lista=l1)\n",
    "print(\"l1:\",l1)\n",
    "print(\"x:\",x)"
   ]
  }
 ],
 "metadata": {
  "kernelspec": {
   "display_name": "Python 3",
   "language": "python",
   "name": "python3"
  },
  "language_info": {
   "codemirror_mode": {
    "name": "ipython",
    "version": 3
   },
   "file_extension": ".py",
   "mimetype": "text/x-python",
   "name": "python",
   "nbconvert_exporter": "python",
   "pygments_lexer": "ipython3",
   "version": "3.11.0"
  },
  "orig_nbformat": 4
 },
 "nbformat": 4,
 "nbformat_minor": 2
}
