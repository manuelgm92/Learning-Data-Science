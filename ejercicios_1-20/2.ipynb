{
 "cells": [
  {
   "cell_type": "code",
   "execution_count": 3,
   "metadata": {},
   "outputs": [
    {
     "name": "stdout",
     "output_type": "stream",
     "text": [
      "Esto es un ejemplo básico\n",
      "Este es un ejemplo básico.Este es un ejemplo básico."
     ]
    }
   ],
   "source": [
    "# Ejercicio 2: Exponer el uso básico de la función print\n",
    "\n",
    "print(\"Esto es un ejemplo básico\")\n",
    "\n",
    "print(\"Este es un ejemplo básico.\", end=\"\")\n",
    "print(\"Este es un ejemplo básico.\", end=\"\")"
   ]
  },
  {
   "cell_type": "code",
   "execution_count": 8,
   "metadata": {},
   "outputs": [
    {
     "name": "stdout",
     "output_type": "stream",
     "text": [
      "Python es tremendo.\n",
      "Python-es-tremendo.\n",
      "Python es tremendo\n"
     ]
    }
   ],
   "source": [
    "print(\"Python\", \"es\", \"tremendo.\")\n",
    "print(\"Python\", \"es\", \"tremendo.\", sep=\"-\")\n",
    "\n",
    "print(\"{} es {}\".format(\"Python\", \"tremendo.\"))"
   ]
  },
  {
   "cell_type": "code",
   "execution_count": 9,
   "metadata": {},
   "outputs": [
    {
     "name": "stdout",
     "output_type": "stream",
     "text": [
      "[2, 3, 4, 5]\n"
     ]
    }
   ],
   "source": [
    "numeros = [2, 3, 4, 5]\n",
    "print(numeros)"
   ]
  },
  {
   "cell_type": "code",
   "execution_count": 12,
   "metadata": {},
   "outputs": [
    {
     "name": "stdout",
     "output_type": "stream",
     "text": [
      "{'Colombia': 'Bogotá', 'Peru': 'Lima'}\n"
     ]
    }
   ],
   "source": [
    "capitales = {\"Colombia\" : \"Bogotá\", \"Peru\": \"Lima\"}\n",
    "print(capitales)"
   ]
  }
 ],
 "metadata": {
  "kernelspec": {
   "display_name": "Python 3",
   "language": "python",
   "name": "python3"
  },
  "language_info": {
   "codemirror_mode": {
    "name": "ipython",
    "version": 3
   },
   "file_extension": ".py",
   "mimetype": "text/x-python",
   "name": "python",
   "nbconvert_exporter": "python",
   "pygments_lexer": "ipython3",
   "version": "3.11.0"
  },
  "orig_nbformat": 4
 },
 "nbformat": 4,
 "nbformat_minor": 2
}
