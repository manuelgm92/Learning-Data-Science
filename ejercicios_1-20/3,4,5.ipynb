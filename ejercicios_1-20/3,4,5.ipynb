{
 "cells": [
  {
   "cell_type": "code",
   "execution_count": 4,
   "metadata": {},
   "outputs": [
    {
     "name": "stdout",
     "output_type": "stream",
     "text": [
      "2023-08-18 19:38:23.284893\n",
      "18/08/2023 19: 38: 23\n"
     ]
    }
   ],
   "source": [
    "#obtener la fecha y hora actuales del sistema\n",
    "\n",
    "import datetime\n",
    "\n",
    "ahora = datetime.datetime.now()\n",
    "print(ahora)\n",
    "\n",
    "print(ahora.strftime(\"%d/%m/%Y %H: %M: %S\"))"
   ]
  },
  {
   "cell_type": "code",
   "execution_count": 2,
   "metadata": {},
   "outputs": [
    {
     "name": "stdout",
     "output_type": "stream",
     "text": [
      "78.53981633974483\n"
     ]
    }
   ],
   "source": [
    "#solicitar el radio de un circulo y calcular su area, pi  * r **2\n",
    "import math \n",
    "\n",
    "radio = float(input(\"Ingrese el radio de un círculo: \"))\n",
    "\n",
    "area = math.pi * (radio**2)\n",
    "\n",
    "print(area)\n"
   ]
  },
  {
   "cell_type": "code",
   "execution_count": 3,
   "metadata": {},
   "outputs": [
    {
     "name": "stdout",
     "output_type": "stream",
     "text": [
      "leunaM\n"
     ]
    }
   ],
   "source": [
    "#pedir nombre al usuario y mostrarlo en orden inverso\n",
    "\n",
    "nombre = str(input(\"Escribe tu nombre: \"))\n",
    "\n",
    "nombre_al_reves = nombre[::-1]\n",
    "print(nombre_al_reves)"
   ]
  },
  {
   "cell_type": "code",
   "execution_count": 11,
   "metadata": {},
   "outputs": [
    {
     "name": "stdout",
     "output_type": "stream",
     "text": [
      "La area del triangulo es 17.5\n",
      "La area del triangulo es 17.5\n"
     ]
    }
   ],
   "source": [
    "# calcular el area de un triangulo dadas la base y la altura  area= base * altura\n",
    "base = float(input(\"Escribe la base del triángulo: \"))\n",
    "altura = float(input(\"Escribe la altura del triángulo: \"))\n",
    "\n",
    "area = (base * altura) / 2\n",
    "\n",
    "print(\"La area del triangulo es\", area)\n",
    "print(\"La area del triangulo es {}\".format(area))\n"
   ]
  }
 ],
 "metadata": {
  "kernelspec": {
   "display_name": "Python 3",
   "language": "python",
   "name": "python3"
  },
  "language_info": {
   "codemirror_mode": {
    "name": "ipython",
    "version": 3
   },
   "file_extension": ".py",
   "mimetype": "text/x-python",
   "name": "python",
   "nbconvert_exporter": "python",
   "pygments_lexer": "ipython3",
   "version": "3.11.0"
  },
  "orig_nbformat": 4
 },
 "nbformat": 4,
 "nbformat_minor": 2
}
