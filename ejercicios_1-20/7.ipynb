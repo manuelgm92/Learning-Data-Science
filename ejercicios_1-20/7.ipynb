{
 "cells": [
  {
   "cell_type": "code",
   "execution_count": 6,
   "metadata": {},
   "outputs": [
    {
     "data": {
      "text/plain": [
       "3.141592653589793"
      ]
     },
     "execution_count": 6,
     "metadata": {},
     "output_type": "execute_result"
    }
   ],
   "source": [
    "#conversión grados a radianes\n",
    "import math\n",
    "grados = float(input(\"Inserte el número de grados\"))\n",
    "\n",
    "resultado_de_grados_a_radianes = (math.pi *(grados))/180\n",
    "resultado_de_grados_a_radianes"
   ]
  },
  {
   "cell_type": "code",
   "execution_count": 9,
   "metadata": {},
   "outputs": [
    {
     "data": {
      "text/plain": [
       "85.94366926962348"
      ]
     },
     "execution_count": 9,
     "metadata": {},
     "output_type": "execute_result"
    }
   ],
   "source": [
    "#conversión radianes a grados\n",
    "import math\n",
    "radianes = float(input(\"Inserte el número de radianes\"))\n",
    "\n",
    "resultado_de_radianes_a_grados = ((180 *(radianes))/math.pi)\n",
    "resultado_de_radianes_a_grados\n",
    "\n"
   ]
  },
  {
   "cell_type": "code",
   "execution_count": 10,
   "metadata": {},
   "outputs": [
    {
     "data": {
      "text/plain": [
       "63.0"
      ]
     },
     "execution_count": 10,
     "metadata": {},
     "output_type": "execute_result"
    }
   ],
   "source": [
    "#calcular area de un trapezoide\n",
    "base_inferior = float(input(\"Escriba la base inferior\"))\n",
    "base_superior = float(input(\"Escriba la base superior\"))\n",
    "altura = float(input(\"Escriba la altura\"))\n",
    "\n",
    "\n",
    "\n",
    "area = ((base_inferior+base_superior)/ 2) * altura\n",
    "area"
   ]
  },
  {
   "cell_type": "code",
   "execution_count": 11,
   "metadata": {},
   "outputs": [
    {
     "name": "stdout",
     "output_type": "stream",
     "text": [
      "1570.7963267948967\n",
      "785.3981633974483\n"
     ]
    }
   ],
   "source": [
    "#calcular area superficial y volumen de un cilindro\n",
    "from math import pi\n",
    "r = float(input(\"Escriba el radio\"))\n",
    "h = float(input(\"Escriba la altura\"))\n",
    "\n",
    "\n",
    "volume = pi * (r ** 2) * h\n",
    "area_superficial = (2 * pi * (r ** 2)) + (2* pi * r * h)\n",
    "\n",
    "print(volume)\n",
    "print(area_superficial)"
   ]
  },
  {
   "cell_type": "code",
   "execution_count": 13,
   "metadata": {},
   "outputs": [
    {
     "data": {
      "text/plain": [
       "4"
      ]
     },
     "execution_count": 13,
     "metadata": {},
     "output_type": "execute_result"
    }
   ],
   "source": [
    "# calcular valor discriminante de una expresion cuadratica\n",
    "a = 1\n",
    "b = 0\n",
    "c = -1\n",
    "\n",
    "discriminante = b**2 - (4 * a * c)\n",
    "discriminante\n",
    "\n"
   ]
  },
  {
   "cell_type": "code",
   "execution_count": 19,
   "metadata": {},
   "outputs": [
    {
     "name": "stdout",
     "output_type": "stream",
     "text": [
      "0.0026041666666666665\n",
      "0.9464285714285714\n"
     ]
    }
   ],
   "source": [
    "# convertir expresiones algebraicas a expresiones programaticas\n",
    "a = 1\n",
    "b = 2\n",
    "c = 3\n",
    "d = 16\n",
    "\n",
    "f = a / (b*c) / (d**(1/2))**3\n",
    "print(f)\n",
    "\n",
    "e = 7\n",
    "\n",
    "g = (a**3)**2 - (b*c) / (d*e)\n",
    "print(g)"
   ]
  },
  {
   "cell_type": "code",
   "execution_count": null,
   "metadata": {},
   "outputs": [],
   "source": []
  }
 ],
 "metadata": {
  "kernelspec": {
   "display_name": "Python 3",
   "language": "python",
   "name": "python3"
  },
  "language_info": {
   "codemirror_mode": {
    "name": "ipython",
    "version": 3
   },
   "file_extension": ".py",
   "mimetype": "text/x-python",
   "name": "python",
   "nbconvert_exporter": "python",
   "pygments_lexer": "ipython3",
   "version": "3.11.0"
  },
  "orig_nbformat": 4
 },
 "nbformat": 4,
 "nbformat_minor": 2
}
