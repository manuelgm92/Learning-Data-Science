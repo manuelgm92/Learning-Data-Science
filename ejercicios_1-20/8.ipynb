{
 "cells": [
  {
   "cell_type": "code",
   "execution_count": 98,
   "metadata": {},
   "outputs": [
    {
     "name": "stdout",
     "output_type": "stream",
     "text": [
      "32ºC son 0.0ºC\n"
     ]
    }
   ],
   "source": [
    "temperatura = input(\"Escribe la temperatura e.g., 100ºC o 32ºF\")\n",
    "escala = temperatura[-2:]\n",
    "cifra = temperatura[:-2]\n",
    "\n",
    "if escala == \"ºC\":\n",
    "    grados_a_farenheit = float(cifra)  * 9 / 5 + 32\n",
    "    print(f\"{cifra}ºC son {grados_a_farenheit}ºF\")\n",
    "elif escala == \"ºF\":\n",
    "    farenheit_a_grados = (5/9) * (float(cifra) - 32) \n",
    "    print(f\"{cifra}ºC son {farenheit_a_grados}ºC\")\n",
    "else:\n",
    "    print(\"No ha escrito un valor de temperatura válido.\")"
   ]
  },
  {
   "cell_type": "code",
   "execution_count": 108,
   "metadata": {},
   "outputs": [
    {
     "name": "stdout",
     "output_type": "stream",
     "text": [
      "3 3\n",
      "Has adivinado el número\n"
     ]
    }
   ],
   "source": [
    "#pedir al usuario que adivine un numero. solo un intento\n",
    "import random \n",
    "\n",
    "adivina = int(input(\"Escribe un número del 0 al 9\"))\n",
    "aleatorio = (random.randint(1,10))\n",
    "print(adivina, aleatorio)\n",
    "\n",
    "if adivina >= 1 and adivina <= 10:\n",
    "    if adivina == aleatorio:\n",
    "        print(\"Has adivinado el número\")\n",
    "    else: \n",
    "        print(\"No has adivinado el número\")\n",
    "else:\n",
    "    print(\"Error. El número no esta en 1 y 10\")"
   ]
  },
  {
   "cell_type": "code",
   "execution_count": 112,
   "metadata": {},
   "outputs": [
    {
     "name": "stdout",
     "output_type": "stream",
     "text": [
      "El producto 3 es el mayor de precio.\n"
     ]
    }
   ],
   "source": [
    "#comprobar el producto de mayor precio entre tres productos\n",
    "producto1 = 300\n",
    "producto2 = 300\n",
    "producto3 = 600\n",
    "\n",
    "if producto2 < producto1 > producto3:\n",
    "    print(\"El producto 1 es el mayor de precio.\")\n",
    "elif producto1 < producto2 > producto3:\n",
    "    print(\"El producto 2 es el mayor de precio.\")\n",
    "elif producto1 < producto3 > producto2:\n",
    "    print(\"El producto 3 es el mayor de precio.\")\n",
    "else:\n",
    "    print(\"Todos los productos valen lo mismo\")"
   ]
  },
  {
   "cell_type": "code",
   "execution_count": 114,
   "metadata": {},
   "outputs": [
    {
     "name": "stdout",
     "output_type": "stream",
     "text": [
      "El punto se halla en la recta.\n"
     ]
    }
   ],
   "source": [
    "#dada la recta y = 6x + 10, comprobar si un punto dado pertenece a ella\n",
    "x = float(input(\"Escriba el valor de x\"))\n",
    "y = float(input(\"Escriba el valor de y\"))\n",
    "\n",
    "valor = 6 * x + 10\n",
    "\n",
    "if valor == y:\n",
    "    print(\"El punto se halla en la recta.\")\n",
    "else:\n",
    "    print(\"No se haya en la recta\")\n"
   ]
  },
  {
   "cell_type": "code",
   "execution_count": 117,
   "metadata": {},
   "outputs": [
    {
     "name": "stdout",
     "output_type": "stream",
     "text": [
      "El punto se haya en el area de las tres rectas.\n"
     ]
    }
   ],
   "source": [
    "#dadas las rectas y = 2x -2, y = x+1 comprobar si un punta esta en el area comprendida entre las rectas\n",
    "x = float(input(\"Escriba el valor de x\"))\n",
    "y = float(input(\"Escriba el valor de y\"))\n",
    "\n",
    "valor1 = 2 * x - 2\n",
    "valor2 = x + 1\n",
    "\n",
    "if x <= 10:\n",
    "    valor1 = 2 * x - 2\n",
    "    valor2 = x + 1\n",
    "\n",
    "    if valor2 <= y <= valor1:\n",
    "        print(\"El punto se haya en el area de las tres rectas.\")\n",
    "    else:\n",
    "        print(\"No se haya en el area de las tres rectas\")\n",
    "else:\n",
    "    print(\"No se haya en el area de las tres rectas\")\n"
   ]
  },
  {
   "cell_type": "code",
   "execution_count": 78,
   "metadata": {},
   "outputs": [
    {
     "name": "stdout",
     "output_type": "stream",
     "text": [
      "2500000.0\n"
     ]
    }
   ],
   "source": [
    "#aplicar descuento segun la cantidad de productos comprados. Cada producto cuesta 100.000\n",
    "precio = 100000\n",
    "productos_comprados = 50\n",
    "descuento = productos_comprados / 100\n",
    "\n",
    "precio_con_descuento = precio * productos_comprados - (precio * productos_comprados * descuento)\n",
    "\n",
    "print(precio_con_descuento)\n"
   ]
  },
  {
   "cell_type": "code",
   "execution_count": 83,
   "metadata": {},
   "outputs": [
    {
     "name": "stdout",
     "output_type": "stream",
     "text": [
      "Nivel experimentado\n"
     ]
    }
   ],
   "source": [
    "#Categorizar segun la cantidad de puntos obtenidos por un jugador\n",
    "puntos_jugador = int(input(\"Introduce tu nivel\"))\n",
    "\n",
    "if 0 < puntos_jugador <= 100:\n",
    "    print(\"Nivel principiante\")\n",
    "elif 101 <= puntos_jugador <= 500:\n",
    "    print(\"Nivel estándar\")\n",
    "elif 501 <= puntos_jugador <= 2000:\n",
    "    print(\"Nivel experimentado\")\n",
    "elif puntos_jugador > 2000:\n",
    "    print(\"Nivel máster\")\n",
    "\n"
   ]
  },
  {
   "cell_type": "code",
   "execution_count": 121,
   "metadata": {},
   "outputs": [
    {
     "name": "stdout",
     "output_type": "stream",
     "text": [
      "Par\n"
     ]
    }
   ],
   "source": [
    "#determinar si un numero dado por el usuario es par o impar\n",
    "\n",
    "numero = int(input(\"Introduce un número entero\"))\n",
    "par_o_impar =None\n",
    "if numero % 2 == 0:\n",
    "    par_o_impar = \"Par\"\n",
    "else:\n",
    "    par_o_impar = \"Es impar\"\n",
    "\n",
    "print(par_o_impar)\n"
   ]
  },
  {
   "cell_type": "code",
   "execution_count": 131,
   "metadata": {},
   "outputs": [
    {
     "name": "stdout",
     "output_type": "stream",
     "text": [
      "Número Capicua\n"
     ]
    }
   ],
   "source": [
    "#comprobar si un numero es capicua\n",
    "numero = int(input(\"Introduce un número entero\"))\n",
    "\n",
    "if numero >= 0:\n",
    "    if str(numero) == str(numero)[::-1]:\n",
    "        print(\"Número Capicua\")\n",
    "    else:\n",
    "        print(\"El número no es capicua\")\n",
    "else:\n",
    "    print(\"El número debe ser positivo\")\n"
   ]
  },
  {
   "cell_type": "code",
   "execution_count": 133,
   "metadata": {},
   "outputs": [
    {
     "name": "stdout",
     "output_type": "stream",
     "text": [
      "Se encuentra en el esquema de colores RGB\n"
     ]
    }
   ],
   "source": [
    "#Validar si tres valores numericos pueden pertenecer al esquema de colores RGB\n",
    "#RGB 0-255\n",
    "rojo = int(input(\"Introduce cantidad de color rojo\"))\n",
    "verde = int(input(\"Introduce cantidad de color verde\"))\n",
    "azul = int(input(\"Introduce cantidad de color azul\"))\n",
    "\n",
    "if 0 <= rojo <= 255 and 0 <= verde <= 255 and 0 <= azul <= 255:\n",
    "    print(\"Se encuentra en el esquema de colores RGB\")\n",
    "else: \n",
    "    print(\"No se encuentra en el esquema de colores RGB\")\n",
    "\n",
    "\n"
   ]
  }
 ],
 "metadata": {
  "kernelspec": {
   "display_name": "Python 3",
   "language": "python",
   "name": "python3"
  },
  "language_info": {
   "codemirror_mode": {
    "name": "ipython",
    "version": 3
   },
   "file_extension": ".py",
   "mimetype": "text/x-python",
   "name": "python",
   "nbconvert_exporter": "python",
   "pygments_lexer": "ipython3",
   "version": "3.11.0"
  },
  "orig_nbformat": 4
 },
 "nbformat": 4,
 "nbformat_minor": 2
}
