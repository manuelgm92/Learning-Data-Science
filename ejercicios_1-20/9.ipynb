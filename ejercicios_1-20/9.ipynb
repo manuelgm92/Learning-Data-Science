{
 "cells": [
  {
   "cell_type": "code",
   "execution_count": 40,
   "metadata": {},
   "outputs": [
    {
     "name": "stdout",
     "output_type": "stream",
     "text": [
      "* \n",
      "* * \n",
      "* * * \n",
      "* * * * \n",
      "* * * * * \n",
      "* * * * \n",
      "* * * \n",
      "* * \n",
      "* \n"
     ]
    }
   ],
   "source": [
    "#1\n",
    "\n",
    "for i in range(9):\n",
    "    if i < 5:\n",
    "        for j in range(i + 1):\n",
    "            print(\"*\", end=\" \")\n",
    "    else:\n",
    "        for j in range(9 - i):\n",
    "            print(\"*\", end=\" \")\n",
    "\n",
    "    print()"
   ]
  },
  {
   "cell_type": "code",
   "execution_count": 99,
   "metadata": {},
   "outputs": [
    {
     "name": "stdout",
     "output_type": "stream",
     "text": [
      "odnemert se nohtyp"
     ]
    }
   ],
   "source": [
    "palabra = input(\"Escribe una palabra\")\n",
    "\n",
    "for i in range(len(palabra), 0, -1):\n",
    "    print(palabra[i-1], end = \"\")\n"
   ]
  },
  {
   "cell_type": "code",
   "execution_count": 107,
   "metadata": {},
   "outputs": [
    {
     "name": "stdout",
     "output_type": "stream",
     "text": [
      "0 1\n",
      "1 2 3 5 8 13 21 34 55 89 144 233 377 610 987 1597 2584 4181 6765 10946 17711 28657 46368 75025 121393 196418 317811 514229 832040 1346269 2178309 3524578 5702887 9227465 14930352 24157817 39088169 63245986 102334155 165580141 267914296 433494437 701408733 1134903170 1836311903 2971215073 4807526976 7778742049 "
     ]
    }
   ],
   "source": [
    "#3 \n",
    "\n",
    "a = 0\n",
    "b = 1\n",
    "print(a,b)\n",
    "\n",
    "for i in range(48):\n",
    "    a, b = b, a + b\n",
    "    print(b, end=\" \")"
   ]
  },
  {
   "cell_type": "code",
   "execution_count": 141,
   "metadata": {},
   "outputs": [
    {
     "name": "stdout",
     "output_type": "stream",
     "text": [
      "120\n"
     ]
    }
   ],
   "source": [
    "#4 calcular el factorial de un numero dado, ej. 5! 5*4*3*2*1\n",
    "\n",
    "numero = 5 #int(input(\"Escribe un numero entero\"))\n",
    "factorial = 1\n",
    "\n",
    "for i in range(1, numero + 1):\n",
    "    factorial *= i\n",
    "    \n",
    "\n",
    "print(factorial)\n",
    "\n",
    "\n"
   ]
  },
  {
   "cell_type": "code",
   "execution_count": 159,
   "metadata": {},
   "outputs": [
    {
     "name": "stdout",
     "output_type": "stream",
     "text": [
      " *** \n",
      "*   *\n",
      "*   *\n",
      "*****\n",
      "*   *\n",
      "*   *\n",
      "*   *\n"
     ]
    }
   ],
   "source": [
    "#5\n",
    "\n",
    "for i in range(7):\n",
    "    if i == 0:\n",
    "        print(\" *** \", end= \"\")\n",
    "        print()\n",
    "    if 0 < i < 3:\n",
    "        print(\"*   *\", end= \"\")\n",
    "        print()\n",
    "    if i == 3:\n",
    "        print(\"*****\", end = \"\")\n",
    "        print()\n",
    "    if i > 3:\n",
    "        print(\"*   *\", end = \"\")\n",
    "        print()\n"
   ]
  },
  {
   "cell_type": "code",
   "execution_count": 181,
   "metadata": {},
   "outputs": [
    {
     "name": "stdout",
     "output_type": "stream",
     "text": [
      " *** \n",
      "*   *\n",
      "*   *\n",
      "*****\n",
      "*   *\n",
      "*   *\n",
      "*   *\n"
     ]
    }
   ],
   "source": [
    "#5\n",
    "\n",
    "for i in range(7): #filas\n",
    "    if i == 0:\n",
    "        for j in range(5): #columnas\n",
    "            if 0 < j < 4:\n",
    "                print(\"*\", end = \"\")\n",
    "            else:\n",
    "                print(\" \", end = \"\")\n",
    "            \n",
    "    if i > 0 and i < 3 or i > 3 and i < 7:\n",
    "        for j in range(5):\n",
    "            if j == 0 or j == 4:\n",
    "                print(\"*\", end= \"\")\n",
    "            else:\n",
    "                print(\" \", end = \"\")\n",
    "    if i == 3:\n",
    "        for j in range(5):\n",
    "            print(\"*\", end= \"\")\n",
    "            \n",
    "    print()"
   ]
  },
  {
   "cell_type": "code",
   "execution_count": 201,
   "metadata": {},
   "outputs": [
    {
     "name": "stdout",
     "output_type": "stream",
     "text": [
      "[100, 102, 104, 106, 108, 110, 112, 114, 116, 118, 120, 122, 124, 126, 128, 130, 132, 134, 136, 138, 140, 142, 144, 146, 148, 150, 152, 154, 156, 158, 160, 162, 164, 166, 168, 170, 172, 174, 176, 178, 180, 182, 184, 186, 188, 190, 192, 194, 196, 198, 200, 202, 204, 206, 208, 210, 212, 214, 216, 218, 220, 222, 224, 226, 228, 230, 232, 234, 236, 238, 240, 242, 244, 246, 248, 250, 252, 254, 256, 258, 260, 262, 264, 266, 268, 270, 272, 274, 276, 278, 280, 282, 284, 286, 288, 290, 292, 294, 296, 298, 300, 302, 304, 306, 308, 310, 312, 314, 316, 318, 320, 322, 324, 326, 328, 330, 332, 334, 336, 338, 340, 342, 344, 346, 348, 350, 352, 354, 356, 358, 360, 362, 364, 366, 368, 370, 372, 374, 376, 378, 380, 382, 384, 386, 388, 390, 392, 394, 396, 398, 400]\n",
      "151\n"
     ]
    }
   ],
   "source": [
    "#6\n",
    "total = []\n",
    "numeros_pares = list(range(100, 401))\n",
    "for n in numeros_pares:\n",
    "    if n % 2 == 0:\n",
    "        total.append(n)\n",
    "\n",
    "print(total)\n",
    "print(len(total))\n",
    "\n"
   ]
  },
  {
   "cell_type": "code",
   "execution_count": 216,
   "metadata": {},
   "outputs": [
    {
     "name": "stdout",
     "output_type": "stream",
     "text": [
      "*****\n",
      "*    \n",
      "*    \n",
      "**** \n",
      "*    \n",
      "*    \n",
      "*****\n",
      "\n"
     ]
    }
   ],
   "source": [
    "#7\n",
    "\n",
    "for i in range(7):\n",
    "    if i == 0 or i == 6:\n",
    "        for j in range(5):\n",
    "            print(\"*\", end= \"\")\n",
    "    if i > 0 and i < 3 or i > 3 and i < 6:\n",
    "        for j in range(5):\n",
    "            if j == 0:\n",
    "                print(\"*\", end= \"\")\n",
    "            else:\n",
    "                print(\" \", end = \"\")\n",
    "    if i == 3:\n",
    "        for j in range(5):\n",
    "            if j != 4:\n",
    "                print(\"*\", end= \"\")\n",
    "            else: \n",
    "                print(\" \", end= \"\")\n",
    "    \n",
    "    print()"
   ]
  },
  {
   "cell_type": "code",
   "execution_count": 220,
   "metadata": {},
   "outputs": [
    {
     "name": "stdout",
     "output_type": "stream",
     "text": [
      "Cantidad de letras en el texto: 19\n",
      "Cantidad de números en el texto: 3\n"
     ]
    }
   ],
   "source": [
    "#8 contar la cantidad de digitos y letras que tiene un texto\n",
    "\n",
    "cantidad_letras = 0\n",
    "cantidad_numeros = 0\n",
    "\n",
    "texto = input(\"Escriba una frase:\")\n",
    "\n",
    "for c in texto:\n",
    "    if c.isnumeric():\n",
    "        cantidad_numeros += 1\n",
    "    elif c.isalpha():\n",
    "        cantidad_letras += 1\n",
    "\n",
    "print(\"Cantidad de letras en el texto:\" ,cantidad_letras)\n",
    "print(\"Cantidad de números en el texto:\" ,cantidad_numeros)\n",
    "\n"
   ]
  },
  {
   "cell_type": "code",
   "execution_count": 231,
   "metadata": {},
   "outputs": [
    {
     "name": "stdout",
     "output_type": "stream",
     "text": [
      " *******\n",
      "     *\n",
      "    *\n",
      "   *\n",
      "  *\n",
      " *\n",
      "******* \n"
     ]
    }
   ],
   "source": [
    "for i in range(7):\n",
    "    if i == 0:\n",
    "        print(\" \" + \"*\" * 7)\n",
    "    elif i == 1:\n",
    "        print(\" \" * 5 + \"*\")\n",
    "    elif i == 2:\n",
    "        print(\" \" * 4 + \"*\")\n",
    "    elif i == 3:\n",
    "        print(\" \" * 3 + \"*\")\n",
    "    elif i == 4:\n",
    "        print(\" \" * 2 + \"*\")\n",
    "    elif i == 5:\n",
    "        print(\" \" * 1 + \"*\")\n",
    "    else:\n",
    "        print(\"*\" * 7 + \" \")\n",
    "\n",
    "\n",
    "\n",
    "\n",
    "\n",
    "\n"
   ]
  },
  {
   "cell_type": "code",
   "execution_count": 237,
   "metadata": {},
   "outputs": [
    {
     "name": "stdout",
     "output_type": "stream",
     "text": [
      "55\n",
      "1\n",
      "10\n"
     ]
    }
   ],
   "source": [
    "#10 media, minimo, max\n",
    "numeros = list(range(1,11))\n",
    "suma = 0\n",
    "\n",
    "for n in numeros:\n",
    "    suma += n\n",
    "\n",
    "print(suma)\n",
    "\n",
    "minimo = numeros[0]\n",
    "\n",
    "for i in range(1,len(numeros)):\n",
    "    if numeros[i] < minimo:\n",
    "        minimo = numeros[i]\n",
    "\n",
    "print(minimo)\n",
    "\n",
    "maximo = numeros[0]\n",
    "\n",
    "for i in range(1,len(numeros)):\n",
    "    if numeros[i] > maximo:\n",
    "        minimo = numeros[i]\n",
    "\n",
    "print(minimo)\n"
   ]
  },
  {
   "cell_type": "code",
   "execution_count": 239,
   "metadata": {},
   "outputs": [
    {
     "name": "stdout",
     "output_type": "stream",
     "text": [
      "9.0\n",
      "24.0\n"
     ]
    }
   ],
   "source": [
    "#11\n",
    "numeros = []\n",
    "\n",
    "while True:\n",
    "    cadena = input(\"Escribe un numero o 'salir' para terminar\")\n",
    "\n",
    "    if cadena.lower() == \"salir\":\n",
    "        break\n",
    "\n",
    "    numeros.append(float(cadena))\n",
    "\n",
    "\n",
    "if len(numeros) > 0: \n",
    "    suma = 0\n",
    "    producto = 1\n",
    "\n",
    "    for n in numeros:\n",
    "        suma+= n\n",
    "        producto *= n\n",
    "    print(suma)\n",
    "    print(producto)\n",
    "\n",
    "else:\n",
    "    print(\"no hay numeros\")\n",
    "\n",
    "\n",
    "\n"
   ]
  }
 ],
 "metadata": {
  "kernelspec": {
   "display_name": "Python 3",
   "language": "python",
   "name": "python3"
  },
  "language_info": {
   "codemirror_mode": {
    "name": "ipython",
    "version": 3
   },
   "file_extension": ".py",
   "mimetype": "text/x-python",
   "name": "python",
   "nbconvert_exporter": "python",
   "pygments_lexer": "ipython3",
   "version": "3.11.0"
  },
  "orig_nbformat": 4
 },
 "nbformat": 4,
 "nbformat_minor": 2
}
