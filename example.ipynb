{
 "cells": [
  {
   "cell_type": "code",
   "execution_count": 8,
   "metadata": {},
   "outputs": [
    {
     "data": {
      "text/plain": [
       "7"
      ]
     },
     "execution_count": 8,
     "metadata": {},
     "output_type": "execute_result"
    }
   ],
   "source": [
    "import mi_modulo as mm\n",
    "\n",
    "mm.suma_2(a=2,b=5)\n"
   ]
  },
  {
   "cell_type": "code",
   "execution_count": 2,
   "metadata": {},
   "outputs": [
    {
     "data": {
      "text/plain": [
       "-66"
      ]
     },
     "execution_count": 2,
     "metadata": {},
     "output_type": "execute_result"
    }
   ],
   "source": [
    "#para importar cosas concretas o limitadas así no saturamos python\n",
    "from mi_modulo import suma_2\n",
    "\n",
    "suma_2(a=1, b=-67)"
   ]
  },
  {
   "cell_type": "code",
   "execution_count": 4,
   "metadata": {},
   "outputs": [
    {
     "name": "stdout",
     "output_type": "stream",
     "text": [
      "-66\n",
      "68\n"
     ]
    }
   ],
   "source": [
    "from mi_modulo import suma_2, resta_2\n",
    "\n",
    "print(suma_2(a=1, b=-67))\n",
    "print(resta_2(a=1, b=-67))"
   ]
  },
  {
   "cell_type": "code",
   "execution_count": 6,
   "metadata": {},
   "outputs": [
    {
     "name": "stdout",
     "output_type": "stream",
     "text": [
      "2\n"
     ]
    }
   ],
   "source": [
    "from mi_modulo import x\n",
    "print(x)"
   ]
  },
  {
   "cell_type": "code",
   "execution_count": 9,
   "metadata": {},
   "outputs": [
    {
     "ename": "ModuleNotFoundError",
     "evalue": "No module named 'pandas'",
     "output_type": "error",
     "traceback": [
      "\u001b[1;31m---------------------------------------------------------------------------\u001b[0m",
      "\u001b[1;31mModuleNotFoundError\u001b[0m                       Traceback (most recent call last)",
      "Cell \u001b[1;32mIn[9], line 2\u001b[0m\n\u001b[0;32m      1\u001b[0m \u001b[39m#para librerias externas se recomienda usar\u001b[39;00m\n\u001b[1;32m----> 2\u001b[0m \u001b[39mimport\u001b[39;00m \u001b[39mpandas\u001b[39;00m \u001b[39mas\u001b[39;00m \u001b[39mpd\u001b[39;00m\n\u001b[0;32m      3\u001b[0m \u001b[39mimport\u001b[39;00m \u001b[39mnumpy\u001b[39;00m \u001b[39mas\u001b[39;00m \u001b[39mnp\u001b[39;00m\n\u001b[0;32m      4\u001b[0m \u001b[39mimport\u001b[39;00m \u001b[39mtensorflow\u001b[39;00m \u001b[39mas\u001b[39;00m \u001b[39mtf\u001b[39;00m\n",
      "\u001b[1;31mModuleNotFoundError\u001b[0m: No module named 'pandas'"
     ]
    }
   ],
   "source": [
    "#para librerias externas se recomienda usar\n",
    "import pandas as pd\n",
    "import numpy as np\n",
    "import tensorflow as tf\n",
    "\n",
    "pd.read_csv()"
   ]
  },
  {
   "cell_type": "code",
   "execution_count": 10,
   "metadata": {},
   "outputs": [],
   "source": [
    "import mi_modulo as mm\n",
    "\n",
    "\n"
   ]
  },
  {
   "cell_type": "code",
   "execution_count": 11,
   "metadata": {},
   "outputs": [
    {
     "data": {
      "text/plain": [
       "5"
      ]
     },
     "execution_count": 11,
     "metadata": {},
     "output_type": "execute_result"
    }
   ],
   "source": [
    "mm.resta_2(a=10, b=5)"
   ]
  },
  {
   "cell_type": "code",
   "execution_count": 13,
   "metadata": {},
   "outputs": [
    {
     "name": "stdout",
     "output_type": "stream",
     "text": [
      "2\n",
      "4\n"
     ]
    }
   ],
   "source": [
    "print(x)\n",
    "x=4\n",
    "print(x)"
   ]
  },
  {
   "cell_type": "code",
   "execution_count": null,
   "metadata": {},
   "outputs": [],
   "source": [
    "#librerias que ya vienen por defecto\n",
    "\n"
   ]
  },
  {
   "cell_type": "code",
   "execution_count": 15,
   "metadata": {},
   "outputs": [
    {
     "data": {
      "text/plain": [
       "'w:\\\\data-science\\\\Learning-Data-Science\\\\mi_modulo.py'"
      ]
     },
     "execution_count": 15,
     "metadata": {},
     "output_type": "execute_result"
    }
   ],
   "source": [
    "import mi_modulo as mm\n",
    "\n",
    "mm.__file__"
   ]
  },
  {
   "cell_type": "code",
   "execution_count": 16,
   "metadata": {},
   "outputs": [
    {
     "data": {
      "text/plain": [
       "'c:\\\\Python311\\\\Lib\\\\random.py'"
      ]
     },
     "execution_count": 16,
     "metadata": {},
     "output_type": "execute_result"
    }
   ],
   "source": [
    "import random\n",
    "\n",
    "random.__file__"
   ]
  },
  {
   "cell_type": "code",
   "execution_count": 17,
   "metadata": {},
   "outputs": [],
   "source": [
    "# import os, pandas, sys\n",
    "\n",
    "import sys"
   ]
  },
  {
   "cell_type": "code",
   "execution_count": 18,
   "metadata": {},
   "outputs": [
    {
     "data": {
      "text/plain": [
       "['w:\\\\data-science\\\\Learning-Data-Science',\n",
       " 'c:\\\\Python311\\\\python311.zip',\n",
       " 'c:\\\\Python311\\\\Lib',\n",
       " 'c:\\\\Python311\\\\DLLs',\n",
       " '',\n",
       " 'C:\\\\Users\\\\Usuario\\\\AppData\\\\Roaming\\\\Python\\\\Python311\\\\site-packages',\n",
       " 'C:\\\\Users\\\\Usuario\\\\AppData\\\\Roaming\\\\Python\\\\Python311\\\\site-packages\\\\win32',\n",
       " 'C:\\\\Users\\\\Usuario\\\\AppData\\\\Roaming\\\\Python\\\\Python311\\\\site-packages\\\\win32\\\\lib',\n",
       " 'C:\\\\Users\\\\Usuario\\\\AppData\\\\Roaming\\\\Python\\\\Python311\\\\site-packages\\\\Pythonwin',\n",
       " 'c:\\\\Python311',\n",
       " 'c:\\\\Python311\\\\Lib\\\\site-packages']"
      ]
     },
     "execution_count": 18,
     "metadata": {},
     "output_type": "execute_result"
    }
   ],
   "source": [
    "#python deja importar todos los archivos .py que están dentro de las carpetas que aparecen con sys.path\n",
    "sys.path"
   ]
  },
  {
   "cell_type": "code",
   "execution_count": null,
   "metadata": {},
   "outputs": [],
   "source": [
    "# fichaero dentro de una carpeta que está dentro del directorio del archivo actual, es decir, desde donde se ejecuta este archivo jupiter notebook.\n",
    "\n",
    "# por ejemplo si este jupiter notebook está dentro de la carpeta \"nueva carpeta\", y además dentro de \"nueva carpeta\", se encuentra otra carpeta llamado \"otra_carpeta\" para acceder a ella seria con:\n",
    "# import otra_carpeta as oc\n",
    "\n",
    "import f.archivo_dentro_f as adf\n",
    "\n",
    "adf.f2()"
   ]
  },
  {
   "cell_type": "code",
   "execution_count": null,
   "metadata": {},
   "outputs": [],
   "source": [
    "#para añadir una nueva ruta que a un nivel superior, por lo que no se podría acceder con el '.'\n",
    "import sys\n",
    "sys.path\n",
    "\n",
    "nueva_carpeta = \"ruta de donde esta la carpeta\" #con la doble barra\n",
    "sys.path.append(nueva_carpeta)"
   ]
  },
  {
   "cell_type": "code",
   "execution_count": null,
   "metadata": {},
   "outputs": [],
   "source": [
    "# utilizar carpeta en cualquier pc\n",
    "\n",
    "import os\n",
    "\n",
    "#getcwd devuelve la ruta a la carpeta en la que estoy\n",
    "\n",
    "os.getcwd()"
   ]
  },
  {
   "cell_type": "code",
   "execution_count": null,
   "metadata": {},
   "outputs": [],
   "source": [
    "# todos los proyectos parten de una carpeta raiz\n",
    "# si añadimos la carpeta raiz a sys.path ya podriamos importar fácilmente con el punto '.'"
   ]
  },
  {
   "cell_type": "code",
   "execution_count": 2,
   "metadata": {},
   "outputs": [
    {
     "name": "stdout",
     "output_type": "stream",
     "text": [
      "w:\\data-science\\Learning-Data-Science\n",
      "w:\\data-science\n"
     ]
    },
    {
     "data": {
      "text/plain": [
       "['w:\\\\data-science\\\\Learning-Data-Science',\n",
       " 'c:\\\\Python311\\\\python311.zip',\n",
       " 'c:\\\\Python311\\\\Lib',\n",
       " 'c:\\\\Python311\\\\DLLs',\n",
       " '',\n",
       " 'C:\\\\Users\\\\Usuario\\\\AppData\\\\Roaming\\\\Python\\\\Python311\\\\site-packages',\n",
       " 'C:\\\\Users\\\\Usuario\\\\AppData\\\\Roaming\\\\Python\\\\Python311\\\\site-packages\\\\win32',\n",
       " 'C:\\\\Users\\\\Usuario\\\\AppData\\\\Roaming\\\\Python\\\\Python311\\\\site-packages\\\\win32\\\\lib',\n",
       " 'C:\\\\Users\\\\Usuario\\\\AppData\\\\Roaming\\\\Python\\\\Python311\\\\site-packages\\\\Pythonwin',\n",
       " 'c:\\\\Python311',\n",
       " 'c:\\\\Python311\\\\Lib\\\\site-packages',\n",
       " 'w:\\\\data-science']"
      ]
     },
     "execution_count": 2,
     "metadata": {},
     "output_type": "execute_result"
    }
   ],
   "source": [
    "import os, sys\n",
    "ruta = os.getcwd()  # si fuera un archivo.py seria con __file__\n",
    "print(ruta)\n",
    "\n",
    "for i in range(1):\n",
    "    ruta = os.path.dirname(ruta) #con esta línea va subiendo de nivel dentro de las carpetas, es decir, por encima\n",
    "    print(ruta)\n",
    "\n",
    "sys.path.append(ruta)\n",
    "sys.path"
   ]
  },
  {
   "cell_type": "code",
   "execution_count": 11,
   "metadata": {},
   "outputs": [],
   "source": [
    "\n",
    "class Humano():\n",
    "\n",
    "    def __init__(self, nombre, armadura, nivel, ataque, ojos=2, piernas=2, dientes=32, salud=100):\n",
    "        self.nombre = nombre\n",
    "        self.armadura = armadura\n",
    "        self.nivel = nivel\n",
    "        self.ataque = ataque\n",
    "        self.ojos = ojos\n",
    "        self.piernas = piernas\n",
    "        self.dientes = dientes\n",
    "        self.salud = salud\n"
   ]
  },
  {
   "cell_type": "code",
   "execution_count": 15,
   "metadata": {},
   "outputs": [
    {
     "ename": "NameError",
     "evalue": "name 'self' is not defined",
     "output_type": "error",
     "traceback": [
      "\u001b[1;31m---------------------------------------------------------------------------\u001b[0m",
      "\u001b[1;31mNameError\u001b[0m                                 Traceback (most recent call last)",
      "Cell \u001b[1;32mIn[15], line 4\u001b[0m\n\u001b[0;32m      1\u001b[0m pedro \u001b[39m=\u001b[39m Humano(nombre\u001b[39m=\u001b[39m\u001b[39m\"\u001b[39m\u001b[39mPedro\u001b[39m\u001b[39m\"\u001b[39m, armadura\u001b[39m=\u001b[39m\u001b[39m\"\u001b[39m\u001b[39mAcero\u001b[39m\u001b[39m\"\u001b[39m, nivel\u001b[39m=\u001b[39m\u001b[39m14\u001b[39m, ataque\u001b[39m=\u001b[39m\u001b[39m23\u001b[39m)\n\u001b[0;32m      3\u001b[0m pedro\u001b[39m.\u001b[39msalud\n\u001b[1;32m----> 4\u001b[0m \u001b[39mprint\u001b[39m(Humano(\u001b[39mself\u001b[39;49m\u001b[39m.\u001b[39mojos))\n",
      "\u001b[1;31mNameError\u001b[0m: name 'self' is not defined"
     ]
    }
   ],
   "source": [
    "pedro = Humano(nombre=\"Pedro\", armadura=\"Acero\", nivel=14, ataque=23)\n",
    "\n",
    "pedro.salud\n"
   ]
  },
  {
   "cell_type": "code",
   "execution_count": 80,
   "metadata": {},
   "outputs": [],
   "source": [
    "from claseOrco import Orco\n",
    "\n",
    "class Humano():\n",
    "\n",
    "    def __init__(self, nombre, armadura, nivel, ataque, ojos=2, piernas=2, dientes=32, salud=100):\n",
    "        self.ojos = ojos\n",
    "        self.piernas = piernas\n",
    "        self.dientes = dientes\n",
    "        self.nombre = nombre\n",
    "        self.armadura = armadura\n",
    "        self.nivel = nivel\n",
    "        self.ataque = ataque\n",
    "        self.salud = salud\n",
    "\n",
    "\n",
    "    def atacar(self, orco):\n",
    "        vida_Orco = Orco.salud - self.ataque + Orco.armadura\n",
    "        print(vida_Orco)\n",
    "\n",
    "    def no_vivo(self):\n",
    "        if self.salud <= 0:\n",
    "            return True\n",
    "        else:\n",
    "            return False\n",
    "\n",
    "    def atributos_actual(self):\n",
    "        print(\"Nombre: \", self.nombre, \" | \", \"Armadura: \", self.armadura, \" | \", \"Nivel: \", self.nivel, \" | \", \"Ataque: \", self.ataque, \" | \", \"Ojos: \", self.ojos, \" | \", \"Piernas: \", self.piernas, \" | \", \"Dientes: \", self.dientes, \" | \", \"Salud: \", self.salud, \" | \",)\n"
   ]
  },
  {
   "cell_type": "code",
   "execution_count": 81,
   "metadata": {},
   "outputs": [],
   "source": [
    "from claseHumano import Humano\n",
    "\n",
    "\n",
    "class Orco():\n",
    "\n",
    "    def __init__(self, nombre, armadura, nivel, ataque, ojos=2, piernas=2, dientes=56, salud=100):\n",
    "        self.ojos = ojos\n",
    "        self.piernas = piernas\n",
    "        self.dientes = dientes\n",
    "        self.nombre = nombre\n",
    "        self.armadura = armadura\n",
    "        self.nivel = nivel\n",
    "        self.ataque = ataque\n",
    "        self.salud = salud\n",
    "\n",
    "\n",
    "    def atacar(self, humano):\n",
    "        vida_humano = Humano.salud - self.ataque + Humano.armadura \n",
    "        print(vida_humano)\n",
    "\n",
    "    def no_vivo(self):\n",
    "        if self.salud <= 0:\n",
    "            return True\n",
    "        else:\n",
    "            return False\n",
    "\n",
    "    def atributos_actual(self):\n",
    "        print(\"Nombre: \", self.nombre, \" | \", \"Armadura: \", self.armadura, \" | \", \"Nivel: \", self.nivel, \" | \", \"Ataque: \", self.ataque, \" | \", \"Ojos: \", self.ojos, \" | \", \"Piernas: \", self.piernas, \" | \", \"Dientes: \", self.dientes, \" | \", \"Salud: \", self.salud, \" | \",)"
   ]
  },
  {
   "cell_type": "code",
   "execution_count": 82,
   "metadata": {},
   "outputs": [
    {
     "name": "stdout",
     "output_type": "stream",
     "text": [
      "Nombre:  Pedro  |  Armadura:  50  |  Nivel:  12  |  Ataque:  27  |  Ojos:  2  |  Piernas:  2  |  Dientes:  32  |  Salud:  100  | \n"
     ]
    }
   ],
   "source": [
    "pedro = Humano(nombre=\"Pedro\", armadura=50, nivel=12, ataque=27)\n",
    "pedro.atributos_actual()\n"
   ]
  },
  {
   "cell_type": "code",
   "execution_count": 83,
   "metadata": {},
   "outputs": [
    {
     "name": "stdout",
     "output_type": "stream",
     "text": [
      "Nombre:  Pepito  |  Armadura:  65  |  Nivel:  16  |  Ataque:  19  |  Ojos:  2  |  Piernas:  2  |  Dientes:  56  |  Salud:  100  | \n"
     ]
    },
    {
     "ename": "AttributeError",
     "evalue": "type object 'Humano' has no attribute 'salud'",
     "output_type": "error",
     "traceback": [
      "\u001b[1;31m---------------------------------------------------------------------------\u001b[0m",
      "\u001b[1;31mAttributeError\u001b[0m                            Traceback (most recent call last)",
      "Cell \u001b[1;32mIn[83], line 3\u001b[0m\n\u001b[0;32m      1\u001b[0m pepito \u001b[39m=\u001b[39m Orco(nombre\u001b[39m=\u001b[39m\u001b[39m\"\u001b[39m\u001b[39mPepito\u001b[39m\u001b[39m\"\u001b[39m, armadura\u001b[39m=\u001b[39m\u001b[39m65\u001b[39m, nivel\u001b[39m=\u001b[39m\u001b[39m16\u001b[39m, ataque\u001b[39m=\u001b[39m\u001b[39m19\u001b[39m)\n\u001b[0;32m      2\u001b[0m pepito\u001b[39m.\u001b[39matributos_actual()\n\u001b[1;32m----> 3\u001b[0m pepito\u001b[39m.\u001b[39;49matacar(humano\u001b[39m=\u001b[39;49mpedro)\n",
      "Cell \u001b[1;32mIn[81], line 18\u001b[0m, in \u001b[0;36mOrco.atacar\u001b[1;34m(self, humano)\u001b[0m\n\u001b[0;32m     17\u001b[0m \u001b[39mdef\u001b[39;00m \u001b[39matacar\u001b[39m(\u001b[39mself\u001b[39m, humano):\n\u001b[1;32m---> 18\u001b[0m     vida_humano \u001b[39m=\u001b[39m Humano\u001b[39m.\u001b[39;49msalud \u001b[39m-\u001b[39m \u001b[39mself\u001b[39m\u001b[39m.\u001b[39mataque \u001b[39m+\u001b[39m Humano\u001b[39m.\u001b[39marmadura \n\u001b[0;32m     19\u001b[0m     \u001b[39mprint\u001b[39m(vida_humano)\n",
      "\u001b[1;31mAttributeError\u001b[0m: type object 'Humano' has no attribute 'salud'"
     ]
    }
   ],
   "source": [
    "pepito = Orco(nombre=\"Pepito\", armadura=65, nivel=16, ataque=19)\n",
    "pepito.atributos_actual()\n",
    "pepito.atacar(Humano=pedro)"
   ]
  }
 ],
 "metadata": {
  "kernelspec": {
   "display_name": "Python 3",
   "language": "python",
   "name": "python3"
  },
  "language_info": {
   "codemirror_mode": {
    "name": "ipython",
    "version": 3
   },
   "file_extension": ".py",
   "mimetype": "text/x-python",
   "name": "python",
   "nbconvert_exporter": "python",
   "pygments_lexer": "ipython3",
   "version": "3.11.0"
  },
  "orig_nbformat": 4
 },
 "nbformat": 4,
 "nbformat_minor": 2
}
