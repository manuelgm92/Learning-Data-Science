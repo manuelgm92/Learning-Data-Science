{
 "cells": [
  {
   "cell_type": "markdown",
   "metadata": {},
   "source": [
    "# FUNCIONES"
   ]
  },
  {
   "cell_type": "code",
   "execution_count": 2,
   "metadata": {},
   "outputs": [
    {
     "name": "stdout",
     "output_type": "stream",
     "text": [
      "1\n",
      "None\n"
     ]
    }
   ],
   "source": [
    "def f():\n",
    "    print(1)\n",
    "\n",
    "print(f())"
   ]
  },
  {
   "cell_type": "code",
   "execution_count": 5,
   "metadata": {},
   "outputs": [
    {
     "name": "stdout",
     "output_type": "stream",
     "text": [
      "5\n"
     ]
    }
   ],
   "source": [
    "def f3(x, y=2):\n",
    "    print(x + y)\n",
    "\n",
    "f3(x=1, y=4)"
   ]
  },
  {
   "cell_type": "code",
   "execution_count": 6,
   "metadata": {},
   "outputs": [
    {
     "name": "stdout",
     "output_type": "stream",
     "text": [
      "3\n"
     ]
    }
   ],
   "source": [
    "f3(x=1)"
   ]
  },
  {
   "cell_type": "code",
   "execution_count": 7,
   "metadata": {},
   "outputs": [
    {
     "ename": "TypeError",
     "evalue": "f4() missing 1 required positional argument: 'x'",
     "output_type": "error",
     "traceback": [
      "\u001b[1;31m---------------------------------------------------------------------------\u001b[0m",
      "\u001b[1;31mTypeError\u001b[0m                                 Traceback (most recent call last)",
      "Cell \u001b[1;32mIn[7], line 5\u001b[0m\n\u001b[0;32m      2\u001b[0m     \u001b[39mprint\u001b[39m(x, y)\n\u001b[0;32m      3\u001b[0m     \u001b[39mreturn\u001b[39;00m(x, y)\n\u001b[1;32m----> 5\u001b[0m f4(y\u001b[39m=\u001b[39;49m\u001b[39m1\u001b[39;49m) \u001b[39m#da error porque no se le pasa el param x\u001b[39;00m\n",
      "\u001b[1;31mTypeError\u001b[0m: f4() missing 1 required positional argument: 'x'"
     ]
    }
   ],
   "source": [
    "def f4(x, y=2):\n",
    "    print(x, y)\n",
    "    return(x, y)\n",
    "\n",
    "f4(y=1) #da error porque no se le pasa el param x"
   ]
  },
  {
   "cell_type": "code",
   "execution_count": 8,
   "metadata": {},
   "outputs": [
    {
     "name": "stdout",
     "output_type": "stream",
     "text": [
      "<class 'tuple'>\n"
     ]
    }
   ],
   "source": [
    "x = 2, 4\n",
    "\n",
    "print(type(x))"
   ]
  },
  {
   "cell_type": "code",
   "execution_count": 12,
   "metadata": {},
   "outputs": [
    {
     "ename": "SyntaxError",
     "evalue": "non-default argument follows default argument (3044642201.py, line 1)",
     "output_type": "error",
     "traceback": [
      "\u001b[1;36m  Cell \u001b[1;32mIn[12], line 1\u001b[1;36m\u001b[0m\n\u001b[1;33m    def f5(x=1, y=2, z):\u001b[0m\n\u001b[1;37m                     ^\u001b[0m\n\u001b[1;31mSyntaxError\u001b[0m\u001b[1;31m:\u001b[0m non-default argument follows default argument\n"
     ]
    }
   ],
   "source": [
    "def f5(x=1, y=2, z):\n",
    "    print(x + y + z)\n",
    "    return(x + y + z)\n",
    "\n",
    "f5() # da error porque en cuanto un parámetro tenga un valor por defecto y sea opcional, entonces todos los que estén a su derecha han de ser opcionales, es decir, tener un valor por defecto."
   ]
  },
  {
   "cell_type": "code",
   "execution_count": 13,
   "metadata": {},
   "outputs": [
    {
     "name": "stdout",
     "output_type": "stream",
     "text": [
      "7\n"
     ]
    },
    {
     "data": {
      "text/plain": [
       "7"
      ]
     },
     "execution_count": 13,
     "metadata": {},
     "output_type": "execute_result"
    }
   ],
   "source": [
    "def f5(x=1, y=2, z=4):\n",
    "    print(x + y + z)\n",
    "    return(x + y + z)\n",
    "\n",
    "f5() "
   ]
  },
  {
   "cell_type": "markdown",
   "metadata": {},
   "source": [
    "# List comprehension\n",
    "\n",
    "## lista = [retorna for elem in lista]"
   ]
  },
  {
   "cell_type": "code",
   "execution_count": 14,
   "metadata": {},
   "outputs": [
    {
     "name": "stdout",
     "output_type": "stream",
     "text": [
      "S\n",
      "t\n",
      "r\n",
      "i\n",
      "n\n",
      "g\n"
     ]
    }
   ],
   "source": [
    "x = \"String\"\n",
    "for i in x:\n",
    "    print(i)"
   ]
  },
  {
   "cell_type": "code",
   "execution_count": 15,
   "metadata": {},
   "outputs": [
    {
     "name": "stdout",
     "output_type": "stream",
     "text": [
      "['h', 'u', 'm', 'a', 'n']\n"
     ]
    }
   ],
   "source": [
    "letters = []\n",
    "\n",
    "for letter in \"human\":\n",
    "    letters.append(letter)\n",
    "\n",
    "print(letters)"
   ]
  },
  {
   "cell_type": "code",
   "execution_count": 19,
   "metadata": {},
   "outputs": [
    {
     "name": "stdout",
     "output_type": "stream",
     "text": [
      "[1, 2, 3, 4]\n"
     ]
    }
   ],
   "source": [
    "lista = [2, 4, 6, 8] \n",
    "\n",
    "# lista = [retorna for elem in lista]\n",
    "\n",
    "lista = [elem // 2 for elem in lista]\n",
    "print(lista)"
   ]
  },
  {
   "cell_type": "code",
   "execution_count": 23,
   "metadata": {},
   "outputs": [
    {
     "data": {
      "text/plain": [
       "['M', 'a', 'n', 'u', 'e', 'l']"
      ]
     },
     "execution_count": 23,
     "metadata": {},
     "output_type": "execute_result"
    }
   ],
   "source": [
    "letras = []\n",
    "\n",
    "letras = [elem for elem in \"Manuel\"] # es como un append a una lista vacía\n",
    "letras"
   ]
  },
  {
   "cell_type": "code",
   "execution_count": 24,
   "metadata": {},
   "outputs": [
    {
     "data": {
      "text/plain": [
       "['2L', '4L', '6L', '8L']"
      ]
     },
     "execution_count": 24,
     "metadata": {},
     "output_type": "execute_result"
    }
   ],
   "source": [
    "lista = [2, 4, 6, 8] \n",
    "\n",
    "lista = [ str(elem) + \"L\" for elem in lista]\n",
    "lista"
   ]
  },
  {
   "cell_type": "code",
   "execution_count": 5,
   "metadata": {},
   "outputs": [
    {
     "data": {
      "text/plain": [
       "['aCONC', 'yCONC', 'zCONC', 'wCONC']"
      ]
     },
     "execution_count": 5,
     "metadata": {},
     "output_type": "execute_result"
    }
   ],
   "source": [
    "lista = [\"a\", \"y\", \"z\", \"w\"] \n",
    "def f_concatena(x):\n",
    "    return str(x) + \"CONC\"\n",
    "\n",
    "lista = [f_concatena(x = elem) for elem in lista]\n",
    "lista\n",
    "\n"
   ]
  },
  {
   "cell_type": "code",
   "execution_count": 8,
   "metadata": {},
   "outputs": [
    {
     "data": {
      "text/plain": [
       "[('a', 0), ('y', 1), ('z', 2), ('w', 3)]"
      ]
     },
     "execution_count": 8,
     "metadata": {},
     "output_type": "execute_result"
    }
   ],
   "source": [
    "lista = [\"a\", \"y\", \"z\", \"w\"] \n",
    "lista = [(x, i) for i, x in enumerate(lista)]\n",
    "lista"
   ]
  },
  {
   "cell_type": "code",
   "execution_count": 10,
   "metadata": {},
   "outputs": [
    {
     "data": {
      "text/plain": [
       "[2]"
      ]
     },
     "execution_count": 10,
     "metadata": {},
     "output_type": "execute_result"
    }
   ],
   "source": [
    "lista = [\"a\", \"y\", \"z\", \"w2\"] \n",
    "\n",
    "l = [len(elem) for elem in lista if len(elem) > 1]\n",
    "l"
   ]
  },
  {
   "cell_type": "code",
   "execution_count": 11,
   "metadata": {},
   "outputs": [
    {
     "name": "stdout",
     "output_type": "stream",
     "text": [
      "[0, 2, 4, 6, 8, 10, 12, 14, 16, 18, 19]\n"
     ]
    }
   ],
   "source": [
    "number_list = [x for x in range(20) if x % 2 == 0 or x == 19]\n",
    "print(number_list)"
   ]
  },
  {
   "cell_type": "code",
   "execution_count": 15,
   "metadata": {},
   "outputs": [
    {
     "name": "stdout",
     "output_type": "stream",
     "text": [
      "['Even', 'Odd', 'Even', 'Odd', 'Even', 'Odd', 'Even', 'Odd', 'Even', 'Odd']\n"
     ]
    }
   ],
   "source": [
    "obj = [\"Even\" if i%2==0 else \"Odd\" for i in range(10)] # cuando hay un else, solo funciona a la izquierda del for\n",
    "print(obj)"
   ]
  },
  {
   "cell_type": "markdown",
   "metadata": {},
   "source": [
    "# Dict comprehension"
   ]
  },
  {
   "cell_type": "code",
   "execution_count": 16,
   "metadata": {},
   "outputs": [
    {
     "data": {
      "text/plain": [
       "[0, 1, 2, 3, 4, 5, 6, 7, 8, 9]"
      ]
     },
     "execution_count": 16,
     "metadata": {},
     "output_type": "execute_result"
    }
   ],
   "source": [
    "d = {\"a\":1, \"b\":2}\n",
    "list(range(10))"
   ]
  },
  {
   "cell_type": "code",
   "execution_count": 17,
   "metadata": {},
   "outputs": [
    {
     "data": {
      "text/plain": [
       "{0: 0, 2: 4, 4: 16, 6: 36, 8: 64}"
      ]
     },
     "execution_count": 17,
     "metadata": {},
     "output_type": "execute_result"
    }
   ],
   "source": [
    "numbers = range(10)\n",
    "\n",
    "new_dict_comp = {n:n**2 for n in numbers if n%2 == 0}\n",
    "\n",
    "new_dict_comp"
   ]
  },
  {
   "cell_type": "code",
   "execution_count": 20,
   "metadata": {},
   "outputs": [
    {
     "name": "stdout",
     "output_type": "stream",
     "text": [
      "k: a\n",
      "v: 1\n",
      "---------\n",
      "k: b\n",
      "v: 2\n",
      "---------\n",
      "k: c\n",
      "v: 3\n",
      "---------\n",
      "k: d\n",
      "v: 4\n",
      "---------\n",
      "k: e\n",
      "v: 5\n",
      "---------\n"
     ]
    }
   ],
   "source": [
    "dict1 = {'a': 1, 'b': 2, 'c': 3, 'd': 4, 'e': 5}\n",
    "\n",
    "for k, v in dict1.items():\n",
    "    print(\"k:\", k)\n",
    "    print(\"v:\", v)\n",
    "    print(\"---------\")"
   ]
  },
  {
   "cell_type": "code",
   "execution_count": 22,
   "metadata": {},
   "outputs": [
    {
     "name": "stdout",
     "output_type": "stream",
     "text": [
      "('a', 1)\n",
      "t: a\n",
      "---------\n",
      "('b', 2)\n",
      "t: b\n",
      "---------\n",
      "('c', 3)\n",
      "t: c\n",
      "---------\n",
      "('d', 4)\n",
      "t: d\n",
      "---------\n",
      "('e', 5)\n",
      "t: e\n",
      "---------\n"
     ]
    }
   ],
   "source": [
    "dict1 = {'a': 1, 'b': 2, 'c': 3, 'd': 4, 'e': 5}\n",
    "\n",
    "for t in dict1.items():\n",
    "    print(t)\n",
    "    print(\"t:\", t[0])\n",
    "    print(\"---------\")"
   ]
  },
  {
   "cell_type": "code",
   "execution_count": 24,
   "metadata": {},
   "outputs": [
    {
     "name": "stdout",
     "output_type": "stream",
     "text": [
      "{'c': 1.5, 'd': 2.0, 'e': 2.5}\n"
     ]
    }
   ],
   "source": [
    "dict1 = {'a': 1, 'b': 2, 'c': 3, 'd': 4, 'e': 5}\n",
    "\n",
    "# Check for items greater than 2\n",
    "dict1_cond = {k:(v/2) for k,v in dict1.items() if v>2}\n",
    "\n",
    "print(dict1_cond)"
   ]
  },
  {
   "cell_type": "markdown",
   "metadata": {},
   "source": [
    "# zip"
   ]
  },
  {
   "cell_type": "code",
   "execution_count": 25,
   "metadata": {},
   "outputs": [
    {
     "name": "stdout",
     "output_type": "stream",
     "text": [
      "{'a': 1, 'b': 2, 'c': 3}\n"
     ]
    }
   ],
   "source": [
    "keys = ['a', 'b', 'c']\n",
    "values = [1, 2, 3]\n",
    "dictionary = dict(zip(keys, values))\n",
    "print(dictionary)"
   ]
  },
  {
   "cell_type": "code",
   "execution_count": 27,
   "metadata": {},
   "outputs": [
    {
     "name": "stdout",
     "output_type": "stream",
     "text": [
      "{'a': [1, 2, 4, 6, [0, 'a', [2, '6', ('a', {'x': 2})]]], 'b': [2], 'c': [3]}\n"
     ]
    }
   ],
   "source": [
    "keys = ['a', 'b', 'c']\n",
    "values = [[1, 2, 4, 6, [0,\"a\", [2, \"6\", (\"a\", {\"x\":2})]]], [2], [3]]\n",
    "dictionary = dict(zip(keys, values))\n",
    "print(dictionary)"
   ]
  },
  {
   "cell_type": "code",
   "execution_count": 28,
   "metadata": {},
   "outputs": [
    {
     "data": {
      "text/plain": [
       "2"
      ]
     },
     "execution_count": 28,
     "metadata": {},
     "output_type": "execute_result"
    }
   ],
   "source": [
    "x = [1, 2, 4, 6, [0,\"a\", [2, \"6\", (\"a\", {\"x\":2})]]]\n",
    "\n",
    "x[4][2][2][1][\"x\"]"
   ]
  },
  {
   "cell_type": "code",
   "execution_count": 30,
   "metadata": {},
   "outputs": [
    {
     "name": "stdout",
     "output_type": "stream",
     "text": [
      "2\n"
     ]
    }
   ],
   "source": [
    "for elem in x:\n",
    "    if isinstance(elem, list):\n",
    "        for elem2 in elem:\n",
    "            if isinstance(elem2, list):\n",
    "                for elem3 in elem2:\n",
    "                    if isinstance(elem3, tuple):\n",
    "                        for elem4 in elem3:\n",
    "                            if isinstance(elem4, dict):\n",
    "                                print(elem4[\"x\"])\n",
    "                                break"
   ]
  },
  {
   "cell_type": "markdown",
   "metadata": {},
   "source": [
    "# lambda functions"
   ]
  },
  {
   "cell_type": "code",
   "execution_count": null,
   "metadata": {},
   "outputs": [],
   "source": [
    "# a la izquierda de la igualdad \"=\" el nombre de la funcion, a la derecha lambda y los parametros y después de los 2 puntos : lo que retorna la función."
   ]
  },
  {
   "cell_type": "code",
   "execution_count": 6,
   "metadata": {},
   "outputs": [
    {
     "data": {
      "text/plain": [
       "'12'"
      ]
     },
     "execution_count": 6,
     "metadata": {},
     "output_type": "execute_result"
    }
   ],
   "source": [
    "nombre_funcion = lambda x: str(x+2)\n",
    "nombre_funcion(10)"
   ]
  },
  {
   "cell_type": "code",
   "execution_count": 7,
   "metadata": {},
   "outputs": [
    {
     "data": {
      "text/plain": [
       "'13'"
      ]
     },
     "execution_count": 7,
     "metadata": {},
     "output_type": "execute_result"
    }
   ],
   "source": [
    "f1 = lambda x, y, z: str(x+y+z)  \n",
    "f1(x=5, y=7, z=1)"
   ]
  },
  {
   "cell_type": "code",
   "execution_count": 10,
   "metadata": {},
   "outputs": [
    {
     "data": {
      "text/plain": [
       "[1, 2, 3, 4]"
      ]
     },
     "execution_count": 10,
     "metadata": {},
     "output_type": "execute_result"
    }
   ],
   "source": [
    "l = [2, 4, 6, 8]\n",
    "f2 = lambda elem: elem // 2\n",
    "lista = [f2(elem) for elem in l]\n",
    "lista"
   ]
  },
  {
   "cell_type": "code",
   "execution_count": 15,
   "metadata": {},
   "outputs": [
    {
     "data": {
      "text/plain": [
       "[2, 4, 'no', 6, 8]"
      ]
     },
     "execution_count": 15,
     "metadata": {},
     "output_type": "execute_result"
    }
   ],
   "source": [
    "l = [2, 4, 5, 6, 8]\n",
    "f3 = lambda x: x if x % 2 == 0 else \"no\"\n",
    "\n",
    "lista = [f3(x = elem) for elem in l]\n",
    "lista"
   ]
  },
  {
   "cell_type": "markdown",
   "metadata": {},
   "source": [
    "OOP --> Programación orientada a objetos\n"
   ]
  },
  {
   "cell_type": "code",
   "execution_count": null,
   "metadata": {},
   "outputs": [],
   "source": [
    "ojos = 2\n",
    "piernas = 2\n",
    "nombre = \"manuel\""
   ]
  },
  {
   "cell_type": "code",
   "execution_count": 19,
   "metadata": {},
   "outputs": [
    {
     "name": "stdout",
     "output_type": "stream",
     "text": [
      "Manuel\n",
      "30\n"
     ]
    },
    {
     "ename": "AttributeError",
     "evalue": "'Humano' object has no attribute 'sexo'",
     "output_type": "error",
     "traceback": [
      "\u001b[1;31m---------------------------------------------------------------------------\u001b[0m",
      "\u001b[1;31mAttributeError\u001b[0m                            Traceback (most recent call last)",
      "Cell \u001b[1;32mIn[19], line 14\u001b[0m\n\u001b[0;32m     12\u001b[0m \u001b[39mprint\u001b[39m(manuel\u001b[39m.\u001b[39mnombre)\n\u001b[0;32m     13\u001b[0m \u001b[39mprint\u001b[39m(manuel\u001b[39m.\u001b[39medad)\n\u001b[1;32m---> 14\u001b[0m \u001b[39mprint\u001b[39m(manuel\u001b[39m.\u001b[39;49msexo)\n",
      "\u001b[1;31mAttributeError\u001b[0m: 'Humano' object has no attribute 'sexo'"
     ]
    }
   ],
   "source": [
    "class Humano:\n",
    "\n",
    "    #funcion constructor\n",
    "    def __init__(self, n, edad, sexo, altura, color_pelo, ojos=2, piernas=2, especie=\"Homo Sapiens\", jkl=\"9\"):\n",
    "        # nombre del atributo de la clase humano <---> valor\n",
    "        self.nombre = nombre\n",
    "        self.edad=edad\n",
    "        self.sexo = sexo\n",
    "        self.altura = altura\n",
    "        self.color_pelo = color_pelo\n",
    "        self.ojos = ojos\n",
    "        self.piernas = piernas\n",
    "        self.especie = especie\n",
    "\n",
    "    def mostrar_piernas(self, piernas=19):\n",
    "        print(\"Este el valor de una variable piernas:\", piernas)\n",
    "        print(\"Este es el atributo piernas de humano:\", self.piernas)    \n",
    "\n",
    "# creando la instancia de humano\n",
    "manuel = Humano(n=\"Manuel\", edad=30, sexo=\"H\", altura=1.85, color_pelo=\"moreno\")\n",
    "\n",
    "print(manuel.nombre)\n",
    "print(manuel.edad)\n",
    "print(manuel.sexo) #hay que construir el atributo con self"
   ]
  },
  {
   "cell_type": "code",
   "execution_count": 28,
   "metadata": {},
   "outputs": [
    {
     "name": "stdout",
     "output_type": "stream",
     "text": [
      "Manuel\n",
      "30\n",
      "H\n"
     ]
    }
   ],
   "source": [
    "class Humano:\n",
    "\n",
    "    # función constructor\n",
    "    def __init__(self, n, edad, sexo, altura, color_pelo, ojos=2, piernas=2, especie=\"Homo Sapiens\", jkl=\"9\"):\n",
    "        # nombre del atributo de la clase Humano <-- --> valor.   Con self creamos el atributo\n",
    "        self.nombre = n\n",
    "        if edad < 89:\n",
    "            self.edad = edad\n",
    "        else:\n",
    "            self.edad = 89\n",
    "        self.sexo = sexo\n",
    "        self.altura = altura\n",
    "        self.color_pelo = color_pelo\n",
    "        self.ojos = ojos\n",
    "        self.piernas = piernas\n",
    "        self.especie = especie\n",
    "\n",
    "    def mostrar_piernas(self, piernas=19):\n",
    "        print(\"Este el valor de una variable piernas:\", piernas)\n",
    "        print(\"Este es el atributo piernas de humano:\", self.piernas)\n",
    "\n",
    "    def mostrar_atributos(self):\n",
    "        print(\"El nombre del humano es:\", self.nombre)\n",
    "        print(\"La edad del humano es:\", self.edad)\n",
    "        print(\"El sexo del humano es:\", self.sexo)\n",
    "        print(\"La altura del humano es:\", self.altura)\n",
    "        print(\"El color_pelo del humano es:\", self.color_pelo)\n",
    "        print(\"Los ojos del humano son:\", self.ojos)\n",
    "        print(\"El Nº Piernas del humano es:\", self.piernas)\n",
    "        print(\"La especie del humano es:\", self.especie)\n",
    "\n",
    "    def muestra_jkl(self, jkl):\n",
    "        self.jkl = jkl\n",
    "        print(\"self.jkl\", self.jkl)\n",
    "\n",
    "manuel = Humano(n=\"Manuel\", edad=30, sexo=\"H\", altura=1.86, ojos=2, color_pelo=\"Moreno\")\n",
    "\n",
    "print(manuel.nombre)\n",
    "print(manuel.edad) \n",
    "print(manuel.sexo) "
   ]
  },
  {
   "cell_type": "code",
   "execution_count": 29,
   "metadata": {},
   "outputs": [],
   "source": [
    "elvis = Humano(n=\"Elvis\", edad=51, sexo=\"H\", altura=1.83, ojos=2, color_pelo=\"Moreno\")"
   ]
  },
  {
   "cell_type": "code",
   "execution_count": 30,
   "metadata": {},
   "outputs": [
    {
     "name": "stdout",
     "output_type": "stream",
     "text": [
      "El nombre del humano es: Manuel\n",
      "La edad del humano es: 30\n",
      "El sexo del humano es: H\n",
      "La altura del humano es: 1.86\n",
      "El color_pelo del humano es: Moreno\n",
      "Los ojos del humano son: 2\n",
      "El Nº Piernas del humano es: 2\n",
      "La especie del humano es: Homo Sapiens\n"
     ]
    }
   ],
   "source": [
    "manuel.mostrar_atributos()"
   ]
  },
  {
   "cell_type": "code",
   "execution_count": 32,
   "metadata": {},
   "outputs": [
    {
     "data": {
      "text/plain": [
       "'Simba'"
      ]
     },
     "execution_count": 32,
     "metadata": {},
     "output_type": "execute_result"
    }
   ],
   "source": [
    "class Perro():\n",
    "    ojos = 2\n",
    "    nombre = \"Simba\"\n",
    "\n",
    "simba = Perro()\n",
    "simba.ojos\n",
    "simba.nombre"
   ]
  },
  {
   "cell_type": "code",
   "execution_count": 11,
   "metadata": {},
   "outputs": [
    {
     "data": {
      "text/plain": [
       "True"
      ]
     },
     "execution_count": 11,
     "metadata": {},
     "output_type": "execute_result"
    }
   ],
   "source": [
    "def scramble(str1,str2):\n",
    "    if str1[::-1] == str2:\n",
    "        return True\n",
    "    else: \n",
    "        return False\n",
    "\n",
    "\n",
    "scramble(\"unam\", \"manu\")"
   ]
  },
  {
   "cell_type": "code",
   "execution_count": 3,
   "metadata": {},
   "outputs": [
    {
     "name": "stdout",
     "output_type": "stream",
     "text": [
      "wldoqkr\n"
     ]
    }
   ],
   "source": [
    "scramble('rkqodlw', 'world') ==> True\n",
    "scramble('cedewaraaossoqqyt', 'codewars') ==> True\n",
    "scramble('katas', 'steak') ==> False\n",
    "s = \"rkqodlw\"\n",
    "print(s[::-1])"
   ]
  },
  {
   "cell_type": "code",
   "execution_count": 12,
   "metadata": {},
   "outputs": [
    {
     "data": {
      "text/plain": [
       "{'d', 'k', 'l', 'o', 'q', 'r', 'w'}"
      ]
     },
     "execution_count": 12,
     "metadata": {},
     "output_type": "execute_result"
    }
   ],
   "source": [
    "str1 = \"rkqodlw\"\n",
    "str2 = \"world\"\n",
    "\n",
    "for x in str1:\n",
    "    "
   ]
  }
 ],
 "metadata": {
  "kernelspec": {
   "display_name": "Python 3",
   "language": "python",
   "name": "python3"
  },
  "language_info": {
   "codemirror_mode": {
    "name": "ipython",
    "version": 3
   },
   "file_extension": ".py",
   "mimetype": "text/x-python",
   "name": "python",
   "nbconvert_exporter": "python",
   "pygments_lexer": "ipython3",
   "version": "3.11.0"
  },
  "orig_nbformat": 4
 },
 "nbformat": 4,
 "nbformat_minor": 2
}
