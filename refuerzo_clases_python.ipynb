{
 "cells": [
  {
   "cell_type": "code",
   "execution_count": 6,
   "metadata": {},
   "outputs": [
    {
     "name": "stdout",
     "output_type": "stream",
     "text": [
      "Renault Laguna\n",
      "Tesla Model 3\n",
      "El Renault Laguna se ha arrancado\n",
      "El Renault Laguna se ha parado\n",
      "El Tesla Model 3 se ha arrancado\n",
      "El Tesla Model 3 se ha parado\n"
     ]
    }
   ],
   "source": [
    "class Coche:\n",
    "    def __init__(self, marca, modelo):\n",
    "        self.marca = marca\n",
    "        self.modelo = modelo\n",
    "        self.arrancado = False\n",
    "\n",
    "    def arrancar(self):\n",
    "        self.arrancado = True\n",
    "        print(\"El\", self.marca, self.modelo, \"se ha arrancado\")\n",
    "\n",
    "    def parar(self):\n",
    "        self.arrancado = False\n",
    "        print(\"El\", self.marca, self.modelo, \"se ha parado\")\n",
    "\n",
    "laguna = Coche(\"Renault\", \"Laguna\")\n",
    "tesla = Coche(\"Tesla\", \"Model 3\")\n",
    "\n",
    "print(laguna.marca, laguna.modelo)\n",
    "print(tesla.marca, tesla.modelo)\n",
    "\n",
    "laguna.arrancar()\n",
    "laguna.parar()\n",
    "tesla.arrancar()\n",
    "tesla.parar()\n"
   ]
  },
  {
   "cell_type": "code",
   "execution_count": 60,
   "metadata": {},
   "outputs": [
    {
     "name": "stdout",
     "output_type": "stream",
     "text": [
      "Bitboss ha realizado 7 puntos de daño a Enemy\n",
      "Enemy ha muerto\n",
      "----------------\n",
      "Error, has introducido un valor negativo\n",
      "Bitboss:\n",
      "Fuerza: 10\n",
      "Inteligencia: 1\n",
      "Defensa: 5\n",
      "Vida: 100\n"
     ]
    }
   ],
   "source": [
    "class Personaje:\n",
    "    nombre = \"Default\"\n",
    "    fuerza = 0\n",
    "    inteligencia = 0\n",
    "    defensa = 0\n",
    "    vida = 0\n",
    "\n",
    "    def __init__(self, nombre, fuerza, inteligencia, defensa, vida):\n",
    "        self.nombre = nombre\n",
    "        self.fuerza = fuerza\n",
    "        self.inteligencia = inteligencia\n",
    "        self.defensa = defensa\n",
    "        self.vida = vida\n",
    "\n",
    "    def atributos(self):\n",
    "        print(self.nombre, \":\", sep=\"\")\n",
    "        print(\"Fuerza:\", self.fuerza)\n",
    "        print(\"Inteligencia:\", self.inteligencia)\n",
    "        print(\"Defensa:\", self.defensa)\n",
    "        print(\"Vida:\", self.vida)\n",
    "\n",
    "    def subir_nivel(self, fuerza, inteligencia, defensa):\n",
    "        self.fuerza = self.fuerza + fuerza\n",
    "        self.inteligencia = self.inteligencia + inteligencia\n",
    "        self.defensa = self.defensa + defensa\n",
    "\n",
    "    def esta_vivo(self):\n",
    "        return self.vida > 0\n",
    "\n",
    "    def __morir(self):\n",
    "        self.vida = 0\n",
    "        print(self.nombre, \"ha muerto\")\n",
    "\n",
    "    def daño(self, enemigo):\n",
    "        return self.fuerza - enemigo.defensa\n",
    "\n",
    "    def atacar(self, enemigo):\n",
    "        daño = self.daño(enemigo)\n",
    "        enemigo.vida = enemigo.vida - daño\n",
    "        print(self.nombre, \"ha realizado\", daño, \"puntos de daño a\", enemigo.nombre)\n",
    "        if enemigo.esta_vivo():\n",
    "            print(\"La vida de\", enemigo.nombre, \"es\", enemigo.vida)\n",
    "        else:\n",
    "            enemigo.__morir()\n",
    "    \n",
    "    def get_fuerza(self):\n",
    "        return self.fuerza\n",
    "    \n",
    "    def set__fuerza(self, fuerza):\n",
    "        if fuerza < 0:\n",
    "            print(\"Error, has introducido un valor negativo\")\n",
    "        else:\n",
    "            self.fuerza = fuerza\n",
    "\n",
    "mi_personaje = Personaje(nombre=\"Bitboss\", fuerza=10, inteligencia=1, defensa=5, vida=100)\n",
    "mi_enemigo = Personaje(nombre=\"Enemy\", fuerza=8, inteligencia=5, defensa=3, vida=5)\n",
    "\n",
    "\n",
    "mi_personaje.atacar(mi_enemigo)\n",
    "print(\"----------------\")\n",
    "mi_personaje.set__fuerza(-5)\n",
    "mi_personaje.atributos()"
   ]
  },
  {
   "cell_type": "code",
   "execution_count": 5,
   "metadata": {},
   "outputs": [
    {
     "name": "stdout",
     "output_type": "stream",
     "text": [
      "1\n"
     ]
    }
   ],
   "source": [
    "suma_lambda = lambda x, y: print(y) if x > y else None\n",
    "\n",
    "suma_lambda(x=2, y=1)"
   ]
  },
  {
   "cell_type": "code",
   "execution_count": 6,
   "metadata": {},
   "outputs": [
    {
     "data": {
      "text/plain": [
       "6"
      ]
     },
     "execution_count": 6,
     "metadata": {},
     "output_type": "execute_result"
    }
   ],
   "source": [
    "mult = lambda x, y, z: x * y * z\n",
    "mult(1,2,3)\n"
   ]
  },
  {
   "cell_type": "code",
   "execution_count": 13,
   "metadata": {},
   "outputs": [
    {
     "data": {
      "text/plain": [
       "2.0"
      ]
     },
     "execution_count": 13,
     "metadata": {},
     "output_type": "execute_result"
    }
   ],
   "source": [
    "import math\n",
    "\n",
    "raiz = lambda x: math.sqrt(x)\n",
    "\n",
    "raiz(4)"
   ]
  },
  {
   "cell_type": "code",
   "execution_count": 14,
   "metadata": {},
   "outputs": [
    {
     "data": {
      "text/plain": [
       "[2, 4, 68, 10]"
      ]
     },
     "execution_count": 14,
     "metadata": {},
     "output_type": "execute_result"
    }
   ],
   "source": [
    "lista = [1,2,34,5]\n",
    "\n",
    "lista_vacia = []\n",
    "\n",
    "for e in lista:\n",
    "    lista_vacia.append(e*2)\n",
    "\n",
    "lista_vacia"
   ]
  },
  {
   "cell_type": "code",
   "execution_count": 16,
   "metadata": {},
   "outputs": [
    {
     "data": {
      "text/plain": [
       "[2, 4, 68, 10]"
      ]
     },
     "execution_count": 16,
     "metadata": {},
     "output_type": "execute_result"
    }
   ],
   "source": [
    "list(map(lambda x: x*2, lista))\n"
   ]
  },
  {
   "cell_type": "code",
   "execution_count": 18,
   "metadata": {},
   "outputs": [
    {
     "data": {
      "text/plain": [
       "[False, True, False, False, True]"
      ]
     },
     "execution_count": 18,
     "metadata": {},
     "output_type": "execute_result"
    }
   ],
   "source": [
    "my_bolean = [3, False, True, True, False]\n",
    "\n",
    "my_bolean_lambda = list(map(lambda x: not x, my_bolean))\n",
    "my_bolean_lambda"
   ]
  },
  {
   "cell_type": "code",
   "execution_count": 25,
   "metadata": {},
   "outputs": [
    {
     "data": {
      "text/plain": [
       "['M', 'A', 'N', 'U', 'E', 'L']"
      ]
     },
     "execution_count": 25,
     "metadata": {},
     "output_type": "execute_result"
    }
   ],
   "source": [
    "s = \"manuel\"\n",
    "\n",
    "a = list(map(lambda x: x.upper(), s))\n",
    "a"
   ]
  },
  {
   "cell_type": "code",
   "execution_count": 26,
   "metadata": {},
   "outputs": [
    {
     "data": {
      "text/plain": [
       "'MANUEL'"
      ]
     },
     "execution_count": 26,
     "metadata": {},
     "output_type": "execute_result"
    }
   ],
   "source": [
    "sep=\"\"\n",
    "\n",
    "nueva_palabra = sep.join(a)\n",
    "nueva_palabra"
   ]
  },
  {
   "cell_type": "code",
   "execution_count": 32,
   "metadata": {},
   "outputs": [
    {
     "data": {
      "text/plain": [
       "[1, 5, 4, 6, 8, 11, 3, 12]"
      ]
     },
     "execution_count": 32,
     "metadata": {},
     "output_type": "execute_result"
    }
   ],
   "source": [
    "prmy_list = ['1', '5', '4', '6', '8', '11', '3', '12']\n",
    "\n",
    "list(map(lambda x: int(x), prmy_list))"
   ]
  },
  {
   "cell_type": "code",
   "execution_count": 36,
   "metadata": {},
   "outputs": [
    {
     "data": {
      "text/plain": [
       "['W-a', 'W-b', 'W-c']"
      ]
     },
     "execution_count": 36,
     "metadata": {},
     "output_type": "execute_result"
    }
   ],
   "source": [
    "my_dict = {\"a\": 1, \"b\": 2, \"c\": 3}\n",
    "ya = lambda x: \"W-\" + x \n",
    "list(map(ya, my_dict))"
   ]
  },
  {
   "cell_type": "code",
   "execution_count": 41,
   "metadata": {},
   "outputs": [
    {
     "data": {
      "text/plain": [
       "[2, 3, 4]"
      ]
     },
     "execution_count": 41,
     "metadata": {},
     "output_type": "execute_result"
    }
   ],
   "source": [
    "my_dict = {\"a\": 1, \"b\": 2, \"c\": 3}\n",
    "ya = lambda x: 1 + x\n",
    "list(map(ya, my_dict.values()))"
   ]
  },
  {
   "cell_type": "code",
   "execution_count": 42,
   "metadata": {},
   "outputs": [
    {
     "data": {
      "text/plain": [
       "10"
      ]
     },
     "execution_count": 42,
     "metadata": {},
     "output_type": "execute_result"
    }
   ],
   "source": [
    "# reduce\n",
    "\n",
    "from functools import reduce\n",
    "\n",
    "numbers = [1,2,3,4]\n",
    "\n",
    "reduce(lambda x,y: x+y, numbers)"
   ]
  },
  {
   "cell_type": "code",
   "execution_count": 44,
   "metadata": {},
   "outputs": [
    {
     "data": {
      "text/plain": [
       "120"
      ]
     },
     "execution_count": 44,
     "metadata": {},
     "output_type": "execute_result"
    }
   ],
   "source": [
    "tupla = (2,3,4,5)\n",
    "\n",
    "from functools import reduce\n",
    "\n",
    "reduce(lambda x,y: x*y ,tupla)"
   ]
  },
  {
   "cell_type": "code",
   "execution_count": 47,
   "metadata": {},
   "outputs": [
    {
     "data": {
      "text/plain": [
       "'Python - Java - Javascript - Ruby'"
      ]
     },
     "execution_count": 47,
     "metadata": {},
     "output_type": "execute_result"
    }
   ],
   "source": [
    "lista_string = [\"Python\", \"Java\", \"Javascript\", \"Ruby\"]\n",
    "\n",
    "from functools import reduce\n",
    "\n",
    "reduce(lambda x, y: x + \" - \" + y, lista_string)"
   ]
  }
 ],
 "metadata": {
  "kernelspec": {
   "display_name": "Python 3",
   "language": "python",
   "name": "python3"
  },
  "language_info": {
   "codemirror_mode": {
    "name": "ipython",
    "version": 3
   },
   "file_extension": ".py",
   "mimetype": "text/x-python",
   "name": "python",
   "nbconvert_exporter": "python",
   "pygments_lexer": "ipython3",
   "version": "3.11.0"
  },
  "orig_nbformat": 4
 },
 "nbformat": 4,
 "nbformat_minor": 2
}
