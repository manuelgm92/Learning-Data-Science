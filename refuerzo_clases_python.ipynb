{
 "cells": [
  {
   "cell_type": "code",
   "execution_count": 6,
   "metadata": {},
   "outputs": [
    {
     "name": "stdout",
     "output_type": "stream",
     "text": [
      "Renault Laguna\n",
      "Tesla Model 3\n",
      "El Renault Laguna se ha arrancado\n",
      "El Renault Laguna se ha parado\n",
      "El Tesla Model 3 se ha arrancado\n",
      "El Tesla Model 3 se ha parado\n"
     ]
    }
   ],
   "source": [
    "class Coche:\n",
    "    def __init__(self, marca, modelo):\n",
    "        self.marca = marca\n",
    "        self.modelo = modelo\n",
    "        self.arrancado = False\n",
    "\n",
    "    def arrancar(self):\n",
    "        self.arrancado = True\n",
    "        print(\"El\", self.marca, self.modelo, \"se ha arrancado\")\n",
    "\n",
    "    def parar(self):\n",
    "        self.arrancado = False\n",
    "        print(\"El\", self.marca, self.modelo, \"se ha parado\")\n",
    "\n",
    "laguna = Coche(\"Renault\", \"Laguna\")\n",
    "tesla = Coche(\"Tesla\", \"Model 3\")\n",
    "\n",
    "print(laguna.marca, laguna.modelo)\n",
    "print(tesla.marca, tesla.modelo)\n",
    "\n",
    "laguna.arrancar()\n",
    "laguna.parar()\n",
    "tesla.arrancar()\n",
    "tesla.parar()\n"
   ]
  },
  {
   "cell_type": "code",
   "execution_count": 60,
   "metadata": {},
   "outputs": [
    {
     "name": "stdout",
     "output_type": "stream",
     "text": [
      "Bitboss ha realizado 7 puntos de daño a Enemy\n",
      "Enemy ha muerto\n",
      "----------------\n",
      "Error, has introducido un valor negativo\n",
      "Bitboss:\n",
      "Fuerza: 10\n",
      "Inteligencia: 1\n",
      "Defensa: 5\n",
      "Vida: 100\n"
     ]
    }
   ],
   "source": [
    "class Personaje:\n",
    "    nombre = \"Default\"\n",
    "    fuerza = 0\n",
    "    inteligencia = 0\n",
    "    defensa = 0\n",
    "    vida = 0\n",
    "\n",
    "    def __init__(self, nombre, fuerza, inteligencia, defensa, vida):\n",
    "        self.nombre = nombre\n",
    "        self.fuerza = fuerza\n",
    "        self.inteligencia = inteligencia\n",
    "        self.defensa = defensa\n",
    "        self.vida = vida\n",
    "\n",
    "    def atributos(self):\n",
    "        print(self.nombre, \":\", sep=\"\")\n",
    "        print(\"Fuerza:\", self.fuerza)\n",
    "        print(\"Inteligencia:\", self.inteligencia)\n",
    "        print(\"Defensa:\", self.defensa)\n",
    "        print(\"Vida:\", self.vida)\n",
    "\n",
    "    def subir_nivel(self, fuerza, inteligencia, defensa):\n",
    "        self.fuerza = self.fuerza + fuerza\n",
    "        self.inteligencia = self.inteligencia + inteligencia\n",
    "        self.defensa = self.defensa + defensa\n",
    "\n",
    "    def esta_vivo(self):\n",
    "        return self.vida > 0\n",
    "\n",
    "    def __morir(self):\n",
    "        self.vida = 0\n",
    "        print(self.nombre, \"ha muerto\")\n",
    "\n",
    "    def daño(self, enemigo):\n",
    "        return self.fuerza - enemigo.defensa\n",
    "\n",
    "    def atacar(self, enemigo):\n",
    "        daño = self.daño(enemigo)\n",
    "        enemigo.vida = enemigo.vida - daño\n",
    "        print(self.nombre, \"ha realizado\", daño, \"puntos de daño a\", enemigo.nombre)\n",
    "        if enemigo.esta_vivo():\n",
    "            print(\"La vida de\", enemigo.nombre, \"es\", enemigo.vida)\n",
    "        else:\n",
    "            enemigo.__morir()\n",
    "    \n",
    "    def get_fuerza(self):\n",
    "        return self.fuerza\n",
    "    \n",
    "    def set__fuerza(self, fuerza):\n",
    "        if fuerza < 0:\n",
    "            print(\"Error, has introducido un valor negativo\")\n",
    "        else:\n",
    "            self.fuerza = fuerza\n",
    "\n",
    "mi_personaje = Personaje(nombre=\"Bitboss\", fuerza=10, inteligencia=1, defensa=5, vida=100)\n",
    "mi_enemigo = Personaje(nombre=\"Enemy\", fuerza=8, inteligencia=5, defensa=3, vida=5)\n",
    "\n",
    "\n",
    "mi_personaje.atacar(mi_enemigo)\n",
    "print(\"----------------\")\n",
    "mi_personaje.set__fuerza(-5)\n",
    "mi_personaje.atributos()"
   ]
  },
  {
   "cell_type": "code",
   "execution_count": 5,
   "metadata": {},
   "outputs": [
    {
     "name": "stdout",
     "output_type": "stream",
     "text": [
      "1\n"
     ]
    }
   ],
   "source": [
    "suma_lambda = lambda x, y: print(y) if x > y else None\n",
    "\n",
    "suma_lambda(x=2, y=1)"
   ]
  },
  {
   "cell_type": "code",
   "execution_count": 6,
   "metadata": {},
   "outputs": [
    {
     "data": {
      "text/plain": [
       "6"
      ]
     },
     "execution_count": 6,
     "metadata": {},
     "output_type": "execute_result"
    }
   ],
   "source": [
    "mult = lambda x, y, z: x * y * z\n",
    "mult(1,2,3)\n"
   ]
  },
  {
   "cell_type": "code",
   "execution_count": 13,
   "metadata": {},
   "outputs": [
    {
     "data": {
      "text/plain": [
       "2.0"
      ]
     },
     "execution_count": 13,
     "metadata": {},
     "output_type": "execute_result"
    }
   ],
   "source": [
    "import math\n",
    "\n",
    "raiz = lambda x: math.sqrt(x)\n",
    "\n",
    "raiz(4)"
   ]
  }
 ],
 "metadata": {
  "kernelspec": {
   "display_name": "Python 3",
   "language": "python",
   "name": "python3"
  },
  "language_info": {
   "codemirror_mode": {
    "name": "ipython",
    "version": 3
   },
   "file_extension": ".py",
   "mimetype": "text/x-python",
   "name": "python",
   "nbconvert_exporter": "python",
   "pygments_lexer": "ipython3",
   "version": "3.11.0"
  },
  "orig_nbformat": 4
 },
 "nbformat": 4,
 "nbformat_minor": 2
}
